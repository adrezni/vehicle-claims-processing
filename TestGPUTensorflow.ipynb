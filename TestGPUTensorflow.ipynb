{
 "cells": [
  {
   "cell_type": "markdown",
   "id": "false-basketball",
   "metadata": {},
   "source": [
    "Script to test GPU availability in Tensorflow"
   ]
  },
  {
   "cell_type": "code",
   "execution_count": null,
   "id": "alternative-discount",
   "metadata": {},
   "outputs": [],
   "source": [
    "import numpy as np # linear algebra\n",
    "import pandas as pd # data processing, CSV file I/O (e.g. pd.read_csv)\n",
    "import tensorflow as tf"
   ]
  },
  {
   "cell_type": "code",
   "execution_count": null,
   "id": "decent-brooks",
   "metadata": {},
   "outputs": [],
   "source": [
    "#check GPU availablity\n",
    "gpus = tf.config.experimental.list_physical_devices('GPU')\n",
    "for gpu in gpus:\n",
    "    print(\"Name:\", gpu.name, \"  Type:\", gpu.device_type)\n",
    "    \n",
    "#should see Name: /physical_device:GPU:0   Type: GPU"
   ]
  },
  {
   "cell_type": "code",
   "execution_count": null,
   "id": "extraordinary-amber",
   "metadata": {},
   "outputs": [],
   "source": [
    "#List Devices including GPUs with Tensorflow\n",
    "\n",
    "from tensorflow.python.client import device_lib\n",
    "\n",
    "device_lib.list_local_devices()\n",
    "\n",
    "#should see name: \"/device:CPU:0\"\n",
    " #device_type: \"CPU\"\n",
    " #memory_limit: 268435456\n",
    " #locality {\n",
    " #}\n",
    " #incarnation: 9642244910482137207,\n",
    " #name: \"/device:XLA_CPU:0\"\n",
    " #device_type: \"XLA_CPU\"\n",
    " #memory_limit: 17179869184"
   ]
  },
  {
   "cell_type": "code",
   "execution_count": null,
   "id": "polish-tattoo",
   "metadata": {},
   "outputs": [],
   "source": [
    "#Check GPU in Tensorflow\n",
    "tf.test.is_gpu_available()\n",
    "\n",
    "#should see  True"
   ]
  },
  {
   "cell_type": "code",
   "execution_count": null,
   "id": "foreign-therapist",
   "metadata": {},
   "outputs": [],
   "source": [
    "#Load MNiSt Dataset\n",
    "\n",
    "mnist = tf.keras.datasets.mnist\n",
    "\n",
    "(x_train, y_train), (x_test, y_test) = mnist.load_data()\n",
    "\n",
    "#should see  Downloading data from https://storage.googleapis.com/tensorflow/tf-keras-datasets/mnist.npz\n",
    "#11493376/11490434 [==============================] - 0s 0us/step"
   ]
  },
  {
   "cell_type": "code",
   "execution_count": null,
   "id": "committed-middle",
   "metadata": {},
   "outputs": [],
   "source": [
    "#Pre-processing of Training and Test Datasets\n",
    "x_train, x_test = x_train / 255.0, x_test / 255.0\n"
   ]
  },
  {
   "cell_type": "code",
   "execution_count": null,
   "id": "minimal-think",
   "metadata": {},
   "outputs": [],
   "source": [
    "#Create Sequential Model using Tensorflow Keras\n",
    "\n",
    "model = tf.keras.models.Sequential([\n",
    "  tf.keras.layers.Flatten(input_shape=(28, 28)),\n",
    "  tf.keras.layers.Dense(128, activation='relu'),\n",
    "  tf.keras.layers.Dropout(0.2),\n",
    "  tf.keras.layers.Dense(10)\n",
    "])"
   ]
  },
  {
   "cell_type": "code",
   "execution_count": null,
   "id": "understood-grammar",
   "metadata": {},
   "outputs": [],
   "source": [
    "predictions = model(x_train[:1]).numpy()\n",
    "predictions"
   ]
  },
  {
   "cell_type": "code",
   "execution_count": null,
   "id": "aquatic-traveler",
   "metadata": {},
   "outputs": [],
   "source": [
    "#create loss function\n",
    "loss_fn = tf.keras.losses.SparseCategoricalCrossentropy(from_logits=True)"
   ]
  },
  {
   "cell_type": "markdown",
   "id": "urban-piano",
   "metadata": {},
   "source": [
    "Compile the Model Designed Earlier\n",
    "Before the model is ready for training, it needs a few more settings. These are added during the model's compile step:\n",
    "\n",
    "Loss function This measures how accurate the model is during training. You want to minimize this function to \"steer\" the model in the right direction.\n",
    "\n",
    "Optimizer This is how the model is updated based on the data it sees and its loss function.\n",
    "\n",
    "Metrics Used to monitor the training and testing steps. The following example uses accuracy, the fraction of the images that are correctly classified.\n"
   ]
  },
  {
   "cell_type": "code",
   "execution_count": null,
   "id": "caroline-queue",
   "metadata": {},
   "outputs": [],
   "source": [
    "model.compile(optimizer='adam',\n",
    "              loss=loss_fn,\n",
    "              metrics=['accuracy'])"
   ]
  },
  {
   "cell_type": "markdown",
   "id": "casual-accent",
   "metadata": {},
   "source": [
    "Training and Validation\n",
    "The Model.fit method adjusts the model parameters to minimize the loss:"
   ]
  },
  {
   "cell_type": "code",
   "execution_count": null,
   "id": "surprising-plaintiff",
   "metadata": {},
   "outputs": [],
   "source": [
    "model.fit(x_train, y_train, epochs=5)\n",
    "\n",
    "#should see \n",
    "#Train on 60000 samples\n",
    "#Epoch 1/5\n",
    "#60000/60000 [==============================] - 5s 81us/sample - loss: 0.2936 - accuracy: 0.9143\n",
    "#Epoch 2/5\n",
    "#60000/60000 [==============================] - 5s 77us/sample - loss: 0.1403 - accuracy: 0.9588"
   ]
  },
  {
   "cell_type": "code",
   "execution_count": null,
   "id": "running-township",
   "metadata": {},
   "outputs": [],
   "source": [
    "# The Model.evaluate method checks the models performance, usually on a \"Validation-set\" or \"Test-set\".\n",
    "\n",
    "model.evaluate(x_test,  y_test, verbose=2)\n",
    "\n",
    "#should see\n",
    "#10000/10000 - 1s - loss: 0.0696 - accuracy: 0.9764\n",
    "#[0.06958451116532087, 0.9764]"
   ]
  },
  {
   "cell_type": "code",
   "execution_count": null,
   "id": "available-census",
   "metadata": {},
   "outputs": [],
   "source": []
  }
 ],
 "metadata": {
  "kernelspec": {
   "display_name": "Python 3",
   "language": "python",
   "name": "python3"
  },
  "language_info": {
   "codemirror_mode": {
    "name": "ipython",
    "version": 3
   },
   "file_extension": ".py",
   "mimetype": "text/x-python",
   "name": "python",
   "nbconvert_exporter": "python",
   "pygments_lexer": "ipython3",
   "version": "3.8.3"
  }
 },
 "nbformat": 4,
 "nbformat_minor": 5
}
