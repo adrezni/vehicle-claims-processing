{
 "cells": [
  {
   "cell_type": "markdown",
   "metadata": {},
   "source": [
    "Data Generation\n",
    "\n",
    "Data was generated in 2 steps:\n",
    "1. Initial Data was captured internally via Google Form which asked users for car issues they currently have or had in the past\n",
    "2. Classified that data into:  brakes, starter, other\n",
    "3. Took this 'training set' and used Markovify to generate more data for our tutorial\n"
   ]
  },
  {
   "cell_type": "code",
   "execution_count": 1,
   "metadata": {},
   "outputs": [
    {
     "name": "stdout",
     "output_type": "stream",
     "text": [
      "Requirement already satisfied: markovify==0.9.0 in /opt/app-root/lib/python3.6/site-packages (from -r requirements.txt (line 1)) (0.9.0)\n",
      "Requirement already satisfied: nltk==3.5 in /opt/app-root/lib/python3.6/site-packages (from -r requirements.txt (line 2)) (3.5)\n",
      "Requirement already satisfied: numpy==1.19.0 in /opt/app-root/lib/python3.6/site-packages (from -r requirements.txt (line 3)) (1.19.0)\n",
      "Requirement already satisfied: pandas==0.23.1 in /opt/app-root/lib/python3.6/site-packages (from -r requirements.txt (line 4)) (0.23.1)\n",
      "Requirement already satisfied: regex==2020.1.8 in /opt/app-root/lib/python3.6/site-packages (from -r requirements.txt (line 5)) (2020.1.8)\n",
      "Requirement already satisfied: seaborn==0.11.1 in /opt/app-root/lib/python3.6/site-packages (from -r requirements.txt (line 6)) (0.11.1)\n",
      "Requirement already satisfied: wrapt==1.11.1 in /opt/app-root/lib/python3.6/site-packages (from -r requirements.txt (line 7)) (1.11.1)\n",
      "Requirement already satisfied: spacy==2.0.0 in /opt/app-root/lib/python3.6/site-packages (from -r requirements.txt (line 8)) (2.0.0)\n",
      "Requirement already satisfied: unidecode in /opt/app-root/lib/python3.6/site-packages (from markovify==0.9.0->-r requirements.txt (line 1)) (1.2.0)\n",
      "Requirement already satisfied: click in /opt/app-root/lib/python3.6/site-packages (from nltk==3.5->-r requirements.txt (line 2)) (7.1.2)\n",
      "Requirement already satisfied: joblib in /opt/app-root/lib/python3.6/site-packages (from nltk==3.5->-r requirements.txt (line 2)) (1.0.1)\n",
      "Requirement already satisfied: tqdm in /opt/app-root/lib/python3.6/site-packages (from nltk==3.5->-r requirements.txt (line 2)) (4.51.0)\n",
      "Requirement already satisfied: python-dateutil>=2.5.0 in /opt/app-root/lib/python3.6/site-packages (from pandas==0.23.1->-r requirements.txt (line 4)) (2.8.1)\n",
      "Requirement already satisfied: pytz>=2011k in /opt/app-root/lib/python3.6/site-packages (from pandas==0.23.1->-r requirements.txt (line 4)) (2020.1)\n",
      "Requirement already satisfied: matplotlib>=2.2 in /opt/app-root/lib/python3.6/site-packages (from seaborn==0.11.1->-r requirements.txt (line 6)) (3.3.4)\n",
      "Requirement already satisfied: scipy>=1.0 in /opt/app-root/lib/python3.6/site-packages (from seaborn==0.11.1->-r requirements.txt (line 6)) (1.5.4)\n",
      "Requirement already satisfied: preshed<2.0.0,>=1.0.0 in /opt/app-root/lib/python3.6/site-packages (from spacy==2.0.0->-r requirements.txt (line 8)) (1.0.1)\n",
      "Requirement already satisfied: six in /opt/app-root/lib/python3.6/site-packages (from spacy==2.0.0->-r requirements.txt (line 8)) (1.15.0)\n",
      "Requirement already satisfied: pathlib in /opt/app-root/lib/python3.6/site-packages (from spacy==2.0.0->-r requirements.txt (line 8)) (1.0.1)\n",
      "Requirement already satisfied: thinc<6.11.0,>=6.10.0 in /opt/app-root/lib/python3.6/site-packages (from spacy==2.0.0->-r requirements.txt (line 8)) (6.10.3)\n",
      "Requirement already satisfied: dill<0.3,>=0.2 in /opt/app-root/lib/python3.6/site-packages (from spacy==2.0.0->-r requirements.txt (line 8)) (0.2.9)\n",
      "Requirement already satisfied: msgpack-numpy in /opt/app-root/lib/python3.6/site-packages (from spacy==2.0.0->-r requirements.txt (line 8)) (0.4.7.1)\n",
      "Requirement already satisfied: msgpack-python in /opt/app-root/lib/python3.6/site-packages (from spacy==2.0.0->-r requirements.txt (line 8)) (0.5.6)\n",
      "Requirement already satisfied: murmurhash<0.29,>=0.28 in /opt/app-root/lib/python3.6/site-packages (from spacy==2.0.0->-r requirements.txt (line 8)) (0.28.0)\n",
      "Requirement already satisfied: ftfy<5.0.0,>=4.4.2 in /opt/app-root/lib/python3.6/site-packages (from spacy==2.0.0->-r requirements.txt (line 8)) (4.4.3)\n",
      "Requirement already satisfied: plac<1.0.0,>=0.9.6 in /opt/app-root/lib/python3.6/site-packages (from spacy==2.0.0->-r requirements.txt (line 8)) (0.9.6)\n",
      "Requirement already satisfied: cymem<1.32,>=1.30 in /opt/app-root/lib/python3.6/site-packages (from spacy==2.0.0->-r requirements.txt (line 8)) (1.31.2)\n",
      "Requirement already satisfied: ujson>=1.35 in /opt/app-root/lib/python3.6/site-packages (from spacy==2.0.0->-r requirements.txt (line 8)) (4.0.2)\n",
      "Requirement already satisfied: requests<3.0.0,>=2.13.0 in /opt/app-root/lib/python3.6/site-packages (from spacy==2.0.0->-r requirements.txt (line 8)) (2.24.0)\n",
      "Requirement already satisfied: kiwisolver>=1.0.1 in /opt/app-root/lib/python3.6/site-packages (from matplotlib>=2.2->seaborn==0.11.1->-r requirements.txt (line 6)) (1.3.1)\n",
      "Requirement already satisfied: pillow>=6.2.0 in /opt/app-root/lib/python3.6/site-packages (from matplotlib>=2.2->seaborn==0.11.1->-r requirements.txt (line 6)) (8.1.2)\n",
      "Requirement already satisfied: cycler>=0.10 in /opt/app-root/lib/python3.6/site-packages (from matplotlib>=2.2->seaborn==0.11.1->-r requirements.txt (line 6)) (0.10.0)\n",
      "Requirement already satisfied: pyparsing!=2.0.4,!=2.1.2,!=2.1.6,>=2.0.3 in /opt/app-root/lib/python3.6/site-packages (from matplotlib>=2.2->seaborn==0.11.1->-r requirements.txt (line 6)) (2.4.7)\n",
      "Requirement already satisfied: msgpack<1.0.0,>=0.5.6 in /opt/app-root/lib/python3.6/site-packages (from thinc<6.11.0,>=6.10.0->spacy==2.0.0->-r requirements.txt (line 8)) (0.6.2)\n",
      "Requirement already satisfied: cytoolz<0.10,>=0.9.0 in /opt/app-root/lib/python3.6/site-packages (from thinc<6.11.0,>=6.10.0->spacy==2.0.0->-r requirements.txt (line 8)) (0.9.0.1)\n",
      "Requirement already satisfied: wcwidth in /opt/app-root/lib/python3.6/site-packages (from ftfy<5.0.0,>=4.4.2->spacy==2.0.0->-r requirements.txt (line 8)) (0.2.5)\n",
      "Requirement already satisfied: html5lib in /opt/app-root/lib/python3.6/site-packages (from ftfy<5.0.0,>=4.4.2->spacy==2.0.0->-r requirements.txt (line 8)) (1.1)\n",
      "Requirement already satisfied: idna<3,>=2.5 in /opt/app-root/lib/python3.6/site-packages (from requests<3.0.0,>=2.13.0->spacy==2.0.0->-r requirements.txt (line 8)) (2.10)\n",
      "Requirement already satisfied: urllib3!=1.25.0,!=1.25.1,<1.26,>=1.21.1 in /opt/app-root/lib/python3.6/site-packages (from requests<3.0.0,>=2.13.0->spacy==2.0.0->-r requirements.txt (line 8)) (1.25.11)\n",
      "Requirement already satisfied: certifi>=2017.4.17 in /opt/app-root/lib/python3.6/site-packages (from requests<3.0.0,>=2.13.0->spacy==2.0.0->-r requirements.txt (line 8)) (2020.6.20)\n",
      "Requirement already satisfied: chardet<4,>=3.0.2 in /opt/app-root/lib/python3.6/site-packages (from requests<3.0.0,>=2.13.0->spacy==2.0.0->-r requirements.txt (line 8)) (3.0.4)\n",
      "Requirement already satisfied: toolz>=0.8.0 in /opt/app-root/lib/python3.6/site-packages (from cytoolz<0.10,>=0.9.0->thinc<6.11.0,>=6.10.0->spacy==2.0.0->-r requirements.txt (line 8)) (0.11.1)\n",
      "Requirement already satisfied: webencodings in /opt/app-root/lib/python3.6/site-packages (from html5lib->ftfy<5.0.0,>=4.4.2->spacy==2.0.0->-r requirements.txt (line 8)) (0.5.1)\n",
      "\u001b[33mWARNING: You are using pip version 20.2.4; however, version 21.0.1 is available.\n",
      "You should consider upgrading via the '/opt/app-root/bin/python3.6 -m pip install --upgrade pip' command.\u001b[0m\n"
     ]
    }
   ],
   "source": [
    "!pip install -r requirements.txt"
   ]
  },
  {
   "cell_type": "code",
   "execution_count": 2,
   "metadata": {},
   "outputs": [],
   "source": [
    "\n",
    "import pandas as pd # data processing, CSV file I/O (e.g. pd.read_csv)\n",
    "import markovify #Markov Chain Generator"
   ]
  },
  {
   "cell_type": "code",
   "execution_count": 3,
   "metadata": {},
   "outputs": [],
   "source": [
    "#read in CLAIMS-EDITED-3-COLS.csv.  This will be used as the 'seed' to generate more data.\n",
    "\n",
    "#inp = pd.read_csv('../input/abcnews-date-text.csv')\n",
    "#inp.head(3)\n",
    "\n",
    "#url= 'https://raw.githubusercontent.com/adrezni/claims-generator/main/CLAIMS-EDITED-3-COLS.csv'\n",
    "RAW_CSV = 'CLAIMS-EDITED-3-COLSv2.csv'\n",
    "df = pd.read_csv(RAW_CSV)\n"
   ]
  },
  {
   "cell_type": "code",
   "execution_count": 4,
   "metadata": {},
   "outputs": [
    {
     "data": {
      "text/html": [
       "<div>\n",
       "<style scoped>\n",
       "    .dataframe tbody tr th:only-of-type {\n",
       "        vertical-align: middle;\n",
       "    }\n",
       "\n",
       "    .dataframe tbody tr th {\n",
       "        vertical-align: top;\n",
       "    }\n",
       "\n",
       "    .dataframe thead th {\n",
       "        text-align: right;\n",
       "    }\n",
       "</style>\n",
       "<table border=\"1\" class=\"dataframe\">\n",
       "  <thead>\n",
       "    <tr style=\"text-align: right;\">\n",
       "      <th></th>\n",
       "      <th>Timestamp</th>\n",
       "      <th>Issue</th>\n",
       "      <th>Description</th>\n",
       "    </tr>\n",
       "  </thead>\n",
       "  <tbody>\n",
       "    <tr>\n",
       "      <th>0</th>\n",
       "      <td>03/04/21 10:46 AM</td>\n",
       "      <td>Brakes</td>\n",
       "      <td>my brakes make a noise whenever I try to stop</td>\n",
       "    </tr>\n",
       "    <tr>\n",
       "      <th>1</th>\n",
       "      <td>03/04/21 10:46 AM</td>\n",
       "      <td>Starter</td>\n",
       "      <td>Car starts then stops</td>\n",
       "    </tr>\n",
       "    <tr>\n",
       "      <th>2</th>\n",
       "      <td>03/04/21 10:47 AM</td>\n",
       "      <td>Door</td>\n",
       "      <td>I can't open the damn door to my car</td>\n",
       "    </tr>\n",
       "  </tbody>\n",
       "</table>\n",
       "</div>"
      ],
      "text/plain": [
       "           Timestamp    Issue                                    Description\n",
       "0  03/04/21 10:46 AM   Brakes  my brakes make a noise whenever I try to stop\n",
       "1  03/04/21 10:46 AM  Starter                          Car starts then stops\n",
       "2  03/04/21 10:47 AM     Door           I can't open the damn door to my car"
      ]
     },
     "execution_count": 4,
     "metadata": {},
     "output_type": "execute_result"
    }
   ],
   "source": [
    "#print out first 3 rows of the newly generated dataframe\n",
    "df.head(3)"
   ]
  },
  {
   "cell_type": "code",
   "execution_count": null,
   "metadata": {},
   "outputs": [],
   "source": [
    "#create a text model using markovify\n",
    "\n",
    "text_model = markovify.NewlineText(df1.Description, state_size = 2)"
   ]
  },
  {
   "cell_type": "code",
   "execution_count": null,
   "metadata": {},
   "outputs": [],
   "source": [
    "f = open('foo.csv', 'wb')\n",
    "w = csv.writer(f)"
   ]
  },
  {
   "cell_type": "code",
   "execution_count": null,
   "metadata": {},
   "outputs": [],
   "source": [
    "# Print randomly-generated sentences using the built model\n",
    "\n",
    "for i in range(500):\n",
    "    f = text_model.make_sentence()\n",
    "    print(f)"
   ]
  },
  {
   "cell_type": "code",
   "execution_count": null,
   "metadata": {},
   "outputs": [],
   "source": []
  },
  {
   "cell_type": "code",
   "execution_count": null,
   "metadata": {},
   "outputs": [],
   "source": []
  }
 ],
 "metadata": {
  "kernelspec": {
   "display_name": "Python 3",
   "language": "python",
   "name": "python3"
  },
  "language_info": {
   "codemirror_mode": {
    "name": "ipython",
    "version": 3
   },
   "file_extension": ".py",
   "mimetype": "text/x-python",
   "name": "python",
   "nbconvert_exporter": "python",
   "pygments_lexer": "ipython3",
   "version": "3.6.8"
  }
 },
 "nbformat": 4,
 "nbformat_minor": 4
}
