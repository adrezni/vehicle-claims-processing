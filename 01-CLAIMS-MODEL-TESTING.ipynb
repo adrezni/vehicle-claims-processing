{
 "cells": [
  {
   "cell_type": "markdown",
   "metadata": {},
   "source": [
    "Now that we are satisfied that our generated and markovified data produce normal results, let's concentrate on one subset and look for\n",
    "specific data in that subset.\n",
    "\n",
    "We would like to know, how many of our 'brake claims' are associated with 'brake pads' wearing down and needing replacement.  Typically, when brake\n",
    "pads wear down, the pads themselves will come into contact with the brake drum.  This produces a grinding or screeching noise.  "
   ]
  },
  {
   "cell_type": "code",
   "execution_count": 1,
   "metadata": {},
   "outputs": [
    {
     "name": "stdout",
     "output_type": "stream",
     "text": [
      "Collecting markovify\n",
      "  Downloading markovify-0.9.0.tar.gz (27 kB)\n",
      "Collecting nltk\n",
      "  Downloading nltk-3.5.zip (1.4 MB)\n",
      "\u001b[K     |████████████████████████████████| 1.4 MB 43.1 MB/s eta 0:00:01\n",
      "\u001b[?25hCollecting numpy\n",
      "  Downloading numpy-1.19.5-cp36-cp36m-manylinux2010_x86_64.whl (14.8 MB)\n",
      "\u001b[K     |████████████████████████████████| 14.8 MB 94.0 MB/s eta 0:00:01\n",
      "\u001b[?25hCollecting pandas\n",
      "  Downloading pandas-1.1.5-cp36-cp36m-manylinux1_x86_64.whl (9.5 MB)\n",
      "\u001b[K     |████████████████████████████████| 9.5 MB 92.1 MB/s eta 0:00:01\n",
      "\u001b[?25hRequirement already satisfied: regex in /opt/app-root/lib/python3.6/site-packages (from -r requirements.txt (line 5)) (2020.10.23)\n",
      "Collecting seaborn\n",
      "  Downloading seaborn-0.11.1-py3-none-any.whl (285 kB)\n",
      "\u001b[K     |████████████████████████████████| 285 kB 99.4 MB/s eta 0:00:01\n",
      "\u001b[?25hRequirement already satisfied: wrapt in /opt/app-root/lib/python3.6/site-packages (from -r requirements.txt (line 7)) (1.12.1)\n",
      "Collecting spacy\n",
      "  Downloading spacy-3.0.5-cp36-cp36m-manylinux2014_x86_64.whl (12.8 MB)\n",
      "\u001b[K     |████████████████████████████████| 12.8 MB 65.4 MB/s eta 0:00:01\n",
      "\u001b[?25hCollecting unidecode\n",
      "  Downloading Unidecode-1.2.0-py2.py3-none-any.whl (241 kB)\n",
      "\u001b[K     |████████████████████████████████| 241 kB 103.8 MB/s eta 0:00:01\n",
      "\u001b[?25hRequirement already satisfied: click in /opt/app-root/lib/python3.6/site-packages (from nltk->-r requirements.txt (line 2)) (7.1.2)\n",
      "Collecting joblib\n",
      "  Downloading joblib-1.0.1-py3-none-any.whl (303 kB)\n",
      "\u001b[K     |████████████████████████████████| 303 kB 98.3 MB/s eta 0:00:01\n",
      "\u001b[?25hRequirement already satisfied: tqdm in /opt/app-root/lib/python3.6/site-packages (from nltk->-r requirements.txt (line 2)) (4.51.0)\n",
      "Requirement already satisfied: python-dateutil>=2.7.3 in /opt/app-root/lib/python3.6/site-packages (from pandas->-r requirements.txt (line 4)) (2.8.1)\n",
      "Requirement already satisfied: pytz>=2017.2 in /opt/app-root/lib/python3.6/site-packages (from pandas->-r requirements.txt (line 4)) (2020.1)\n",
      "Collecting scipy>=1.0\n",
      "  Downloading scipy-1.5.4-cp36-cp36m-manylinux1_x86_64.whl (25.9 MB)\n",
      "\u001b[K     |████████████████████████████████| 25.9 MB 92.2 MB/s eta 0:00:01\n",
      "\u001b[?25hCollecting matplotlib>=2.2\n",
      "  Downloading matplotlib-3.3.4-cp36-cp36m-manylinux1_x86_64.whl (11.5 MB)\n",
      "\u001b[K     |████████████████████████████████| 11.5 MB 95.1 MB/s eta 0:00:01\n",
      "\u001b[?25hRequirement already satisfied: packaging>=20.0 in /opt/app-root/lib/python3.6/site-packages (from spacy->-r requirements.txt (line 8)) (20.4)\n",
      "Collecting murmurhash<1.1.0,>=0.28.0\n",
      "  Downloading murmurhash-1.0.5-cp36-cp36m-manylinux2014_x86_64.whl (20 kB)\n",
      "Collecting thinc<8.1.0,>=8.0.2\n",
      "  Downloading thinc-8.0.2-cp36-cp36m-manylinux2014_x86_64.whl (1.1 MB)\n",
      "\u001b[K     |████████████████████████████████| 1.1 MB 92.5 MB/s eta 0:00:01\n",
      "\u001b[?25hRequirement already satisfied: requests<3.0.0,>=2.13.0 in /opt/app-root/lib/python3.6/site-packages (from spacy->-r requirements.txt (line 8)) (2.24.0)\n",
      "Collecting blis<0.8.0,>=0.4.0\n",
      "  Downloading blis-0.7.4-cp36-cp36m-manylinux2014_x86_64.whl (9.8 MB)\n",
      "\u001b[K     |████████████████████████████████| 9.8 MB 97.3 MB/s eta 0:00:01\n",
      "\u001b[?25hCollecting wasabi<1.1.0,>=0.8.1\n",
      "  Downloading wasabi-0.8.2-py3-none-any.whl (23 kB)\n",
      "Collecting spacy-legacy<3.1.0,>=3.0.0\n",
      "  Downloading spacy_legacy-3.0.1-py2.py3-none-any.whl (7.0 kB)\n",
      "Collecting pydantic<1.8.0,>=1.7.1\n",
      "  Downloading pydantic-1.7.3-cp36-cp36m-manylinux2014_x86_64.whl (9.2 MB)\n",
      "\u001b[K     |████████████████████████████████| 9.2 MB 90.2 MB/s eta 0:00:01\n",
      "\u001b[?25hRequirement already satisfied: jinja2 in /opt/app-root/lib/python3.6/site-packages (from spacy->-r requirements.txt (line 8)) (2.11.2)\n",
      "Collecting cymem<2.1.0,>=2.0.2\n",
      "  Downloading cymem-2.0.5-cp36-cp36m-manylinux2014_x86_64.whl (35 kB)\n",
      "Collecting preshed<3.1.0,>=3.0.2\n",
      "  Downloading preshed-3.0.5-cp36-cp36m-manylinux2014_x86_64.whl (126 kB)\n",
      "\u001b[K     |████████████████████████████████| 126 kB 103.3 MB/s eta 0:00:01\n",
      "\u001b[?25hCollecting catalogue<2.1.0,>=2.0.1\n",
      "  Downloading catalogue-2.0.1-py3-none-any.whl (9.6 kB)\n",
      "Collecting pathy>=0.3.5\n",
      "  Downloading pathy-0.4.0-py3-none-any.whl (36 kB)\n",
      "Collecting srsly<3.0.0,>=2.4.0\n",
      "  Downloading srsly-2.4.0-cp36-cp36m-manylinux2014_x86_64.whl (456 kB)\n",
      "\u001b[K     |████████████████████████████████| 456 kB 99.7 MB/s eta 0:00:01\n",
      "\u001b[?25hRequirement already satisfied: importlib-metadata>=0.20; python_version < \"3.8\" in /opt/app-root/lib/python3.6/site-packages (from spacy->-r requirements.txt (line 8)) (2.0.0)\n",
      "Collecting typer<0.4.0,>=0.3.0\n",
      "  Downloading typer-0.3.2-py3-none-any.whl (21 kB)\n",
      "Requirement already satisfied: setuptools in /opt/app-root/lib/python3.6/site-packages (from spacy->-r requirements.txt (line 8)) (50.3.2)\n",
      "Requirement already satisfied: typing-extensions<4.0.0.0,>=3.7.4; python_version < \"3.8\" in /opt/app-root/lib/python3.6/site-packages (from spacy->-r requirements.txt (line 8)) (3.7.4.3)\n",
      "Requirement already satisfied: six>=1.5 in /opt/app-root/lib/python3.6/site-packages (from python-dateutil>=2.7.3->pandas->-r requirements.txt (line 4)) (1.15.0)\n",
      "Collecting pillow>=6.2.0\n",
      "  Downloading Pillow-8.1.2-cp36-cp36m-manylinux1_x86_64.whl (2.2 MB)\n",
      "\u001b[K     |████████████████████████████████| 2.2 MB 89.2 MB/s eta 0:00:01\n",
      "\u001b[?25hCollecting kiwisolver>=1.0.1\n",
      "  Downloading kiwisolver-1.3.1-cp36-cp36m-manylinux1_x86_64.whl (1.1 MB)\n",
      "\u001b[K     |████████████████████████████████| 1.1 MB 86.9 MB/s eta 0:00:01\n",
      "\u001b[?25hRequirement already satisfied: pyparsing!=2.0.4,!=2.1.2,!=2.1.6,>=2.0.3 in /opt/app-root/lib/python3.6/site-packages (from matplotlib>=2.2->seaborn->-r requirements.txt (line 6)) (2.4.7)\n",
      "Collecting cycler>=0.10\n",
      "  Downloading cycler-0.10.0-py2.py3-none-any.whl (6.5 kB)\n",
      "Collecting contextvars<3,>=2.4; python_version < \"3.7\"\n",
      "  Downloading contextvars-2.4.tar.gz (9.6 kB)\n",
      "Requirement already satisfied: dataclasses<1.0,>=0.6; python_version < \"3.7\" in /opt/app-root/lib/python3.6/site-packages (from thinc<8.1.0,>=8.0.2->spacy->-r requirements.txt (line 8)) (0.7)\n",
      "Requirement already satisfied: urllib3!=1.25.0,!=1.25.1,<1.26,>=1.21.1 in /opt/app-root/lib/python3.6/site-packages (from requests<3.0.0,>=2.13.0->spacy->-r requirements.txt (line 8)) (1.25.11)\n",
      "Requirement already satisfied: idna<3,>=2.5 in /opt/app-root/lib/python3.6/site-packages (from requests<3.0.0,>=2.13.0->spacy->-r requirements.txt (line 8)) (2.10)\n",
      "Requirement already satisfied: certifi>=2017.4.17 in /opt/app-root/lib/python3.6/site-packages (from requests<3.0.0,>=2.13.0->spacy->-r requirements.txt (line 8)) (2020.6.20)\n",
      "Requirement already satisfied: chardet<4,>=3.0.2 in /opt/app-root/lib/python3.6/site-packages (from requests<3.0.0,>=2.13.0->spacy->-r requirements.txt (line 8)) (3.0.4)\n",
      "Requirement already satisfied: MarkupSafe>=0.23 in /opt/app-root/lib/python3.6/site-packages (from jinja2->spacy->-r requirements.txt (line 8)) (1.1.1)\n",
      "Collecting smart-open<4.0.0,>=2.2.0\n",
      "  Downloading smart_open-3.0.0.tar.gz (113 kB)\n",
      "\u001b[K     |████████████████████████████████| 113 kB 101.2 MB/s eta 0:00:01\n",
      "\u001b[?25hRequirement already satisfied: zipp>=0.5 in /opt/app-root/lib/python3.6/site-packages (from importlib-metadata>=0.20; python_version < \"3.8\"->spacy->-r requirements.txt (line 8)) (3.4.0)\n",
      "Collecting immutables>=0.9\n",
      "  Downloading immutables-0.15-cp36-cp36m-manylinux1_x86_64.whl (100 kB)\n",
      "\u001b[K     |████████████████████████████████| 100 kB 94.2 MB/s ta 0:00:01\n",
      "\u001b[?25hBuilding wheels for collected packages: markovify, nltk, contextvars, smart-open\n",
      "  Building wheel for markovify (setup.py) ... \u001b[?25ldone\n",
      "\u001b[?25h  Created wheel for markovify: filename=markovify-0.9.0-py3-none-any.whl size=18474 sha256=78ea35028ed95fcddc259545df03a8995a3e336df83cf349afda9c797711d4de\n",
      "  Stored in directory: /tmp/pip-ephem-wheel-cache-5k8inekc/wheels/32/20/e1/530730d7ef90be154a32f98989aac827474e5f0b65ea5b3468\n",
      "  Building wheel for nltk (setup.py) ... \u001b[?25ldone\n",
      "\u001b[?25h  Created wheel for nltk: filename=nltk-3.5-py3-none-any.whl size=1434671 sha256=a6dcd4855de526f2b0f1c8b6b97e400f726252806444f762c62cc3bdb7b38566\n",
      "  Stored in directory: /tmp/pip-ephem-wheel-cache-5k8inekc/wheels/de/5e/42/64abaeca668161c3e2cecc24f864a8fc421e3d07a104fc8a51\n",
      "  Building wheel for contextvars (setup.py) ... \u001b[?25ldone\n",
      "\u001b[?25h  Created wheel for contextvars: filename=contextvars-2.4-py3-none-any.whl size=7665 sha256=330819e6b8945a25e2e203b74ad9a8d352e64b5b4f80b684ab5ce9c0eafdb1f1\n",
      "  Stored in directory: /tmp/pip-ephem-wheel-cache-5k8inekc/wheels/41/11/53/911724983aa48deb94792432e14e518447212dd6c5477d49d3\n",
      "  Building wheel for smart-open (setup.py) ... \u001b[?25ldone\n",
      "\u001b[?25h  Created wheel for smart-open: filename=smart_open-3.0.0-py3-none-any.whl size=107095 sha256=8d29250fa2973fff907d10175a5492ac2b6b71c6a4a65ec59ced6f84b4a96dbf\n",
      "  Stored in directory: /tmp/pip-ephem-wheel-cache-5k8inekc/wheels/88/2a/d4/f2e9023989d4d4b3574f268657cb6cd23994665a038803f547\n",
      "Successfully built markovify nltk contextvars smart-open\n",
      "Installing collected packages: unidecode, markovify, joblib, nltk, numpy, pandas, scipy, pillow, kiwisolver, cycler, matplotlib, seaborn, murmurhash, immutables, contextvars, blis, wasabi, pydantic, cymem, preshed, catalogue, srsly, thinc, spacy-legacy, smart-open, typer, pathy, spacy\n",
      "Successfully installed blis-0.7.4 catalogue-2.0.1 contextvars-2.4 cycler-0.10.0 cymem-2.0.5 immutables-0.15 joblib-1.0.1 kiwisolver-1.3.1 markovify-0.9.0 matplotlib-3.3.4 murmurhash-1.0.5 nltk-3.5 numpy-1.19.5 pandas-1.1.5 pathy-0.4.0 pillow-8.1.2 preshed-3.0.5 pydantic-1.7.3 scipy-1.5.4 seaborn-0.11.1 smart-open-3.0.0 spacy-3.0.5 spacy-legacy-3.0.1 srsly-2.4.0 thinc-8.0.2 typer-0.3.2 unidecode-1.2.0 wasabi-0.8.2\n",
      "\u001b[33mWARNING: You are using pip version 20.2.4; however, version 21.0.1 is available.\n",
      "You should consider upgrading via the '/opt/app-root/bin/python3.6 -m pip install --upgrade pip' command.\u001b[0m\n"
     ]
    }
   ],
   "source": [
    "!pip install -r requirements.txt"
   ]
  },
  {
   "cell_type": "code",
   "execution_count": 2,
   "metadata": {},
   "outputs": [
    {
     "data": {
      "text/html": [
       "<div>\n",
       "<style scoped>\n",
       "    .dataframe tbody tr th:only-of-type {\n",
       "        vertical-align: middle;\n",
       "    }\n",
       "\n",
       "    .dataframe tbody tr th {\n",
       "        vertical-align: top;\n",
       "    }\n",
       "\n",
       "    .dataframe thead th {\n",
       "        text-align: right;\n",
       "    }\n",
       "</style>\n",
       "<table border=\"1\" class=\"dataframe\">\n",
       "  <thead>\n",
       "    <tr style=\"text-align: right;\">\n",
       "      <th></th>\n",
       "      <th>response</th>\n",
       "      <th>issue</th>\n",
       "      <th>symptom</th>\n",
       "    </tr>\n",
       "  </thead>\n",
       "  <tbody>\n",
       "    <tr>\n",
       "      <th>0</th>\n",
       "      <td>my brakes make a noise whenever I try to stop</td>\n",
       "      <td>Brakes</td>\n",
       "      <td>Car makes grinding noise</td>\n",
       "    </tr>\n",
       "    <tr>\n",
       "      <th>1</th>\n",
       "      <td>super frustrating every time I start my car it...</td>\n",
       "      <td>Starter</td>\n",
       "      <td>Car starts then stops</td>\n",
       "    </tr>\n",
       "    <tr>\n",
       "      <th>2</th>\n",
       "      <td>I can't open the damn door to my car</td>\n",
       "      <td>Other</td>\n",
       "      <td></td>\n",
       "    </tr>\n",
       "    <tr>\n",
       "      <th>3</th>\n",
       "      <td>I turn the key and nothing happens</td>\n",
       "      <td>Starter</td>\n",
       "      <td>Car doesn't start</td>\n",
       "    </tr>\n",
       "    <tr>\n",
       "      <th>4</th>\n",
       "      <td>Car doesn't always start when it's low on blin...</td>\n",
       "      <td>Starter</td>\n",
       "      <td>Car doesn't start</td>\n",
       "    </tr>\n",
       "    <tr>\n",
       "      <th>...</th>\n",
       "      <td>...</td>\n",
       "      <td>...</td>\n",
       "      <td>...</td>\n",
       "    </tr>\n",
       "    <tr>\n",
       "      <th>104</th>\n",
       "      <td>my breaks are faulty.</td>\n",
       "      <td>Brakes</td>\n",
       "      <td>Car brakes, but then brakes disengage</td>\n",
       "    </tr>\n",
       "    <tr>\n",
       "      <th>105</th>\n",
       "      <td>my lights do not work</td>\n",
       "      <td>Other</td>\n",
       "      <td></td>\n",
       "    </tr>\n",
       "    <tr>\n",
       "      <th>106</th>\n",
       "      <td>I try to start the engine only to find that th...</td>\n",
       "      <td>Starter</td>\n",
       "      <td>Car doesn't start</td>\n",
       "    </tr>\n",
       "    <tr>\n",
       "      <th>107</th>\n",
       "      <td>The driver side window auto function does not ...</td>\n",
       "      <td>Other</td>\n",
       "      <td></td>\n",
       "    </tr>\n",
       "    <tr>\n",
       "      <th>108</th>\n",
       "      <td>Sometimes when I press the brake, the car does...</td>\n",
       "      <td>Brakes</td>\n",
       "      <td>Car doesn't stop in timely manner</td>\n",
       "    </tr>\n",
       "  </tbody>\n",
       "</table>\n",
       "<p>109 rows × 3 columns</p>\n",
       "</div>"
      ],
      "text/plain": [
       "                                              response    issue  \\\n",
       "0        my brakes make a noise whenever I try to stop   Brakes   \n",
       "1    super frustrating every time I start my car it...  Starter   \n",
       "2                 I can't open the damn door to my car    Other   \n",
       "3                   I turn the key and nothing happens  Starter   \n",
       "4    Car doesn't always start when it's low on blin...  Starter   \n",
       "..                                                 ...      ...   \n",
       "104                              my breaks are faulty.   Brakes   \n",
       "105                              my lights do not work    Other   \n",
       "106  I try to start the engine only to find that th...  Starter   \n",
       "107  The driver side window auto function does not ...    Other   \n",
       "108  Sometimes when I press the brake, the car does...   Brakes   \n",
       "\n",
       "                                   symptom  \n",
       "0                 Car makes grinding noise  \n",
       "1                    Car starts then stops  \n",
       "2                                           \n",
       "3                        Car doesn't start  \n",
       "4                        Car doesn't start  \n",
       "..                                     ...  \n",
       "104  Car brakes, but then brakes disengage  \n",
       "105                                         \n",
       "106                      Car doesn't start  \n",
       "107                                         \n",
       "108      Car doesn't stop in timely manner  \n",
       "\n",
       "[109 rows x 3 columns]"
      ]
     },
     "execution_count": 2,
     "metadata": {},
     "output_type": "execute_result"
    }
   ],
   "source": [
    "import pandas as pd\n",
    "\n",
    "df = pd.read_csv('response.csv') \n",
    "df = df.fillna('')\n",
    "df['response']=df.iloc[:,3]+df.iloc[:,5]+df.iloc[:,6]\n",
    "df['issue'] = df.iloc[:,1]\n",
    "df['symptom'] = df.iloc[:,2] + df.iloc[:,4]\n",
    "subset = df.iloc[:,-3:]\n",
    "subset"
   ]
  },
  {
   "cell_type": "code",
   "execution_count": 3,
   "metadata": {},
   "outputs": [],
   "source": [
    "import markovify\n",
    "import codecs"
   ]
  },
  {
   "cell_type": "code",
   "execution_count": 4,
   "metadata": {},
   "outputs": [],
   "source": [
    "#markovify is a simple, extensible Markov chain generator\n",
    "#Its primary use is for building Markov models of large corpora of text and generating random sentences from that.\n",
    "\n",
    "\n",
    "#builds the model according to what issue (e.g. brakes, starter, other) is given\n",
    "def train_markov_type(data, issue):\n",
    "    return markovify.Text(data[data[\"issue\"] == issue].response, retain_original=False, state_size=2)\n",
    "\n",
    "#takes one of the 'issue' models and creates a randomly-generated sentence of length up to 200 characters.  Note only creates '1' sentence\n",
    "def make_sentence(model, length=100):\n",
    "    return model.make_short_sentence(length, max_overlap_ratio = .7, max_overlap_total=15)\n",
    "\n",
    "other_model = train_markov_type(subset, \"Other\")\n",
    "brakes_model = train_markov_type(subset, \"Brakes\")\n",
    "starter_model = train_markov_type(subset, \"Starter\")"
   ]
  },
  {
   "cell_type": "code",
   "execution_count": 5,
   "metadata": {},
   "outputs": [
    {
     "data": {
      "text/plain": [
       "\"There isn't an immediate response.\""
      ]
     },
     "execution_count": 5,
     "metadata": {},
     "output_type": "execute_result"
    }
   ],
   "source": [
    "make_sentence(other_model)  #creates a sentence that should be an example of 'other' issue(category)"
   ]
  },
  {
   "cell_type": "code",
   "execution_count": 6,
   "metadata": {},
   "outputs": [
    {
     "data": {
      "text/plain": [
       "'My cars breaks make a terrible sound when breaking.'"
      ]
     },
     "execution_count": 6,
     "metadata": {},
     "output_type": "execute_result"
    }
   ],
   "source": [
    "make_sentence(brakes_model)  #creates a sentence that should be an example of 'brakes' issue(category)"
   ]
  },
  {
   "cell_type": "code",
   "execution_count": 7,
   "metadata": {},
   "outputs": [
    {
     "data": {
      "text/plain": [
       "'It makes a grinding noise too.'"
      ]
     },
     "execution_count": 7,
     "metadata": {},
     "output_type": "execute_result"
    }
   ],
   "source": [
    "make_sentence(starter_model)   #creates a sentence that should be an example of 'starter' issue(category)"
   ]
  },
  {
   "cell_type": "markdown",
   "metadata": {},
   "source": [
    "We can combine these models with relative weights"
   ]
  },
  {
   "cell_type": "code",
   "execution_count": 8,
   "metadata": {},
   "outputs": [],
   "source": [
    "#create a compound model in which the sentences that come out will be 2x as many 'other' than 'brakes' or 'starters'\n",
    "\n",
    "compound_model = markovify.combine([other_model, brakes_model, starter_model], [14, 7, 7])  "
   ]
  },
  {
   "cell_type": "code",
   "execution_count": 9,
   "metadata": {},
   "outputs": [
    {
     "name": "stdout",
     "output_type": "stream",
     "text": [
      "The steering wheel shakes when running at speed\n",
      "I tried starting my car does not turn over\n",
      "I have a problem with my blinker fluid.\n",
      "The left rear window only rolls down but does not roll back up.\n",
      "When I hit the start button to turn everything off, everything stays on.\n",
      "It takes a long time before finally engaging and actually turning on.\n",
      "It won't start again.\n",
      "There is a light or stop sign and then nothing happens.\n",
      "The air conditioner only blows cold sometimes.\n",
      "It makes a lot noise and feeling a vibration when I press down on the left door is scratched.\n",
      "the privacy glass between my driver and my tires seem to be working.\n",
      "When turning, the car is making a clicking sound but would not start.\n",
      "While driving I hear lot of black smoke and acrid smell.\n",
      "https://www.youtube.com/watch?v=bEME9licodY\n",
      "It's not actually a grinding noise, more like a piercing shriek of anguish\n",
      "The oil change light comes on after an oil change has been performed.\n",
      "Steering wheel shakes when running at speed\n",
      "I think my car if the door won't open.\n",
      "The air conditioner only blows cold sometimes.\n",
      "You must act immediately!\n",
      "The driver side window auto function does not feel secure.\n",
      "I'm hearing a noise and doesn't respond when trying to jump start it.\n",
      "A/C is working, but is not blowing out cold air\n",
      "Where's the place, where I need to insert my key to start the car, turn the key and nothing happens\n",
      "I think my alignment is bad.\n",
      "A/C is working, but is not blowing out cold air\n",
      "The car won't shift out of gas.\n",
      "Leak of a clear, cloudy, oil like substance in the car.\n"
     ]
    }
   ],
   "source": [
    "#make 20 sentences out of the compound model - copy the text into a spreadsheet and check the count of the issues  (e.g. how many brake issue are there?)\n",
    "\n",
    "for i in range(28):\n",
    "    print(make_sentence(compound_model))"
   ]
  },
  {
   "cell_type": "code",
   "execution_count": 10,
   "metadata": {},
   "outputs": [],
   "source": [
    "import numpy\n",
    "def generate_cases(models, weights=None):\n",
    "    if weights is None:\n",
    "        weights = [1] * len(models)\n",
    "    \n",
    "    choices = []\n",
    "    \n",
    "    total_weight = float(sum(weights))\n",
    "    \n",
    "    for i in range(len(weights)):\n",
    "        choices.append((float(sum(weights[0:i+1])) / total_weight, models[i]))\n",
    "    \n",
    "    def choose_model():\n",
    "        r = numpy.random.uniform()\n",
    "        for (p, m) in choices:\n",
    "            if r <= p:\n",
    "                return m\n",
    "        return choices[-1][1]\n",
    "\n",
    "\n",
    "    def choose_from(c):\n",
    "        idx = math.floor(numpy.random.uniform() * len(c))\n",
    "        return c[idx]\n",
    "    \n",
    "    \n",
    "    while True:\n",
    "        yield (make_sentence(choose_model()))\n",
    "            "
   ]
  },
  {
   "cell_type": "code",
   "execution_count": 11,
   "metadata": {},
   "outputs": [],
   "source": [
    "#compound_model = markovify.combine([other_model, brakes_model, starter_model], [14, 7, 7])  \n",
    "\n",
    "t = generate_cases([other_model, brakes_model, starter_model], [3,4,4])  #actual sentences\n",
    "\n"
   ]
  },
  {
   "cell_type": "code",
   "execution_count": 12,
   "metadata": {
    "scrolled": true
   },
   "outputs": [
    {
     "data": {
      "text/plain": [
       "['The car make some screeching or grinding noises when stopping.',\n",
       " 'Dashboard computer reboots when traveling above 80mph',\n",
       " 'Then I have to stretch my leg to do it.',\n",
       " 'If I pump the brake pedal',\n",
       " 'I can hear the starter with a hammer.',\n",
       " 'I try to start the engine unless you hit the starter with a hammer.',\n",
       " 'Have to cycle the ignition button at least twice before my car it just stops again, what is wrong!',\n",
       " 'Car creates whistle sound each time I try to start it.',\n",
       " \"I can't drive that way, always these bullshitty new technologies...\",\n",
       " 'It is more squealing or screeching sounds than grinding.',\n",
       " 'Maybe the brakes of my car.',\n",
       " 'The HVAC system is broken in the back of the car.',\n",
       " 'My car does not turn over',\n",
       " \"It won't start the engine doesn’t power up\",\n",
       " \"That's all good.\",\n",
       " 'It is very unpleasant.',\n",
       " 'My car is leaning on left',\n",
       " \"Car doesn't always start when it's low on blinker fluid\",\n",
       " 'brake pads are not wearing down evenly',\n",
       " \"I can't get up to 88 MPH\",\n",
       " 'Car creates whistle sound each time I start it',\n",
       " \"The car won't start!\",\n",
       " 'With that, highway driving is very dangerous',\n",
       " \"That's really distrubing and dangerous!\",\n",
       " 'When I hit the start button to turn everything off, everything stays on.',\n",
       " \"When I tried to drive, the car doesn't seem to stop and sometimes very bumpy.\",\n",
       " 'The car pulls to the left.',\n",
       " 'It makes a grinding noise too.',\n",
       " 'Car dies when I step on the the fourth time.',\n",
       " \"That's really distrubing and dangerous!\",\n",
       " 'Please help ASAP!',\n",
       " 'Car does not turn over',\n",
       " 'My car sounds like its 20 years old when I brake, after a few seconds, the brakes disengage.',\n",
       " \"That's all good.\",\n",
       " \"It's rather a periodic deep sound when stopping.\",\n",
       " 'I keep my foot firmly pressing down on the brake and the car made horrible grinding noises.',\n",
       " 'The air conditioner only blows cold sometimes.',\n",
       " 'Dashboard computer reboots when traveling above 80mph',\n",
       " \"It's not actually a grinding noise.\",\n",
       " 'You must act immediately!',\n",
       " 'I came out from work at the end of the day and the car to turn over.',\n",
       " 'Car does not turn over.',\n",
       " \"When turning, the car won't shift out of gas.\",\n",
       " \"I can't get up to 88 MPH\",\n",
       " 'It makes a grinding sound for a while and never turns over.',\n",
       " 'Just that odd clicking noise....',\n",
       " \"I can't put gas in my car is leaning on left\",\n",
       " 'It was really cold out and I could not get the emergency brake to disengage.',\n",
       " \"I can't drive that way, always these bullshitty new technologies...\",\n",
       " 'Then I have to press the brakes of my car.',\n",
       " 'There is a light that came on that looks to be something related to the air bag or seat belt.',\n",
       " 'super frustrating every time I start it',\n",
       " 'https://www.youtube.com/watch?v=bEME9licodY',\n",
       " 'It sputters for a few seconds and then nothing happens.',\n",
       " \"My air conditioning is whistling whenever it's turned on low.\",\n",
       " 'It sputters for a while and never turns over.',\n",
       " 'When I turn the key and nothing happens',\n",
       " 'The pedal feels squishy.',\n",
       " \"Car doesn't always start when it's low on blinker fluid\",\n",
       " 'It is more squealing or screeching sounds than grinding.',\n",
       " 'It stops if I keep my foot firmly pressing down on the brake pedal',\n",
       " \"I can't put gas in my car is making a clicking noise.\",\n",
       " \"My air conditioning doesn't seem to be something related to the left.\",\n",
       " 'My tire keeps going flat.',\n",
       " 'Car creates whistle sound each time I start my car but it definitely was not starting.',\n",
       " 'Cannot get the car is wrecking perfectly good batteries that should be lasting years.',\n",
       " 'This generally does not stop',\n",
       " \"I can't drive that way, always these bullshitty new technologies...\",\n",
       " 'My car does not start.',\n",
       " 'When I try to start the engine unless you hit the starter with a hammer.',\n",
       " \"It's not actually a grinding noise, more like a piercing shriek of anguish\",\n",
       " 'My car is leaning on left',\n",
       " 'My car does not start.',\n",
       " 'This generally does not happen at very high speeds, but rather at speeds of around 30-40 mph.',\n",
       " 'Car creates whistle sound each time I try to start it.',\n",
       " 'If I pump the brake pedal.',\n",
       " 'It makes a weird whirring sound every time I start my car starts.',\n",
       " 'Car does not turn over.',\n",
       " \"I can't drive that way, always these bullshitty new technologies...\",\n",
       " 'Then I have to press the brakes a bit harder than I normally would.',\n",
       " \"There's slack in my car\",\n",
       " \"It's rather a periodic deep sound when stopping.\",\n",
       " 'My car drifts when driving over painted lines on the left door is scratched.',\n",
       " 'Car makes a squeeky noise when I push it really far, but I have to stretch my leg to do it.',\n",
       " 'It takes a long time to start, and if I push the key and nothing happens',\n",
       " \"It's rather a periodic deep sound when stopping.\",\n",
       " \"Car dies when I stop at a light or stop sign and then won't start the ignition?\",\n",
       " 'I feel a bit harder than I normally would.',\n",
       " 'The windshield has a lot of black smoke and acrid smell.',\n",
       " \"The rotors are warped so it's difficult to push the break pedal without lurching.\",\n",
       " 'When coming to a complete stop.',\n",
       " 'Sometimes when I hit brakes.',\n",
       " \"I'm having an issue with fuel injection sensor or pressure.\",\n",
       " 'I came out from work at the end of the day and the car to turn over.',\n",
       " 'It was really cold out and I could not get the emergency brake to disengage.',\n",
       " 'It makes a weird whirring sound every time I start my car starts.',\n",
       " 'Squealing sound',\n",
       " 'super frustrating every time I start my car starts.',\n",
       " 'I came out from work at the end of the day and the car would not start.',\n",
       " 'There a loud knocking sound coming from somewhere in the car.']"
      ]
     },
     "execution_count": 12,
     "metadata": {},
     "output_type": "execute_result"
    }
   ],
   "source": [
    "[next(t) for i in range(100)]  #create 100 sentences"
   ]
  },
  {
   "cell_type": "markdown",
   "metadata": {},
   "source": [
    "Checking for similarity (slow)"
   ]
  },
  {
   "cell_type": "code",
   "execution_count": null,
   "metadata": {},
   "outputs": [],
   "source": [
    "#https://stackoverflow.com/questions/54334304/spacy-cant-find-model-en-core-web-sm-on-windows-10-and-python-3-5-3-anacon\n",
    "#in your terminal window, execute the following code, before loading 'en_core_web_sm':\n",
    "#     cd vehicle-claims-processing/\n",
    "#     python -m spacy download en_core_web_sm\n"
   ]
  },
  {
   "cell_type": "code",
   "execution_count": 13,
   "metadata": {},
   "outputs": [
    {
     "name": "stderr",
     "output_type": "stream",
     "text": [
      "/opt/app-root/lib/python3.6/site-packages/ipykernel_launcher.py:19: UserWarning: [W007] The model you're using has no word vectors loaded, so the result of the Doc.similarity method will be based on the tagger, parser and NER, which may not give useful similarity judgements. This may happen if you're using one of the small models, e.g. `en_core_web_sm`, which don't ship with word vectors and only use context-sensitive tensors. You can always add your own word vectors, or use one of the larger models instead if available.\n",
      "/opt/app-root/lib/python3.6/site-packages/ipykernel_launcher.py:20: UserWarning: [W007] The model you're using has no word vectors loaded, so the result of the Doc.similarity method will be based on the tagger, parser and NER, which may not give useful similarity judgements. This may happen if you're using one of the small models, e.g. `en_core_web_sm`, which don't ship with word vectors and only use context-sensitive tensors. You can always add your own word vectors, or use one of the larger models instead if available.\n",
      "/opt/app-root/lib/python3.6/site-packages/ipykernel_launcher.py:19: UserWarning: [W008] Evaluating Doc.similarity based on empty vectors.\n"
     ]
    },
    {
     "name": "stdout",
     "output_type": "stream",
     "text": [
      "Mean similarity: 0.7924319540065342\n",
      "[0.9078390543076835, 0.4845971121994884, 0.753279249675599, 0.9025749334899409, 0.739735949044245, 0.7284779587911665, 0.7561121363235664, 0.6277181723330252, 0.5677476852512697, 1.0, 0.7903552909353343, 1.0, 1.0, 0.7776286222795109, 0.6701604401467355, 0.9078390543076835, 0.7338118590491861, 1.0, 0.7279971917605249, 0.6757561202875948, 0.5677476852512697, 0.7638018181247417, 0.6922737382568802, 0.7800135107690807, 0.7010319355008847, 0.846070743212474, 0.6272582659167225, 0.8629527504418706, 0.6955667974732457, 0.7291098415833142, 1.0, 0.7131887376648282, 0.7142442828648483, 0.5571128736040991, 0.7973950889419062, 0.7181275284009544, 0.6972655969588063, 1.0, 0.8235915877023573, 0.8777137627959019, 0.85913011650759, 0.7269854599294534, 0.876784986485434, 1.0, 0.8395184322916649, 0.8318749482532465, 0.7880386225136826, 0.8582089136207721, 1.0, 1.0, 0.7615527000494979, 0.6277181723330252, 0.7716397987942751, 0.6984839388660253, 0.8628877537966684, 0.5571128736040991, 0.7878587659128863, 0.8235915877023573, 0.7239944117895213, 0.8206557446158871, 0.5654487703095887, 0.8940094884046713, 0.7584334238264047, 1.0, 0.6766291231204512, 0.7175535983800594, 1.0, 0.830424424374436, 0.857301763395154, 0.6619173085767404, 0.7925179997575069, 1.0, 0.8126959290990089, 0.6356567516261025, 0.4845971121994884, 0.6369394738941266, 0.7131887376648282, 0.5644226629695164, 0.4845971121994884, 1.0, 1.0, 0.4845971121994884, 1.0, 0.9547250744215545, 0.7925179997575069, 1.0, 0.9316488925472066, 0.7490003324553423, 1.0, 0.8045642095516561, 0.7097370179035556, 0.6916038385043265, 1.0, 0.7387115867200175, 0.7857739365949139, 0.8256943401869281, 0.6479877785858611, 1.0, 1.0, 0.9081649987146606]\n"
     ]
    },
    {
     "data": {
      "text/plain": [
       "<seaborn.axisgrid.FacetGrid at 0x7f39c52040f0>"
      ]
     },
     "execution_count": 13,
     "metadata": {},
     "output_type": "execute_result"
    },
    {
     "data": {
      "image/png": "[encoded data removed]",
      "text/plain": [
       "<Figure size 360x360 with 1 Axes>"
      ]
     },
     "metadata": {
      "needs_background": "light"
     },
     "output_type": "display_data"
    }
   ],
   "source": [
    "import spacy\n",
    "\n",
    "#spacy is a free industrial-strenth NLP in python (https://spacy.io/)\n",
    "#en_core_web_sm is an english pipeline optimized for cpu.  components: tok2vec, tagger, prser, senter, ner, attribure_rulter, lemmantizer\n",
    "\n",
    "nlp = spacy.load('en_core_web_sm')  #the nlp is going to tokenize the lists dt_b, dt_a\n",
    "#nlp = spacy.load('en')\n",
    "\n",
    "dt_b = subset[\"response\"]  #109 responses (from our google form) in our response.csv\n",
    "dt_a = [next(t) for i in range(100)]  #created sentences from 3 models that were combined.  Remember the 3 models were (created) based on the the reponse.csv issues (categories)\n",
    "\n",
    "import numpy as np\n",
    "a = []\n",
    "for sentence in dt_a:\n",
    "    doc = nlp(sentence)\n",
    "    m = 0\n",
    "    for sentence1 in dt_b:\n",
    "        doc1 = nlp(sentence1)\n",
    "        if m < doc.similarity(doc1):\n",
    "            m = doc.similarity(doc1)  #m is taking the highest similarity of all the comparisons made  (a[] is a bunch of numbers between 1 and -1)\n",
    "    a.append(m)\n",
    "        \n",
    "print(\"Mean similarity: \" + str(np.array(a).mean()))\n",
    "print(a)\n",
    "\n",
    "import seaborn as sns\n",
    "sns.displot(a)\n",
    "\n",
    "#plotting generated sentences vs google form sentences.  For each google form sentence, what was the most similiar in the list of generated sentences.\n",
    "#have a fairly normal distributation which demonstrates that our nlp generation isn't bad :)"
   ]
  },
  {
   "cell_type": "code",
   "execution_count": 14,
   "metadata": {},
   "outputs": [],
   "source": [
    "import cProfile\n",
    "\n",
    "def timing(c):\n",
    "    for _ in range(c):\n",
    "        next(t)\n",
    "\n",
    "cProfile.run('timing(2000)', 'generatestats')"
   ]
  },
  {
   "cell_type": "code",
   "execution_count": 15,
   "metadata": {},
   "outputs": [
    {
     "name": "stdout",
     "output_type": "stream",
     "text": [
      "Fri Mar 26 15:58:17 2021    generatestats\n",
      "\n",
      "         325196 function calls (298092 primitive calls) in 0.179 seconds\n",
      "\n",
      "   Ordered by: standard name\n",
      "\n",
      "   ncalls  tottime  percall  cumtime  percall filename:lineno(function)\n",
      "     2000    0.002    0.000    0.009    0.000 <ipython-input-10-5f1382f3447f>:13(choose_model)\n",
      "     2000    0.002    0.000    0.177    0.000 <ipython-input-10-5f1382f3447f>:2(generate_cases)\n",
      "        1    0.001    0.001    0.179    0.179 <ipython-input-14-801ca619797e>:3(timing)\n",
      "     2000    0.002    0.000    0.166    0.000 <ipython-input-4-c0cb6e445263>:10(make_sentence)\n",
      "        1    0.000    0.000    0.179    0.179 <string>:1(<module>)\n",
      "    68516    0.019    0.000    0.028    0.000 chain.py:10(accumulate)\n",
      "    29394    0.022    0.000    0.140    0.000 chain.py:112(gen)\n",
      "     2290    0.006    0.000    0.146    0.000 chain.py:125(walk)\n",
      "    29394    0.075    0.000    0.118    0.000 chain.py:96(move)\n",
      "     2290    0.001    0.000    0.002    0.000 text.py:120(word_join)\n",
      "     2290    0.007    0.000    0.159    0.000 text.py:175(make_sentence)\n",
      "     2000    0.005    0.000    0.165    0.000 text.py:221(make_short_sentence)\n",
      "    29394    0.008    0.000    0.008    0.000 {built-in method _bisect.bisect}\n",
      "    14308    0.002    0.000    0.002    0.000 {built-in method _operator.add}\n",
      "        1    0.000    0.000    0.179    0.179 {built-in method builtins.exec}\n",
      "     2290    0.002    0.000    0.002    0.000 {built-in method builtins.hasattr}\n",
      "    27104    0.004    0.000    0.004    0.000 {built-in method builtins.iter}\n",
      "     4290    0.000    0.000    0.000    0.000 {built-in method builtins.len}\n",
      "29104/2000    0.004    0.000    0.178    0.000 {built-in method builtins.next}\n",
      "        1    0.000    0.000    0.000    0.000 {method 'disable' of '_lsprof.Profiler' objects}\n",
      "    15740    0.002    0.000    0.002    0.000 {method 'get' of 'dict' objects}\n",
      "    27104    0.003    0.000    0.003    0.000 {method 'items' of 'dict' objects}\n",
      "     2290    0.001    0.000    0.001    0.000 {method 'join' of 'str' objects}\n",
      "    29394    0.003    0.000    0.003    0.000 {method 'random' of '_random.Random' objects}\n",
      "     2000    0.008    0.000    0.008    0.000 {method 'uniform' of 'numpy.random.mtrand.RandomState' objects}\n",
      "\n",
      "\n"
     ]
    },
    {
     "data": {
      "text/plain": [
       "<pstats.Stats at 0x7f39bc9e44a8>"
      ]
     },
     "execution_count": 15,
     "metadata": {},
     "output_type": "execute_result"
    }
   ],
   "source": [
    "import pstats\n",
    "p = pstats.Stats('generatestats')\n",
    "p.strip_dirs().sort_stats(-1).print_stats()"
   ]
  },
  {
   "cell_type": "code",
   "execution_count": null,
   "metadata": {},
   "outputs": [],
   "source": []
  }
 ],
 "metadata": {
  "kernelspec": {
   "display_name": "Python 3",
   "language": "python",
   "name": "python3"
  },
  "language_info": {
   "codemirror_mode": {
    "name": "ipython",
    "version": 3
   },
   "file_extension": ".py",
   "mimetype": "text/x-python",
   "name": "python",
   "nbconvert_exporter": "python",
   "pygments_lexer": "ipython3",
   "version": "3.6.8"
  }
 },
 "nbformat": 4,
 "nbformat_minor": 4
}
