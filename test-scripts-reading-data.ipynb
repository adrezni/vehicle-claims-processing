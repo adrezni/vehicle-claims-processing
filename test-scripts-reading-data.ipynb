{
 "cells": [
  {
   "cell_type": "code",
   "execution_count": 2,
   "metadata": {},
   "outputs": [
    {
     "name": "stdout",
     "output_type": "stream",
     "text": [
      "Requirement already satisfied: markovify in /opt/app-root/lib/python3.6/site-packages (0.9.0)\n",
      "Requirement already satisfied: unidecode in /opt/app-root/lib/python3.6/site-packages (from markovify) (1.2.0)\n"
     ]
    }
   ],
   "source": [
    "!pip install markovify"
   ]
  },
  {
   "cell_type": "code",
   "execution_count": 1,
   "metadata": {},
   "outputs": [],
   "source": [
    "\n",
    "import pandas as pd # data processing, CSV file I/O (e.g. pd.read_csv)\n",
    "import markovify #Markov Chain Generator"
   ]
  },
  {
   "cell_type": "code",
   "execution_count": 3,
   "metadata": {},
   "outputs": [],
   "source": [
    "#read in CLAIMS-EDITED-3-COLS.csv.  This will be used as the 'seed' to generate more data.\n",
    "\n",
    "#inp = pd.read_csv('../input/abcnews-date-text.csv')\n",
    "#inp.head(3)\n",
    "\n",
    "url = 'https://raw.githubusercontent.com/adrezni/claims-generator/main/CLAIMS-EDITED-3-COLS.csv'\n",
    "df1 = pd.read_csv(url)\n"
   ]
  },
  {
   "cell_type": "code",
   "execution_count": 4,
   "metadata": {},
   "outputs": [
    {
     "data": {
      "text/html": [
       "<div>\n",
       "<style scoped>\n",
       "    .dataframe tbody tr th:only-of-type {\n",
       "        vertical-align: middle;\n",
       "    }\n",
       "\n",
       "    .dataframe tbody tr th {\n",
       "        vertical-align: top;\n",
       "    }\n",
       "\n",
       "    .dataframe thead th {\n",
       "        text-align: right;\n",
       "    }\n",
       "</style>\n",
       "<table border=\"1\" class=\"dataframe\">\n",
       "  <thead>\n",
       "    <tr style=\"text-align: right;\">\n",
       "      <th></th>\n",
       "      <th>Timestamp</th>\n",
       "      <th>Name</th>\n",
       "      <th>Issue</th>\n",
       "      <th>Description</th>\n",
       "    </tr>\n",
       "  </thead>\n",
       "  <tbody>\n",
       "    <tr>\n",
       "      <th>0</th>\n",
       "      <td>03/04/21 10:46 AM</td>\n",
       "      <td>Smith 01</td>\n",
       "      <td>Brakes</td>\n",
       "      <td>my brakes make a noise whenever I try to stop</td>\n",
       "    </tr>\n",
       "    <tr>\n",
       "      <th>1</th>\n",
       "      <td>03/04/21 10:46 AM</td>\n",
       "      <td>Smith 02</td>\n",
       "      <td>Starter</td>\n",
       "      <td>Car starts then stops</td>\n",
       "    </tr>\n",
       "    <tr>\n",
       "      <th>2</th>\n",
       "      <td>03/04/21 10:47 AM</td>\n",
       "      <td>Smith 03</td>\n",
       "      <td>Door</td>\n",
       "      <td>I can't open the damn door to my car</td>\n",
       "    </tr>\n",
       "  </tbody>\n",
       "</table>\n",
       "</div>"
      ],
      "text/plain": [
       "           Timestamp      Name    Issue  \\\n",
       "0  03/04/21 10:46 AM  Smith 01   Brakes   \n",
       "1  03/04/21 10:46 AM  Smith 02  Starter   \n",
       "2  03/04/21 10:47 AM  Smith 03     Door   \n",
       "\n",
       "                                     Description  \n",
       "0  my brakes make a noise whenever I try to stop  \n",
       "1                          Car starts then stops  \n",
       "2           I can't open the damn door to my car  "
      ]
     },
     "execution_count": 4,
     "metadata": {},
     "output_type": "execute_result"
    }
   ],
   "source": [
    "#print out first 3 rows of the newly generated dataframe\n",
    "df1.head(3)"
   ]
  },
  {
   "cell_type": "code",
   "execution_count": 5,
   "metadata": {},
   "outputs": [],
   "source": [
    "#create a text model using markovify\n",
    "\n",
    "text_model = markovify.NewlineText(df1.Description, state_size = 2)"
   ]
  },
  {
   "cell_type": "code",
   "execution_count": null,
   "metadata": {},
   "outputs": [],
   "source": [
    "f = open('foo.csv', 'wb')\n",
    "w = csv.writer(f)"
   ]
  },
  {
   "cell_type": "code",
   "execution_count": 7,
   "metadata": {},
   "outputs": [
    {
     "name": "stdout",
     "output_type": "stream",
     "text": [
      "Customer states breaks make a noise and does not roll back up.\n",
      "I turn the key in it makes a grinding noise. It's rather a periodic deep sound when stopping. It is more squealing or screeching sounds than grinding. Plus it seems it takes a long time to start, and if I push the gas peddle. There isn't an immediate response. \n",
      "While driving I hear a grinding sound for a while and never turns over.\n",
      "The car won't turn off either. I'm on the brakes. Squealing sound\n",
      "It seems like I have some noise when I brake, after a few seconds, the brakes are worn down and the batteries just keep dying after about a week. Aaarrrggghhh!!!!\n",
      "My cars breaks make noises and also take more time to come to a stop at a light or stop sign and then nothing happens. Cannot get the emergency brake to disengage. When I hit the start button to turn over. Please help ASAP!\n",
      "The battery is getting old because car doesn't start\n",
      "I was working on the brake it works better.\n",
      "Car makes grinding noise too.\n",
      "The battery is getting old so my range is a light that came on that looks to be working ok, but that sound wasn't there when I step on the passenger front side is having issues and does not ever cool down and the air coming out of park. When I hit the starter firing but the car would not start. I'm not sure if it is the battery since the lights would come one and the batteries just keep dying after about a week. Aaarrrggghhh!!!!\n"
     ]
    }
   ],
   "source": [
    "# Print randomly-generated sentences using the built model\n",
    "\n",
    "for i in range(10):\n",
    "    f = text_model.make_sentence()\n",
    "    print(f)"
   ]
  },
  {
   "cell_type": "code",
   "execution_count": null,
   "metadata": {},
   "outputs": [],
   "source": []
  }
 ],
 "metadata": {
  "kernelspec": {
   "display_name": "Python 3",
   "language": "python",
   "name": "python3"
  },
  "language_info": {
   "codemirror_mode": {
    "name": "ipython",
    "version": 3
   },
   "file_extension": ".py",
   "mimetype": "text/x-python",
   "name": "python",
   "nbconvert_exporter": "python",
   "pygments_lexer": "ipython3",
   "version": "3.8.3"
  }
 },
 "nbformat": 4,
 "nbformat_minor": 4
}
