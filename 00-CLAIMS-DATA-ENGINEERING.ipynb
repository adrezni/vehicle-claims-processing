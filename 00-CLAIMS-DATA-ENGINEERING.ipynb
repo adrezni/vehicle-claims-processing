{
 "cells": [
  {
   "cell_type": "markdown",
   "metadata": {},
   "source": [
    "python -m spacy download en_core_web_smData Generation\n",
    "\n",
    "Data was generated in 2 steps:\n",
    "\n",
    "1.Initial Data was captured internally via Google Form which asked users for car issues they currently have or had in the past\n",
    "Classified that data into: brakes, starter, other\n",
    "\n",
    "2.Took this 'training set' and used Markovify to generate more data for our tutorial"
   ]
  },
  {
   "cell_type": "code",
   "execution_count": 11,
   "metadata": {},
   "outputs": [
    {
     "name": "stdout",
     "output_type": "stream",
     "text": [
      "Requirement already satisfied: markovify in /opt/app-root/lib/python3.8/site-packages (from -r requirements.txt (line 1)) (0.9.0)\n",
      "Requirement already satisfied: matplotlib in /opt/app-root/lib/python3.8/site-packages (from -r requirements.txt (line 2)) (3.3.4)\n",
      "Requirement already satisfied: numpy in /opt/app-root/lib/python3.8/site-packages (from -r requirements.txt (line 3)) (1.19.5)\n",
      "Requirement already satisfied: pandas in /opt/app-root/lib/python3.8/site-packages (from -r requirements.txt (line 4)) (1.2.3)\n",
      "Requirement already satisfied: pytest in /opt/app-root/lib/python3.8/site-packages (from -r requirements.txt (line 5)) (6.2.3)\n",
      "Requirement already satisfied: regex in /opt/app-root/lib/python3.8/site-packages (from -r requirements.txt (line 6)) (2021.4.4)\n",
      "Requirement already satisfied: scipy in /opt/app-root/lib/python3.8/site-packages (from -r requirements.txt (line 7)) (1.6.1)\n",
      "Requirement already satisfied: seaborn in /opt/app-root/lib/python3.8/site-packages (from -r requirements.txt (line 8)) (0.11.1)\n",
      "Requirement already satisfied: spacy in /opt/app-root/lib/python3.8/site-packages (from -r requirements.txt (line 9)) (3.0.5)\n",
      "Requirement already satisfied: tensorflow in /opt/app-root/lib/python3.8/site-packages (from -r requirements.txt (line 10)) (2.4.1)\n",
      "Requirement already satisfied: tensorflow_hub in /opt/app-root/lib/python3.8/site-packages (from -r requirements.txt (line 11)) (0.11.0)\n",
      "Requirement already satisfied: wrapt in /opt/app-root/lib/python3.8/site-packages (from -r requirements.txt (line 12)) (1.12.1)\n",
      "Requirement already satisfied: unidecode in /opt/app-root/lib/python3.8/site-packages (from markovify->-r requirements.txt (line 1)) (1.2.0)\n",
      "Requirement already satisfied: cycler>=0.10 in /opt/app-root/lib/python3.8/site-packages (from matplotlib->-r requirements.txt (line 2)) (0.10.0)\n",
      "Requirement already satisfied: pillow>=6.2.0 in /opt/app-root/lib/python3.8/site-packages (from matplotlib->-r requirements.txt (line 2)) (8.1.2)\n",
      "Requirement already satisfied: pyparsing!=2.0.4,!=2.1.2,!=2.1.6,>=2.0.3 in /opt/app-root/lib/python3.8/site-packages (from matplotlib->-r requirements.txt (line 2)) (2.4.7)\n",
      "Requirement already satisfied: kiwisolver>=1.0.1 in /opt/app-root/lib/python3.8/site-packages (from matplotlib->-r requirements.txt (line 2)) (1.3.1)\n",
      "Requirement already satisfied: python-dateutil>=2.1 in /opt/app-root/lib/python3.8/site-packages (from matplotlib->-r requirements.txt (line 2)) (2.8.1)\n",
      "Requirement already satisfied: six in /opt/app-root/lib/python3.8/site-packages (from cycler>=0.10->matplotlib->-r requirements.txt (line 2)) (1.15.0)\n",
      "Requirement already satisfied: pytz>=2017.3 in /opt/app-root/lib/python3.8/site-packages (from pandas->-r requirements.txt (line 4)) (2021.1)\n",
      "Requirement already satisfied: iniconfig in /opt/app-root/lib/python3.8/site-packages (from pytest->-r requirements.txt (line 5)) (1.1.1)\n",
      "Requirement already satisfied: attrs>=19.2.0 in /opt/app-root/lib/python3.8/site-packages (from pytest->-r requirements.txt (line 5)) (20.3.0)\n",
      "Requirement already satisfied: toml in /opt/app-root/lib/python3.8/site-packages (from pytest->-r requirements.txt (line 5)) (0.10.2)\n",
      "Requirement already satisfied: packaging in /opt/app-root/lib/python3.8/site-packages (from pytest->-r requirements.txt (line 5)) (20.9)\n",
      "Requirement already satisfied: pluggy<1.0.0a1,>=0.12 in /opt/app-root/lib/python3.8/site-packages (from pytest->-r requirements.txt (line 5)) (0.13.1)\n",
      "Requirement already satisfied: py>=1.8.2 in /opt/app-root/lib/python3.8/site-packages (from pytest->-r requirements.txt (line 5)) (1.10.0)\n",
      "Requirement already satisfied: cymem<2.1.0,>=2.0.2 in /opt/app-root/lib/python3.8/site-packages (from spacy->-r requirements.txt (line 9)) (2.0.5)\n",
      "Requirement already satisfied: requests<3.0.0,>=2.13.0 in /opt/app-root/lib/python3.8/site-packages (from spacy->-r requirements.txt (line 9)) (2.25.1)\n",
      "Requirement already satisfied: srsly<3.0.0,>=2.4.0 in /opt/app-root/lib/python3.8/site-packages (from spacy->-r requirements.txt (line 9)) (2.4.0)\n",
      "Requirement already satisfied: catalogue<2.1.0,>=2.0.1 in /opt/app-root/lib/python3.8/site-packages (from spacy->-r requirements.txt (line 9)) (2.0.1)\n",
      "Requirement already satisfied: typer<0.4.0,>=0.3.0 in /opt/app-root/lib/python3.8/site-packages (from spacy->-r requirements.txt (line 9)) (0.3.2)\n",
      "Requirement already satisfied: preshed<3.1.0,>=3.0.2 in /opt/app-root/lib/python3.8/site-packages (from spacy->-r requirements.txt (line 9)) (3.0.5)\n",
      "Requirement already satisfied: spacy-legacy<3.1.0,>=3.0.0 in /opt/app-root/lib/python3.8/site-packages (from spacy->-r requirements.txt (line 9)) (3.0.2)\n",
      "Requirement already satisfied: murmurhash<1.1.0,>=0.28.0 in /opt/app-root/lib/python3.8/site-packages (from spacy->-r requirements.txt (line 9)) (1.0.5)\n",
      "Requirement already satisfied: wasabi<1.1.0,>=0.8.1 in /opt/app-root/lib/python3.8/site-packages (from spacy->-r requirements.txt (line 9)) (0.8.2)\n",
      "Requirement already satisfied: thinc<8.1.0,>=8.0.2 in /opt/app-root/lib/python3.8/site-packages (from spacy->-r requirements.txt (line 9)) (8.0.2)\n",
      "Requirement already satisfied: blis<0.8.0,>=0.4.0 in /opt/app-root/lib/python3.8/site-packages (from spacy->-r requirements.txt (line 9)) (0.7.4)\n",
      "Requirement already satisfied: jinja2 in /opt/app-root/lib/python3.8/site-packages (from spacy->-r requirements.txt (line 9)) (2.11.3)\n",
      "Requirement already satisfied: pathy>=0.3.5 in /opt/app-root/lib/python3.8/site-packages (from spacy->-r requirements.txt (line 9)) (0.4.0)\n",
      "Requirement already satisfied: tqdm<5.0.0,>=4.38.0 in /opt/app-root/lib/python3.8/site-packages (from spacy->-r requirements.txt (line 9)) (4.60.0)\n",
      "Requirement already satisfied: pydantic<1.8.0,>=1.7.1 in /opt/app-root/lib/python3.8/site-packages (from spacy->-r requirements.txt (line 9)) (1.7.3)\n",
      "Requirement already satisfied: setuptools in /opt/app-root/lib/python3.8/site-packages (from spacy->-r requirements.txt (line 9)) (54.2.0)\n",
      "Requirement already satisfied: smart-open<4.0.0,>=2.2.0 in /opt/app-root/lib/python3.8/site-packages (from pathy>=0.3.5->spacy->-r requirements.txt (line 9)) (3.0.0)\n",
      "Requirement already satisfied: certifi>=2017.4.17 in /opt/app-root/lib/python3.8/site-packages (from requests<3.0.0,>=2.13.0->spacy->-r requirements.txt (line 9)) (2020.12.5)\n",
      "Requirement already satisfied: chardet<5,>=3.0.2 in /opt/app-root/lib/python3.8/site-packages (from requests<3.0.0,>=2.13.0->spacy->-r requirements.txt (line 9)) (4.0.0)\n",
      "Requirement already satisfied: urllib3<1.27,>=1.21.1 in /opt/app-root/lib/python3.8/site-packages (from requests<3.0.0,>=2.13.0->spacy->-r requirements.txt (line 9)) (1.26.4)\n",
      "Requirement already satisfied: idna<3,>=2.5 in /opt/app-root/lib/python3.8/site-packages (from requests<3.0.0,>=2.13.0->spacy->-r requirements.txt (line 9)) (2.10)\n",
      "Requirement already satisfied: click<7.2.0,>=7.1.1 in /opt/app-root/lib/python3.8/site-packages (from typer<0.4.0,>=0.3.0->spacy->-r requirements.txt (line 9)) (7.1.2)\n",
      "Requirement already satisfied: grpcio~=1.32.0 in /opt/app-root/lib/python3.8/site-packages (from tensorflow->-r requirements.txt (line 10)) (1.32.0)\n",
      "Requirement already satisfied: opt-einsum~=3.3.0 in /opt/app-root/lib/python3.8/site-packages (from tensorflow->-r requirements.txt (line 10)) (3.3.0)\n",
      "Requirement already satisfied: termcolor~=1.1.0 in /opt/app-root/lib/python3.8/site-packages (from tensorflow->-r requirements.txt (line 10)) (1.1.0)\n",
      "Requirement already satisfied: h5py~=2.10.0 in /opt/app-root/lib/python3.8/site-packages (from tensorflow->-r requirements.txt (line 10)) (2.10.0)\n",
      "Requirement already satisfied: typing-extensions~=3.7.4 in /opt/app-root/lib/python3.8/site-packages (from tensorflow->-r requirements.txt (line 10)) (3.7.4.3)\n",
      "Requirement already satisfied: flatbuffers~=1.12.0 in /opt/app-root/lib/python3.8/site-packages (from tensorflow->-r requirements.txt (line 10)) (1.12)\n",
      "Requirement already satisfied: wheel~=0.35 in /opt/app-root/lib/python3.8/site-packages (from tensorflow->-r requirements.txt (line 10)) (0.36.2)\n",
      "Requirement already satisfied: tensorboard~=2.4 in /opt/app-root/lib/python3.8/site-packages (from tensorflow->-r requirements.txt (line 10)) (2.4.1)\n",
      "Requirement already satisfied: gast==0.3.3 in /opt/app-root/lib/python3.8/site-packages (from tensorflow->-r requirements.txt (line 10)) (0.3.3)\n",
      "Requirement already satisfied: protobuf>=3.9.2 in /opt/app-root/lib/python3.8/site-packages (from tensorflow->-r requirements.txt (line 10)) (3.15.6)\n",
      "Requirement already satisfied: astunparse~=1.6.3 in /opt/app-root/lib/python3.8/site-packages (from tensorflow->-r requirements.txt (line 10)) (1.6.3)\n",
      "Requirement already satisfied: tensorflow-estimator<2.5.0,>=2.4.0 in /opt/app-root/lib/python3.8/site-packages (from tensorflow->-r requirements.txt (line 10)) (2.4.0)\n",
      "Requirement already satisfied: google-pasta~=0.2 in /opt/app-root/lib/python3.8/site-packages (from tensorflow->-r requirements.txt (line 10)) (0.2.0)\n",
      "Requirement already satisfied: absl-py~=0.10 in /opt/app-root/lib/python3.8/site-packages (from tensorflow->-r requirements.txt (line 10)) (0.12.0)\n",
      "Requirement already satisfied: keras-preprocessing~=1.1.2 in /opt/app-root/lib/python3.8/site-packages (from tensorflow->-r requirements.txt (line 10)) (1.1.2)\n",
      "Requirement already satisfied: tensorboard-plugin-wit>=1.6.0 in /opt/app-root/lib/python3.8/site-packages (from tensorboard~=2.4->tensorflow->-r requirements.txt (line 10)) (1.8.0)\n",
      "Requirement already satisfied: google-auth<2,>=1.6.3 in /opt/app-root/lib/python3.8/site-packages (from tensorboard~=2.4->tensorflow->-r requirements.txt (line 10)) (1.27.1)\n",
      "Requirement already satisfied: google-auth-oauthlib<0.5,>=0.4.1 in /opt/app-root/lib/python3.8/site-packages (from tensorboard~=2.4->tensorflow->-r requirements.txt (line 10)) (0.4.4)\n",
      "Requirement already satisfied: markdown>=2.6.8 in /opt/app-root/lib/python3.8/site-packages (from tensorboard~=2.4->tensorflow->-r requirements.txt (line 10)) (3.3.4)\n",
      "Requirement already satisfied: werkzeug>=0.11.15 in /opt/app-root/lib/python3.8/site-packages (from tensorboard~=2.4->tensorflow->-r requirements.txt (line 10)) (1.0.1)\n",
      "Requirement already satisfied: cachetools<5.0,>=2.0.0 in /opt/app-root/lib/python3.8/site-packages (from google-auth<2,>=1.6.3->tensorboard~=2.4->tensorflow->-r requirements.txt (line 10)) (4.2.1)\n",
      "Requirement already satisfied: rsa<5,>=3.1.4 in /opt/app-root/lib/python3.8/site-packages (from google-auth<2,>=1.6.3->tensorboard~=2.4->tensorflow->-r requirements.txt (line 10)) (4.7.2)\n",
      "Requirement already satisfied: pyasn1-modules>=0.2.1 in /opt/app-root/lib/python3.8/site-packages (from google-auth<2,>=1.6.3->tensorboard~=2.4->tensorflow->-r requirements.txt (line 10)) (0.2.8)\n",
      "Requirement already satisfied: requests-oauthlib>=0.7.0 in /opt/app-root/lib/python3.8/site-packages (from google-auth-oauthlib<0.5,>=0.4.1->tensorboard~=2.4->tensorflow->-r requirements.txt (line 10)) (1.3.0)\n",
      "Requirement already satisfied: pyasn1<0.5.0,>=0.4.6 in /opt/app-root/lib/python3.8/site-packages (from pyasn1-modules>=0.2.1->google-auth<2,>=1.6.3->tensorboard~=2.4->tensorflow->-r requirements.txt (line 10)) (0.4.8)\n",
      "Requirement already satisfied: oauthlib>=3.0.0 in /opt/app-root/lib/python3.8/site-packages (from requests-oauthlib>=0.7.0->google-auth-oauthlib<0.5,>=0.4.1->tensorboard~=2.4->tensorflow->-r requirements.txt (line 10)) (3.1.0)\n",
      "Requirement already satisfied: MarkupSafe>=0.23 in /opt/app-root/lib/python3.8/site-packages (from jinja2->spacy->-r requirements.txt (line 9)) (1.1.1)\n"
     ]
    }
   ],
   "source": [
    "!pip install -r requirements.txt"
   ]
  },
  {
   "cell_type": "code",
   "execution_count": 2,
   "metadata": {},
   "outputs": [
    {
     "data": {
      "text/html": [
       "<div>\n",
       "<style scoped>\n",
       "    .dataframe tbody tr th:only-of-type {\n",
       "        vertical-align: middle;\n",
       "    }\n",
       "\n",
       "    .dataframe tbody tr th {\n",
       "        vertical-align: top;\n",
       "    }\n",
       "\n",
       "    .dataframe thead th {\n",
       "        text-align: right;\n",
       "    }\n",
       "</style>\n",
       "<table border=\"1\" class=\"dataframe\">\n",
       "  <thead>\n",
       "    <tr style=\"text-align: right;\">\n",
       "      <th></th>\n",
       "      <th>response</th>\n",
       "      <th>issue</th>\n",
       "      <th>symptom</th>\n",
       "    </tr>\n",
       "  </thead>\n",
       "  <tbody>\n",
       "    <tr>\n",
       "      <th>0</th>\n",
       "      <td>my brakes make a squeaking noise whenever I tr...</td>\n",
       "      <td>Brakes</td>\n",
       "      <td>Car makes grinding noise</td>\n",
       "    </tr>\n",
       "    <tr>\n",
       "      <th>1</th>\n",
       "      <td>super frustrating every time I start my car it...</td>\n",
       "      <td>Starter</td>\n",
       "      <td>Car starts then stops</td>\n",
       "    </tr>\n",
       "    <tr>\n",
       "      <th>2</th>\n",
       "      <td>I can't open the damn door to my car</td>\n",
       "      <td>Other</td>\n",
       "      <td></td>\n",
       "    </tr>\n",
       "    <tr>\n",
       "      <th>3</th>\n",
       "      <td>I turn the key and nothing happens</td>\n",
       "      <td>Starter</td>\n",
       "      <td>Car doesn't start</td>\n",
       "    </tr>\n",
       "    <tr>\n",
       "      <th>4</th>\n",
       "      <td>Car doesn't always start when it's low on blin...</td>\n",
       "      <td>Starter</td>\n",
       "      <td>Car doesn't start</td>\n",
       "    </tr>\n",
       "    <tr>\n",
       "      <th>...</th>\n",
       "      <td>...</td>\n",
       "      <td>...</td>\n",
       "      <td>...</td>\n",
       "    </tr>\n",
       "    <tr>\n",
       "      <th>104</th>\n",
       "      <td>Parking brake doesn’t return once released</td>\n",
       "      <td>Brakes</td>\n",
       "      <td>Car brakes, but then brakes disengage</td>\n",
       "    </tr>\n",
       "    <tr>\n",
       "      <th>105</th>\n",
       "      <td>my lights do not work</td>\n",
       "      <td>Other</td>\n",
       "      <td></td>\n",
       "    </tr>\n",
       "    <tr>\n",
       "      <th>106</th>\n",
       "      <td>I try to start the engine only to find that th...</td>\n",
       "      <td>Starter</td>\n",
       "      <td>Car doesn't start</td>\n",
       "    </tr>\n",
       "    <tr>\n",
       "      <th>107</th>\n",
       "      <td>The driver side window auto function does not ...</td>\n",
       "      <td>Other</td>\n",
       "      <td></td>\n",
       "    </tr>\n",
       "    <tr>\n",
       "      <th>108</th>\n",
       "      <td>Car takes too long to stop when I press the br...</td>\n",
       "      <td>Brakes</td>\n",
       "      <td>Car doesn't stop in timely manner</td>\n",
       "    </tr>\n",
       "  </tbody>\n",
       "</table>\n",
       "<p>109 rows × 3 columns</p>\n",
       "</div>"
      ],
      "text/plain": [
       "                                              response    issue  \\\n",
       "0    my brakes make a squeaking noise whenever I tr...   Brakes   \n",
       "1    super frustrating every time I start my car it...  Starter   \n",
       "2                 I can't open the damn door to my car    Other   \n",
       "3                   I turn the key and nothing happens  Starter   \n",
       "4    Car doesn't always start when it's low on blin...  Starter   \n",
       "..                                                 ...      ...   \n",
       "104         Parking brake doesn’t return once released   Brakes   \n",
       "105                              my lights do not work    Other   \n",
       "106  I try to start the engine only to find that th...  Starter   \n",
       "107  The driver side window auto function does not ...    Other   \n",
       "108  Car takes too long to stop when I press the br...   Brakes   \n",
       "\n",
       "                                   symptom  \n",
       "0                 Car makes grinding noise  \n",
       "1                    Car starts then stops  \n",
       "2                                           \n",
       "3                        Car doesn't start  \n",
       "4                        Car doesn't start  \n",
       "..                                     ...  \n",
       "104  Car brakes, but then brakes disengage  \n",
       "105                                         \n",
       "106                      Car doesn't start  \n",
       "107                                         \n",
       "108      Car doesn't stop in timely manner  \n",
       "\n",
       "[109 rows x 3 columns]"
      ]
     },
     "execution_count": 2,
     "metadata": {},
     "output_type": "execute_result"
    }
   ],
   "source": [
    "import pandas as pd\n",
    "100\n",
    "df = pd.read_csv('response.csv') \n",
    "df = df.fillna('')\n",
    "df['response']=df.iloc[:,3]+df.iloc[:,5]+df.iloc[:,6]\n",
    "df['issue'] = df.iloc[:,1]\n",
    "df['symptom'] = df.iloc[:,2] + df.iloc[:,4]\n",
    "subset = df.iloc[:,-3:]\n",
    "subset"
   ]
  },
  {
   "cell_type": "code",
   "execution_count": 3,
   "metadata": {},
   "outputs": [],
   "source": [
    "import markovify\n",
    "import codecs"
   ]
  },
  {
   "cell_type": "code",
   "execution_count": 4,
   "metadata": {},
   "outputs": [],
   "source": [
    "#markovify is a simple, extensible Markov chain generator\n",
    "#Its primary use is for building Markov models of large corpora of text and generating random sentences from that.\n",
    "\n",
    "\n",
    "#Function builds the model according to what issue (e.g. brakes, starter, other) is given\n",
    "def train_markov_type(data, issue):\n",
    "    return markovify.Text(data[data[\"issue\"] == issue].response, retain_original=False, state_size=2)\n",
    "\n",
    "#Function takes one of the 'issue' models and creates a randomly-generated sentence of length up to 200 characters.  Note only creates '1' sentence\n",
    "def make_sentence(model, length=100):\n",
    "    return model.make_short_sentence(length, max_overlap_ratio = .7, max_overlap_total=15)\n",
    "\n",
    "#built models\n",
    "other_model = train_markov_type(subset, \"Other\")\n",
    "brakes_model = train_markov_type(subset, \"Brakes\")\n",
    "starter_model = train_markov_type(subset, \"Starter\")"
   ]
  },
  {
   "cell_type": "code",
   "execution_count": null,
   "metadata": {},
   "outputs": [],
   "source": []
  },
  {
   "cell_type": "code",
   "execution_count": 5,
   "metadata": {},
   "outputs": [
    {
     "data": {
      "text/plain": [
       "'There is a bit short these days.'"
      ]
     },
     "execution_count": 5,
     "metadata": {},
     "output_type": "execute_result"
    }
   ],
   "source": [
    "make_sentence(other_model)  #creates a sentence that should be an example of 'other' issue(category)"
   ]
  },
  {
   "cell_type": "code",
   "execution_count": 6,
   "metadata": {},
   "outputs": [
    {
     "data": {
      "text/plain": [
       "'Car takes too long to stop and sometimes very bumpy.'"
      ]
     },
     "execution_count": 6,
     "metadata": {},
     "output_type": "execute_result"
    }
   ],
   "source": [
    "make_sentence(brakes_model)  #creates a sentence that should be an example of 'brakes' issue(category)"
   ]
  },
  {
   "cell_type": "code",
   "execution_count": 7,
   "metadata": {},
   "outputs": [
    {
     "data": {
      "text/plain": [
       "'When I try to start the engine unless you hit the starter with a hammer.'"
      ]
     },
     "execution_count": 7,
     "metadata": {},
     "output_type": "execute_result"
    }
   ],
   "source": [
    "make_sentence(starter_model)   #creates a sentence that should be an example of 'starter' issue(category)"
   ]
  },
  {
   "cell_type": "markdown",
   "metadata": {},
   "source": [
    "We can combine these models with relative weights"
   ]
  },
  {
   "cell_type": "code",
   "execution_count": null,
   "metadata": {},
   "outputs": [],
   "source": [
    "#create a compound model in which the sentences that come out will be 2x as many 'other' than 'brakes' or 'starters'\n",
    "\n",
    "#compound_model = markovify.combine([other_model, brakes_model, starter_model], [14, 7, 7])  "
   ]
  },
  {
   "cell_type": "code",
   "execution_count": null,
   "metadata": {},
   "outputs": [],
   "source": [
    "#make 20 sentences out of the compound model - copy the text into a spreadsheet and check the count of the issues  (e.g. how many brake issue are there?)\n",
    "\n",
    "for i in range(20):\n",
    "    print(make_sentence(brakes_model))"
   ]
  },
  {
   "cell_type": "code",
   "execution_count": 8,
   "metadata": {},
   "outputs": [],
   "source": [
    "import numpy\n",
    "\n",
    "def generate_cases(models, weights=None):\n",
    "    if weights is None:\n",
    "        weights = [1] * len(models)\n",
    "    \n",
    "    choices = []\n",
    "    \n",
    "    total_weight = float(sum(weights))\n",
    "    \n",
    "    for i in range(len(weights)):\n",
    "        choices.append((float(sum(weights[0:i+1])) / total_weight, models[i]))\n",
    "    \n",
    "    def choose_model():\n",
    "        r = numpy.random.uniform()\n",
    "        for (p, m) in choices:\n",
    "            if r <= p:\n",
    "                return m\n",
    "        return choices[-1][1]\n",
    "\n",
    "\n",
    "    def choose_from(c):\n",
    "        idx = math.floor(numpy.random.uniform() * len(c))\n",
    "        return c[idx]\n",
    "    \n",
    "    \n",
    "    while True:\n",
    "        yield (make_sentence(choose_model()), )\n",
    "        #create input sentence (my car won't stop), output model type (brakes)\n",
    "            "
   ]
  },
  {
   "cell_type": "code",
   "execution_count": 9,
   "metadata": {},
   "outputs": [],
   "source": [
    "#compound_model = markovify.combine([other_model, brakes_model, starter_model], [14, 7, 7])  \n",
    "\n",
    "t = generate_cases([other_model, brakes_model, starter_model], [3,4,4])  #actual sentences\n"
   ]
  },
  {
   "cell_type": "code",
   "execution_count": 10,
   "metadata": {
    "scrolled": true
   },
   "outputs": [
    {
     "data": {
      "text/plain": [
       "[('I tried starting my car it just stops again, what is wrong!',),\n",
       " ('I hear a rattling noise when i drive it above 60 mph',),\n",
       " ('But the car does not roll back up.',),\n",
       " ('The battery is getting old so my range is a lag when I go over a bump.',),\n",
       " ('Customer states breaks make noises and also take more time to stop.',)]"
      ]
     },
     "execution_count": 10,
     "metadata": {},
     "output_type": "execute_result"
    }
   ],
   "source": [
    "\n",
    "\n",
    "[next(t) for i in range(5)]  #create 100 sentences\n",
    "\n"
   ]
  },
  {
   "cell_type": "markdown",
   "metadata": {},
   "source": [
    "Checking for similarity (slow)"
   ]
  },
  {
   "cell_type": "code",
   "execution_count": null,
   "metadata": {},
   "outputs": [],
   "source": [
    "#https://stackoverflow.com/questions/54334304/spacy-cant-find-model-en-core-web-sm-on-windows-10-and-python-3-5-3-anacon\n",
    "#in your terminal window, execute the following code, before loading 'en_core_web_sm':\n",
    "\n",
    "#     cd vehicle-claims-processing/\n",
    "#     python -m spacy download en_core_web_sm\n"
   ]
  },
  {
   "cell_type": "code",
   "execution_count": null,
   "metadata": {},
   "outputs": [],
   "source": [
    "#spacy is a free open-source library for NLP in python\n",
    "#en_core_web_sm is an english pipeline optimized for cpu.  components: tok2vec, tagger, prser, senter, ner, attribure_rulter, lemmantizer\n",
    "#load english tokenizer, tagger, parser and NER\n",
    "#load english tokenizer, tagger, parser and NER\n",
    "\n",
    "import spacy"
   ]
  },
  {
   "cell_type": "code",
   "execution_count": null,
   "metadata": {},
   "outputs": [],
   "source": [
    "#load english tokenizer, tagger, parser and NER\n",
    "nlp = spacy.load('en_core_web_sm')  #the nlp is going to tokenize the lists dt_b, dt_a\n",
    "\n",
    "dt_b = subset[\"response\"]  #109 responses (from our google form) in our response.csv\n",
    "dt_a = [next(t) for i in range(100)]  #created sentences from 3 models that were combined.  Remember the 3 models were (created) based on the the reponse.csv issues (categories)\n",
    "\n",
    "import numpy as np\n",
    "a = []\n",
    "for sentence in dt_a:\n",
    "    doc = nlp(sentence)\n",
    "    m = 0\n",
    "    for sentence1 in dt_b:\n",
    "        doc1 = nlp(sentence1)\n",
    "        if m < doc.similarity(doc1):\n",
    "            m = doc.similarity(doc1)  #m is taking the highest similarity of all the comparisons made  (a[] is a bunch of numbers between 1 and -1)\n",
    "    a.append(m)\n",
    "        \n",
    "print(\"Mean similarity: \" + str(np.array(a).mean()))\n",
    "print(a)\n",
    "\n",
    "import seaborn as sns\n",
    "sns.displot(a)\n",
    "\n",
    "#plotting generated sentences vs google form sentences.  For each google form sentence, what was the most similiar in the list of generated sentences.\n",
    "#have a fairly normal distributation which demonstrates that our nlp generation isn't bad :)"
   ]
  },
  {
   "cell_type": "code",
   "execution_count": null,
   "metadata": {},
   "outputs": [],
   "source": [
    "import cProfile\n",
    "\n",
    "def timing(c):\n",
    "    for _ in range(c):\n",
    "        next(t)\n",
    "\n",
    "cProfile.run('timing(2000)', 'generatestats')"
   ]
  },
  {
   "cell_type": "code",
   "execution_count": null,
   "metadata": {},
   "outputs": [],
   "source": [
    "import pstats\n",
    "p = pstats.Stats('generatestats')\n",
    "p.strip_dirs().sort_stats(-1).print_stats()"
   ]
  },
  {
   "cell_type": "code",
   "execution_count": null,
   "metadata": {},
   "outputs": [],
   "source": []
  }
 ],
 "metadata": {
  "kernelspec": {
   "display_name": "Python 3",
   "language": "python",
   "name": "python3"
  },
  "language_info": {
   "codemirror_mode": {
    "name": "ipython",
    "version": 3
   },
   "file_extension": ".py",
   "mimetype": "text/x-python",
   "name": "python",
   "nbconvert_exporter": "python",
   "pygments_lexer": "ipython3",
   "version": "3.8.3"
  }
 },
 "nbformat": 4,
 "nbformat_minor": 4
}
