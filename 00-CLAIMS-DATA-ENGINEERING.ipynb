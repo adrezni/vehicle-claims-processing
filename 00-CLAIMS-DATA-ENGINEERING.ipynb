{
 "cells": [
  {
   "cell_type": "markdown",
   "metadata": {},
   "source": [
    "Data Generation\n",
    "\n",
    "Data was generated in 2 steps:\n",
    "\n",
    "1.Initial Data was captured internally via Google Form which asked users for car issues they currently have or had in the past\n",
    "Classified that data into: brakes, starter, other\n",
    "\n",
    "2.Took this 'training set' and used Markovify to generate more data for our tutorial"
   ]
  },
  {
   "cell_type": "code",
   "execution_count": 1,
   "metadata": {},
   "outputs": [
    {
     "name": "stdout",
     "output_type": "stream",
     "text": [
      "Requirement already satisfied: markovify in /opt/app-root/lib/python3.6/site-packages (from -r requirements.txt (line 1)) (0.9.0)\n",
      "Requirement already satisfied: nltk in /opt/app-root/lib/python3.6/site-packages (from -r requirements.txt (line 2)) (3.5)\n",
      "Requirement already satisfied: numpy in /opt/app-root/lib/python3.6/site-packages (from -r requirements.txt (line 3)) (1.19.5)\n",
      "Requirement already satisfied: pandas in /opt/app-root/lib/python3.6/site-packages (from -r requirements.txt (line 4)) (1.1.5)\n",
      "Requirement already satisfied: regex in /opt/app-root/lib/python3.6/site-packages (from -r requirements.txt (line 5)) (2020.10.23)\n",
      "Requirement already satisfied: seaborn in /opt/app-root/lib/python3.6/site-packages (from -r requirements.txt (line 6)) (0.11.1)\n",
      "Requirement already satisfied: wrapt in /opt/app-root/lib/python3.6/site-packages (from -r requirements.txt (line 7)) (1.12.1)\n",
      "Requirement already satisfied: spacy in /opt/app-root/lib/python3.6/site-packages (from -r requirements.txt (line 8)) (3.0.5)\n",
      "Requirement already satisfied: unidecode in /opt/app-root/lib/python3.6/site-packages (from markovify->-r requirements.txt (line 1)) (1.2.0)\n",
      "Requirement already satisfied: tqdm in /opt/app-root/lib/python3.6/site-packages (from nltk->-r requirements.txt (line 2)) (4.51.0)\n",
      "Requirement already satisfied: click in /opt/app-root/lib/python3.6/site-packages (from nltk->-r requirements.txt (line 2)) (7.1.2)\n",
      "Requirement already satisfied: joblib in /opt/app-root/lib/python3.6/site-packages (from nltk->-r requirements.txt (line 2)) (1.0.1)\n",
      "Requirement already satisfied: python-dateutil>=2.7.3 in /opt/app-root/lib/python3.6/site-packages (from pandas->-r requirements.txt (line 4)) (2.8.1)\n",
      "Requirement already satisfied: pytz>=2017.2 in /opt/app-root/lib/python3.6/site-packages (from pandas->-r requirements.txt (line 4)) (2020.1)\n",
      "Requirement already satisfied: matplotlib>=2.2 in /opt/app-root/lib/python3.6/site-packages (from seaborn->-r requirements.txt (line 6)) (3.3.4)\n",
      "Requirement already satisfied: scipy>=1.0 in /opt/app-root/lib/python3.6/site-packages (from seaborn->-r requirements.txt (line 6)) (1.5.4)\n",
      "Requirement already satisfied: thinc<8.1.0,>=8.0.2 in /opt/app-root/lib/python3.6/site-packages (from spacy->-r requirements.txt (line 8)) (8.0.2)\n",
      "Requirement already satisfied: blis<0.8.0,>=0.4.0 in /opt/app-root/lib/python3.6/site-packages (from spacy->-r requirements.txt (line 8)) (0.7.4)\n",
      "Requirement already satisfied: catalogue<2.1.0,>=2.0.1 in /opt/app-root/lib/python3.6/site-packages (from spacy->-r requirements.txt (line 8)) (2.0.1)\n",
      "Requirement already satisfied: srsly<3.0.0,>=2.4.0 in /opt/app-root/lib/python3.6/site-packages (from spacy->-r requirements.txt (line 8)) (2.4.0)\n",
      "Requirement already satisfied: murmurhash<1.1.0,>=0.28.0 in /opt/app-root/lib/python3.6/site-packages (from spacy->-r requirements.txt (line 8)) (1.0.5)\n",
      "Requirement already satisfied: jinja2 in /opt/app-root/lib/python3.6/site-packages (from spacy->-r requirements.txt (line 8)) (2.11.2)\n",
      "Requirement already satisfied: typing-extensions<4.0.0.0,>=3.7.4; python_version < \"3.8\" in /opt/app-root/lib/python3.6/site-packages (from spacy->-r requirements.txt (line 8)) (3.7.4.3)\n",
      "Requirement already satisfied: pathy>=0.3.5 in /opt/app-root/lib/python3.6/site-packages (from spacy->-r requirements.txt (line 8)) (0.4.0)\n",
      "Requirement already satisfied: cymem<2.1.0,>=2.0.2 in /opt/app-root/lib/python3.6/site-packages (from spacy->-r requirements.txt (line 8)) (2.0.5)\n",
      "Requirement already satisfied: typer<0.4.0,>=0.3.0 in /opt/app-root/lib/python3.6/site-packages (from spacy->-r requirements.txt (line 8)) (0.3.2)\n",
      "Requirement already satisfied: preshed<3.1.0,>=3.0.2 in /opt/app-root/lib/python3.6/site-packages (from spacy->-r requirements.txt (line 8)) (3.0.5)\n",
      "Requirement already satisfied: wasabi<1.1.0,>=0.8.1 in /opt/app-root/lib/python3.6/site-packages (from spacy->-r requirements.txt (line 8)) (0.8.2)\n",
      "Requirement already satisfied: requests<3.0.0,>=2.13.0 in /opt/app-root/lib/python3.6/site-packages (from spacy->-r requirements.txt (line 8)) (2.24.0)\n",
      "Requirement already satisfied: pydantic<1.8.0,>=1.7.1 in /opt/app-root/lib/python3.6/site-packages (from spacy->-r requirements.txt (line 8)) (1.7.3)\n",
      "Requirement already satisfied: packaging>=20.0 in /opt/app-root/lib/python3.6/site-packages (from spacy->-r requirements.txt (line 8)) (20.4)\n",
      "Requirement already satisfied: importlib-metadata>=0.20; python_version < \"3.8\" in /opt/app-root/lib/python3.6/site-packages (from spacy->-r requirements.txt (line 8)) (2.0.0)\n",
      "Requirement already satisfied: spacy-legacy<3.1.0,>=3.0.0 in /opt/app-root/lib/python3.6/site-packages (from spacy->-r requirements.txt (line 8)) (3.0.1)\n",
      "Requirement already satisfied: setuptools in /opt/app-root/lib/python3.6/site-packages (from spacy->-r requirements.txt (line 8)) (50.3.2)\n",
      "Requirement already satisfied: six>=1.5 in /opt/app-root/lib/python3.6/site-packages (from python-dateutil>=2.7.3->pandas->-r requirements.txt (line 4)) (1.15.0)\n",
      "Requirement already satisfied: pillow>=6.2.0 in /opt/app-root/lib/python3.6/site-packages (from matplotlib>=2.2->seaborn->-r requirements.txt (line 6)) (8.1.2)\n",
      "Requirement already satisfied: kiwisolver>=1.0.1 in /opt/app-root/lib/python3.6/site-packages (from matplotlib>=2.2->seaborn->-r requirements.txt (line 6)) (1.3.1)\n",
      "Requirement already satisfied: pyparsing!=2.0.4,!=2.1.2,!=2.1.6,>=2.0.3 in /opt/app-root/lib/python3.6/site-packages (from matplotlib>=2.2->seaborn->-r requirements.txt (line 6)) (2.4.7)\n",
      "Requirement already satisfied: cycler>=0.10 in /opt/app-root/lib/python3.6/site-packages (from matplotlib>=2.2->seaborn->-r requirements.txt (line 6)) (0.10.0)\n",
      "Requirement already satisfied: dataclasses<1.0,>=0.6; python_version < \"3.7\" in /opt/app-root/lib/python3.6/site-packages (from thinc<8.1.0,>=8.0.2->spacy->-r requirements.txt (line 8)) (0.7)\n",
      "Requirement already satisfied: contextvars<3,>=2.4; python_version < \"3.7\" in /opt/app-root/lib/python3.6/site-packages (from thinc<8.1.0,>=8.0.2->spacy->-r requirements.txt (line 8)) (2.4)\n",
      "Requirement already satisfied: MarkupSafe>=0.23 in /opt/app-root/lib/python3.6/site-packages (from jinja2->spacy->-r requirements.txt (line 8)) (1.1.1)\n",
      "Requirement already satisfied: smart-open<4.0.0,>=2.2.0 in /opt/app-root/lib/python3.6/site-packages (from pathy>=0.3.5->spacy->-r requirements.txt (line 8)) (3.0.0)\n",
      "Requirement already satisfied: certifi>=2017.4.17 in /opt/app-root/lib/python3.6/site-packages (from requests<3.0.0,>=2.13.0->spacy->-r requirements.txt (line 8)) (2020.6.20)\n",
      "Requirement already satisfied: urllib3!=1.25.0,!=1.25.1,<1.26,>=1.21.1 in /opt/app-root/lib/python3.6/site-packages (from requests<3.0.0,>=2.13.0->spacy->-r requirements.txt (line 8)) (1.25.11)\n",
      "Requirement already satisfied: idna<3,>=2.5 in /opt/app-root/lib/python3.6/site-packages (from requests<3.0.0,>=2.13.0->spacy->-r requirements.txt (line 8)) (2.10)\n",
      "Requirement already satisfied: chardet<4,>=3.0.2 in /opt/app-root/lib/python3.6/site-packages (from requests<3.0.0,>=2.13.0->spacy->-r requirements.txt (line 8)) (3.0.4)\n",
      "Requirement already satisfied: zipp>=0.5 in /opt/app-root/lib/python3.6/site-packages (from importlib-metadata>=0.20; python_version < \"3.8\"->spacy->-r requirements.txt (line 8)) (3.4.0)\n",
      "Requirement already satisfied: immutables>=0.9 in /opt/app-root/lib/python3.6/site-packages (from contextvars<3,>=2.4; python_version < \"3.7\"->thinc<8.1.0,>=8.0.2->spacy->-r requirements.txt (line 8)) (0.15)\n",
      "\u001b[33mWARNING: You are using pip version 20.2.4; however, version 21.0.1 is available.\n",
      "You should consider upgrading via the '/opt/app-root/bin/python3.6 -m pip install --upgrade pip' command.\u001b[0m\n"
     ]
    }
   ],
   "source": [
    "!pip install -r requirements.txt"
   ]
  },
  {
   "cell_type": "code",
   "execution_count": 2,
   "metadata": {},
   "outputs": [
    {
     "data": {
      "text/html": [
       "<div>\n",
       "<style scoped>\n",
       "    .dataframe tbody tr th:only-of-type {\n",
       "        vertical-align: middle;\n",
       "    }\n",
       "\n",
       "    .dataframe tbody tr th {\n",
       "        vertical-align: top;\n",
       "    }\n",
       "\n",
       "    .dataframe thead th {\n",
       "        text-align: right;\n",
       "    }\n",
       "</style>\n",
       "<table border=\"1\" class=\"dataframe\">\n",
       "  <thead>\n",
       "    <tr style=\"text-align: right;\">\n",
       "      <th></th>\n",
       "      <th>response</th>\n",
       "      <th>issue</th>\n",
       "      <th>symptom</th>\n",
       "    </tr>\n",
       "  </thead>\n",
       "  <tbody>\n",
       "    <tr>\n",
       "      <th>0</th>\n",
       "      <td>my brakes make a noise whenever I try to stop</td>\n",
       "      <td>Brakes</td>\n",
       "      <td>Car makes grinding noise</td>\n",
       "    </tr>\n",
       "    <tr>\n",
       "      <th>1</th>\n",
       "      <td>super frustrating every time I start my car it...</td>\n",
       "      <td>Starter</td>\n",
       "      <td>Car starts then stops</td>\n",
       "    </tr>\n",
       "    <tr>\n",
       "      <th>2</th>\n",
       "      <td>I can't open the damn door to my car</td>\n",
       "      <td>Other</td>\n",
       "      <td></td>\n",
       "    </tr>\n",
       "    <tr>\n",
       "      <th>3</th>\n",
       "      <td>I turn the key and nothing happens</td>\n",
       "      <td>Starter</td>\n",
       "      <td>Car doesn't start</td>\n",
       "    </tr>\n",
       "    <tr>\n",
       "      <th>4</th>\n",
       "      <td>Car doesn't always start when it's low on blin...</td>\n",
       "      <td>Starter</td>\n",
       "      <td>Car doesn't start</td>\n",
       "    </tr>\n",
       "    <tr>\n",
       "      <th>...</th>\n",
       "      <td>...</td>\n",
       "      <td>...</td>\n",
       "      <td>...</td>\n",
       "    </tr>\n",
       "    <tr>\n",
       "      <th>104</th>\n",
       "      <td>my breaks are faulty.</td>\n",
       "      <td>Brakes</td>\n",
       "      <td>Car brakes, but then brakes disengage</td>\n",
       "    </tr>\n",
       "    <tr>\n",
       "      <th>105</th>\n",
       "      <td>my lights do not work</td>\n",
       "      <td>Other</td>\n",
       "      <td></td>\n",
       "    </tr>\n",
       "    <tr>\n",
       "      <th>106</th>\n",
       "      <td>I try to start the engine only to find that th...</td>\n",
       "      <td>Starter</td>\n",
       "      <td>Car doesn't start</td>\n",
       "    </tr>\n",
       "    <tr>\n",
       "      <th>107</th>\n",
       "      <td>The driver side window auto function does not ...</td>\n",
       "      <td>Other</td>\n",
       "      <td></td>\n",
       "    </tr>\n",
       "    <tr>\n",
       "      <th>108</th>\n",
       "      <td>Sometimes when I press the brake, the car does...</td>\n",
       "      <td>Brakes</td>\n",
       "      <td>Car doesn't stop in timely manner</td>\n",
       "    </tr>\n",
       "  </tbody>\n",
       "</table>\n",
       "<p>109 rows × 3 columns</p>\n",
       "</div>"
      ],
      "text/plain": [
       "                                              response    issue  \\\n",
       "0        my brakes make a noise whenever I try to stop   Brakes   \n",
       "1    super frustrating every time I start my car it...  Starter   \n",
       "2                 I can't open the damn door to my car    Other   \n",
       "3                   I turn the key and nothing happens  Starter   \n",
       "4    Car doesn't always start when it's low on blin...  Starter   \n",
       "..                                                 ...      ...   \n",
       "104                              my breaks are faulty.   Brakes   \n",
       "105                              my lights do not work    Other   \n",
       "106  I try to start the engine only to find that th...  Starter   \n",
       "107  The driver side window auto function does not ...    Other   \n",
       "108  Sometimes when I press the brake, the car does...   Brakes   \n",
       "\n",
       "                                   symptom  \n",
       "0                 Car makes grinding noise  \n",
       "1                    Car starts then stops  \n",
       "2                                           \n",
       "3                        Car doesn't start  \n",
       "4                        Car doesn't start  \n",
       "..                                     ...  \n",
       "104  Car brakes, but then brakes disengage  \n",
       "105                                         \n",
       "106                      Car doesn't start  \n",
       "107                                         \n",
       "108      Car doesn't stop in timely manner  \n",
       "\n",
       "[109 rows x 3 columns]"
      ]
     },
     "execution_count": 2,
     "metadata": {},
     "output_type": "execute_result"
    }
   ],
   "source": [
    "import pandas as pd\n",
    "\n",
    "df = pd.read_csv('response.csv') \n",
    "df = df.fillna('')\n",
    "df['response']=df.iloc[:,3]+df.iloc[:,5]+df.iloc[:,6]\n",
    "df['issue'] = df.iloc[:,1]\n",
    "df['symptom'] = df.iloc[:,2] + df.iloc[:,4]\n",
    "subset = df.iloc[:,-3:]\n",
    "subset"
   ]
  },
  {
   "cell_type": "code",
   "execution_count": 3,
   "metadata": {},
   "outputs": [],
   "source": [
    "import markovify\n",
    "import codecs"
   ]
  },
  {
   "cell_type": "code",
   "execution_count": 24,
   "metadata": {},
   "outputs": [],
   "source": [
    "#markovify is a simple, extensible Markov chain generator\n",
    "#Its primary use is for building Markov models of large corpora of text and generating random sentences from that.\n",
    "\n",
    "\n",
    "#builds the model according to what issue (e.g. brakes, starter, other) is given\n",
    "def train_markov_type(data, issue):\n",
    "    return markovify.Text(data[data[\"issue\"] == issue].response, retain_original=False, state_size=2)\n",
    "\n",
    "#takes one of the 'issue' models and creates a randomly-generated sentence of length up to 200 characters.  Note only creates '1' sentence\n",
    "def make_sentence(model, length=100):\n",
    "    return model.make_short_sentence(length, max_overlap_ratio = .7, max_overlap_total=15)\n",
    "\n",
    "other_model = train_markov_type(subset, \"Other\")\n",
    "brakes_model = train_markov_type(subset, \"Brakes\")\n",
    "starter_model = train_markov_type(subset, \"Starter\")"
   ]
  },
  {
   "cell_type": "code",
   "execution_count": 25,
   "metadata": {},
   "outputs": [
    {
     "data": {
      "text/plain": [
       "'There is a light that came on that looks to be something related to the left.'"
      ]
     },
     "execution_count": 25,
     "metadata": {},
     "output_type": "execute_result"
    }
   ],
   "source": [
    "make_sentence(other_model)  #creates a sentence that should be an example of 'other' issue(category)"
   ]
  },
  {
   "cell_type": "code",
   "execution_count": 26,
   "metadata": {},
   "outputs": [
    {
     "data": {
      "text/plain": [
       "'Plus it seems it takes more force to stop'"
      ]
     },
     "execution_count": 26,
     "metadata": {},
     "output_type": "execute_result"
    }
   ],
   "source": [
    "make_sentence(brakes_model)  #creates a sentence that should be an example of 'brakes' issue(category)"
   ]
  },
  {
   "cell_type": "code",
   "execution_count": 27,
   "metadata": {},
   "outputs": [
    {
     "data": {
      "text/plain": [
       "'When I try to start the engine doesn’t power up'"
      ]
     },
     "execution_count": 27,
     "metadata": {},
     "output_type": "execute_result"
    }
   ],
   "source": [
    "make_sentence(starter_model)   #creates a sentence that should be an example of 'starter' issue(category)"
   ]
  },
  {
   "cell_type": "markdown",
   "metadata": {},
   "source": [
    "We can combine these models with relative weights"
   ]
  },
  {
   "cell_type": "code",
   "execution_count": 21,
   "metadata": {},
   "outputs": [],
   "source": [
    "#create a compound model in which the sentences that come out will be 2x as many 'other' than 'brakes' or 'starters'\n",
    "\n",
    "compound_model = markovify.combine([other_model, brakes_model, starter_model], [14, 7, 7])  "
   ]
  },
  {
   "cell_type": "code",
   "execution_count": 32,
   "metadata": {},
   "outputs": [
    {
     "name": "stdout",
     "output_type": "stream",
     "text": [
      "When I put the car is making a clicking noise.\n",
      "My back seat seatbelt won't lock.\n",
      "sometimes, it won't turn on, but it won't go up at all!\n",
      "Squealing sound\n",
      "When turning, the car does slow, but it definitely was not starting.\n",
      "I turn the wheel.\n",
      "My car is talking to me through the radio and a/c off, trying to jump start it.\n",
      "The rotors are warped so it's difficult to push the break pedal without lurching.\n",
      "This generally does not happen at very high speeds, but generally tolerable at or above 80.\n",
      "My cars breaks make noises and also take more time to come to a complete stop.\n",
      "I have the button pushed in and the car evaluated.\n",
      "Everything seems to be wearing down at different rates.\n",
      "When coming to a complete stop.\n",
      "If I try to start the car, turn the radio and asking me if I know where the All Spark is hidden\n",
      "I can't open the damn door to my car but it won't turn on, but it won't turn off either.\n",
      "This must be a sensor issue on this tire, but I'm not sure.\n",
      "Car makes a grinding noise as I drive.\n",
      "the flux capacitor is misfiring and I don't know what more you want from me, I get into the car, turn the key in the front.\n",
      "The air conditioner only blows cold sometimes.\n",
      "The gas door won't open, and I'm all out of the day and the light comes on and the light comes on and the batteries just keep dying after about a week.\n",
      "Car does not feel secure.\n",
      "The gas door won't open.\n",
      "Please help ASAP!\n",
      "That is all\n",
      "Everything seems to be something related to the left.\n",
      "windshield wipers\n",
      "To much technology, and that is ieven getting worse from model to newer model.\n",
      "There isn't an immediate response.\n"
     ]
    }
   ],
   "source": [
    "#make 20 sentences out of the compound model - copy the text into a spreadsheet and check the count of the issues  (e.g. how many brake issue are there?)\n",
    "\n",
    "for i in range(28):\n",
    "    print(make_sentence(compound_model))"
   ]
  },
  {
   "cell_type": "code",
   "execution_count": 10,
   "metadata": {},
   "outputs": [],
   "source": [
    "import numpy\n",
    "def generate_cases(models, weights=None):\n",
    "    if weights is None:\n",
    "        weights = [1] * len(models)\n",
    "    \n",
    "    choices = []\n",
    "    \n",
    "    total_weight = float(sum(weights))\n",
    "    \n",
    "    for i in range(len(weights)):\n",
    "        choices.append((float(sum(weights[0:i+1])) / total_weight, models[i]))\n",
    "    \n",
    "    def choose_model():\n",
    "        r = numpy.random.uniform()\n",
    "        for (p, m) in choices:\n",
    "            if r <= p:\n",
    "                return m\n",
    "        return choices[-1][1]\n",
    "\n",
    "\n",
    "    def choose_from(c):\n",
    "        idx = math.floor(numpy.random.uniform() * len(c))\n",
    "        return c[idx]\n",
    "    \n",
    "    \n",
    "    while True:\n",
    "        yield (make_sentence(choose_model()))\n",
    "            "
   ]
  },
  {
   "cell_type": "code",
   "execution_count": 11,
   "metadata": {},
   "outputs": [],
   "source": [
    "#compound_model = markovify.combine([other_model, brakes_model, starter_model], [14, 7, 7])  \n",
    "\n",
    "t = generate_cases([other_model, brakes_model, starter_model], [3,4,4])  #actual sentences\n",
    "\n"
   ]
  },
  {
   "cell_type": "code",
   "execution_count": 12,
   "metadata": {
    "scrolled": true
   },
   "outputs": [
    {
     "data": {
      "text/plain": [
       "['brake pads are not wearing down evenly',\n",
       " \"I can't drive that way, always these bullshitty new technologies...\",\n",
       " 'windshield wipers',\n",
       " \"Sometimes when I press the brake, the car doesn't respond immediately.\",\n",
       " 'My car does not turn over.',\n",
       " 'I feel a bit harder than I normally would.',\n",
       " 'My car makes a grinding noise too.',\n",
       " 'I have a keyless start system and when I step on the the fourth time.',\n",
       " 'If I pump the brake pedal',\n",
       " 'I have the button pushed in and the batteries just keep dying after about a week.',\n",
       " 'When coming to a complete stop, but then starts rolling again even if I push hard on the brake it works better.',\n",
       " 'I can hear the starter with a hammer.',\n",
       " \"When I tried to drive, the car doesn't seem to stop\",\n",
       " 'My car does not turn over.',\n",
       " 'When I tried to drive, the car does slow, but it takes more force to stop',\n",
       " \"That's all good.\",\n",
       " 'Sometimes when I press the brake, the car does not happen at very high speeds, but rather at speeds of around 30-40 mph.',\n",
       " 'It makes a weird whirring sound every time I start it',\n",
       " \"Where's the place, where I need to insert my key to start the engine only to find that the dashboard lights up, but the car to turn over.\",\n",
       " 'I have replaced the battery is dead, but I have a keyless start system and when I step on the brake and pushed the button, the lights would come one and the car to turn over.',\n",
       " 'It takes a long time before finally engaging and actually turning on.',\n",
       " 'Have to cycle the ignition button at least twice before my car starts.',\n",
       " 'Sometimes the car to turn over.',\n",
       " 'I have replaced the battery three times before the car is wrecking perfectly good batteries that should be lasting years.',\n",
       " \"The brake squeak and any time the slightest pressure is applied to the floor, and the car doesn't respond immediately.\",\n",
       " \"The car won't start!\",\n",
       " 'Then I have to stretch my leg to do it.',\n",
       " 'https://www.youtube.com/watch?v=bEME9licodY',\n",
       " \"It stops if I keep my foot firmly pressing down on the brake and the car doesn't seem to stop\",\n",
       " 'Squealing sound',\n",
       " \"The car won't turn off either.\",\n",
       " \"I have replaced the battery three times over the past year, so I think maybe either I'm buying defective batteries or something about the car to turn over.\",\n",
       " 'Have to cycle the ignition button at least twice before my car it just stops again, what is wrong!',\n",
       " \"It then takes several clicks on the menu to return to my previous display which is very slow to get moving and there's a horrible grinding noise as I drive.\",\n",
       " 'The steering wheel shudders and I hear a rattling noise when I go over a bump.',\n",
       " 'You must act immediately!',\n",
       " 'Usefulness is vanishing...',\n",
       " 'The car pulls to the left.',\n",
       " 'With that, highway driving is very unpleasant.',\n",
       " 'It is more squealing or screeching sounds than grinding.',\n",
       " 'With that, highway driving is very unpleasant.',\n",
       " \"I'm not sure if it is the battery since the lights would come one and the car starts on the the fourth time.\",\n",
       " 'I can hear the starter with a hammer.',\n",
       " \"Brakes might be getting old because car doesn't respond immediately.\",\n",
       " 'If I pump the brake pedal all the way to the car does slow, but it takes more force to stop',\n",
       " \"I don't get it.\",\n",
       " 'I tried starting my car starts.',\n",
       " \"My back seat seatbelt won't lock.\",\n",
       " 'Sometimes the car is wrecking perfectly good batteries that should be lasting years.',\n",
       " \"AC doesn't work\",\n",
       " \"It's really bad at lower speeds, but generally tolerable at or above 80.\",\n",
       " 'the privacy glass between my driver and my tires seem to be something related to the air coming out of gas.',\n",
       " \"My car keeps reporting that my driver's side front tire has no tire pressure, but when I bought the car.\",\n",
       " 'I came out from work at the end of the day and the car doesnt start.',\n",
       " 'Car dies when I step on the the fourth time.',\n",
       " 'brake pads are not wearing down evenly',\n",
       " 'I try to start the ignition?',\n",
       " 'my car does not stop',\n",
       " 'Plus it seems it takes more force to stop',\n",
       " 'It takes a long time to start, and if I push the key in the ignition, I just get a clicking sound - maybe a dead battery?',\n",
       " \"I'm on the road\",\n",
       " \"Starter makes clicking noise, won't start and it seems like the battery is dead, but I have to press the ignition button at least twice before my car but it definitely was not starting.\",\n",
       " \"I'm not sure if it is the battery since the lights would come one and the car is wrecking perfectly good batteries that should be lasting years.\",\n",
       " 'super frustrating every time I start my car starts.',\n",
       " '68F',\n",
       " 'my breaks are faulty.',\n",
       " 'Car makes a squeeky noise when stopping.',\n",
       " \"Car makes a lot noise and doesn't fully stop when we hit the break.\",\n",
       " 'Squealing sound',\n",
       " 'When coming to a complete stop.',\n",
       " \"I'm not sure if it is the battery since the lights would come one and the car would not start.\",\n",
       " \"Car makes a lot noise and doesn't fully stop when we hit the break.\",\n",
       " 'I turn the key and nothing happens',\n",
       " 'My battery keeps dying.',\n",
       " \"Brakes might be getting old because car doesn't respond immediately.\",\n",
       " \"It won't go, but it won't turn on, but it won't go up at all!\",\n",
       " \"Where's the place, where I need to insert my key to start it.\",\n",
       " 'With that, highway driving is very unpleasant.',\n",
       " \"My air conditioning doesn't seem to be wearing down at different rates.\",\n",
       " \"I can't open the damn door to my previous display which is very slow to get moving and there's a horrible grinding noise coming from the front of the car.\",\n",
       " 'Squealing sound',\n",
       " \"I can't open the damn door to my car\",\n",
       " 'Sometimes when I push hard on the brake pedal all the way to the brake pedal all the way to the car does slow, but it takes more force to stop',\n",
       " 'I try to start the engine only to find that the dashboard lights up, but the car to turn over.',\n",
       " '68F',\n",
       " 'Have to cycle the ignition three times before the car doesnt start.',\n",
       " 'my lights do not work',\n",
       " 'my car does slow, but it takes more force to stop',\n",
       " 'Car creates whistle sound each time I start it',\n",
       " 'Sometimes when I push hard on the brake pedal',\n",
       " \"I'm not sure if it is the battery three times over the past year, so I think maybe either I'm buying defective batteries or something about the car doesnt start.\",\n",
       " \"Starter makes clicking noise, won't start the engine only to find that the dashboard lights up, but the engine unless you hit the starter firing but the car to turn over.\",\n",
       " 'The other 3 tires report normally.',\n",
       " 'If I pump the brake pedal.',\n",
       " \"Starter makes clicking noise, won't start the ignition?\",\n",
       " 'my lights do not work',\n",
       " 'Just that odd clicking noise....',\n",
       " 'That is all',\n",
       " 'my car does not stop',\n",
       " 'Sometimes when I press down on the brake it works better.']"
      ]
     },
     "execution_count": 12,
     "metadata": {},
     "output_type": "execute_result"
    }
   ],
   "source": [
    "[next(t) for i in range(100)]  #create 100 sentences"
   ]
  },
  {
   "cell_type": "markdown",
   "metadata": {},
   "source": [
    "Checking for similarity (slow)"
   ]
  },
  {
   "cell_type": "code",
   "execution_count": null,
   "metadata": {},
   "outputs": [],
   "source": [
    "#https://stackoverflow.com/questions/54334304/spacy-cant-find-model-en-core-web-sm-on-windows-10-and-python-3-5-3-anacon\n",
    "#in your terminal window, execute the following code, before loading 'en_core_web_sm':\n",
    "#     cd vehicle-claims-processing/\n",
    "#     python -m spacy download en_core_web_sm\n"
   ]
  },
  {
   "cell_type": "code",
   "execution_count": 33,
   "metadata": {},
   "outputs": [
    {
     "name": "stderr",
     "output_type": "stream",
     "text": [
      "/opt/app-root/lib/python3.6/site-packages/ipykernel_launcher.py:19: UserWarning: [W007] The model you're using has no word vectors loaded, so the result of the Doc.similarity method will be based on the tagger, parser and NER, which may not give useful similarity judgements. This may happen if you're using one of the small models, e.g. `en_core_web_sm`, which don't ship with word vectors and only use context-sensitive tensors. You can always add your own word vectors, or use one of the larger models instead if available.\n",
      "/opt/app-root/lib/python3.6/site-packages/ipykernel_launcher.py:20: UserWarning: [W007] The model you're using has no word vectors loaded, so the result of the Doc.similarity method will be based on the tagger, parser and NER, which may not give useful similarity judgements. This may happen if you're using one of the small models, e.g. `en_core_web_sm`, which don't ship with word vectors and only use context-sensitive tensors. You can always add your own word vectors, or use one of the larger models instead if available.\n",
      "/opt/app-root/lib/python3.6/site-packages/ipykernel_launcher.py:19: UserWarning: [W008] Evaluating Doc.similarity based on empty vectors.\n"
     ]
    },
    {
     "name": "stdout",
     "output_type": "stream",
     "text": [
      "Mean similarity: 0.8046729318755124\n",
      "[0.7719163897847588, 1.0, 0.9582217248894436, 0.8419749711125252, 0.6632674682437107, 1.0, 1.0, 0.9064304613771647, 0.7365743678296388, 0.9212117714506375, 0.8065920147112234, 0.7726217282368428, 0.8056823369705565, 0.8526804182216756, 0.8043378292358959, 0.8304067451579549, 0.5272897972759032, 0.7181275284009544, 0.5677476852512697, 1.0, 0.7291098415833142, 0.855793609229526, 0.7269302582944932, 0.7077358889264597, 0.7269302582944932, 1.0, 0.7919561688398696, 1.0, 0.4845971121994884, 0.8352848402160005, 0.7291098415833142, 1.0, 0.5734288314889731, 0.7632864516088832, 0.753279249675599, 1.0, 0.8451555708947686, 0.6992963561982924, 0.7710974659842822, 0.7729148619016389, 0.7097855100377055, 0.6144685359639674, 0.7857739365949139, 0.7561121363235664, 1.0, 0.7704393063217706, 0.5272897972759032, 0.6277181723330252, 0.7846928492919893, 1.0, 1.0, 0.6766291231204512, 0.7878587659128863, 0.5677476852512697, 0.6766291231204512, 1.0, 0.8999214307132786, 0.893497517627217, 0.8241116828087405, 0.8819616921859351, 0.7587969016883167, 0.6272582659167225, 0.7239944117895213, 1.0, 0.5644226629695164, 1.0, 0.8419749711125252, 0.8016465156054471, 0.792197236061014, 0.8127729133517139, 0.7494423615817143, 0.7877306381274054, 0.5750886215355827, 0.753279249675599, 0.6766291231204512, 0.7518384234581135, 0.7561121363235664, 0.7548648146711667, 0.9860250307730094, 0.7761612711024339, 0.7026862906630853, 1.0, 0.9321594708341411, 0.7980772142996989, 0.5750886215355827, 0.8292575117811979, 1.0, 0.8744711047337963, 0.7291098415833142, 1.0, 1.0, 0.6238170014644799, 0.9562897082263385, 0.9117617360514707, 1.0, 0.893497517627217, 0.8485801595467027, 0.7269302582944932, 0.8058922330441081, 0.7338118590491861]\n"
     ]
    },
    {
     "data": {
      "text/plain": [
       "<seaborn.axisgrid.FacetGrid at 0x7f3213c9d2e8>"
      ]
     },
     "execution_count": 33,
     "metadata": {},
     "output_type": "execute_result"
    },
    {
     "data": {
      "image/png": "[encoded data removed]",
      "text/plain": [
       "<Figure size 360x360 with 1 Axes>"
      ]
     },
     "metadata": {
      "needs_background": "light"
     },
     "output_type": "display_data"
    }
   ],
   "source": [
    "import spacy\n",
    "\n",
    "#spacy is a free industrial-strenth NLP in python (https://spacy.io/)\n",
    "#en_core_web_sm is an english pipeline optimized for cpu.  components: tok2vec, tagger, prser, senter, ner, attribure_rulter, lemmantizer\n",
    "\n",
    "nlp = spacy.load('en_core_web_sm')  #the nlp is going to tokenize the lists dt_b, dt_a\n",
    "#nlp = spacy.load('en')\n",
    "\n",
    "dt_b = subset[\"response\"]  #109 responses (from our google form) in our response.csv\n",
    "dt_a = [next(t) for i in range(100)]  #created sentences from 3 models that were combined.  Remember the 3 models were (created) based on the the reponse.csv issues (categories)\n",
    "\n",
    "import numpy as np\n",
    "a = []\n",
    "for sentence in dt_a:\n",
    "    doc = nlp(sentence)\n",
    "    m = 0\n",
    "    for sentence1 in dt_b:\n",
    "        doc1 = nlp(sentence1)\n",
    "        if m < doc.similarity(doc1):\n",
    "            m = doc.similarity(doc1)  #m is taking the highest similarity of all the comparisons made  (a[] is a bunch of numbers between 1 and -1)\n",
    "    a.append(m)\n",
    "        \n",
    "print(\"Mean similarity: \" + str(np.array(a).mean()))\n",
    "print(a)\n",
    "\n",
    "import seaborn as sns\n",
    "sns.displot(a)\n",
    "\n",
    "#plotting generated sentences vs google form sentences.  For each google form sentence, what was the most similiar in the list of generated sentences.\n",
    "#have a fairly normal distributation which demonstrates that our nlp generation isn't bad :)"
   ]
  },
  {
   "cell_type": "code",
   "execution_count": 34,
   "metadata": {},
   "outputs": [],
   "source": [
    "import cProfile\n",
    "\n",
    "def timing(c):\n",
    "    for _ in range(c):\n",
    "        next(t)\n",
    "\n",
    "cProfile.run('timing(2000)', 'generatestats')"
   ]
  },
  {
   "cell_type": "code",
   "execution_count": 35,
   "metadata": {},
   "outputs": [
    {
     "name": "stdout",
     "output_type": "stream",
     "text": [
      "Sun Mar 21 22:33:22 2021    generatestats\n",
      "\n",
      "         294240 function calls (269838 primitive calls) in 0.157 seconds\n",
      "\n",
      "   Ordered by: standard name\n",
      "\n",
      "   ncalls  tottime  percall  cumtime  percall filename:lineno(function)\n",
      "     2000    0.002    0.000    0.009    0.000 <ipython-input-10-5f1382f3447f>:13(choose_model)\n",
      "     2000    0.001    0.000    0.156    0.000 <ipython-input-10-5f1382f3447f>:2(generate_cases)\n",
      "     2000    0.002    0.000    0.145    0.000 <ipython-input-24-d930d16f82f3>:6(make_sentence)\n",
      "        1    0.001    0.001    0.157    0.157 <ipython-input-34-801ca619797e>:3(timing)\n",
      "        1    0.000    0.000    0.157    0.157 <string>:1(<module>)\n",
      "    61849    0.017    0.000    0.025    0.000 chain.py:10(accumulate)\n",
      "    26435    0.019    0.000    0.122    0.000 chain.py:112(gen)\n",
      "     2033    0.006    0.000    0.128    0.000 chain.py:125(walk)\n",
      "    26435    0.065    0.000    0.103    0.000 chain.py:96(move)\n",
      "     2033    0.001    0.000    0.002    0.000 text.py:120(word_join)\n",
      "     2033    0.006    0.000    0.138    0.000 text.py:175(make_sentence)\n",
      "     2000    0.005    0.000    0.144    0.000 text.py:221(make_short_sentence)\n",
      "    26435    0.007    0.000    0.007    0.000 {built-in method _bisect.bisect}\n",
      "    13045    0.002    0.000    0.002    0.000 {built-in method _operator.add}\n",
      "        1    0.000    0.000    0.157    0.157 {built-in method builtins.exec}\n",
      "     2033    0.001    0.000    0.001    0.000 {built-in method builtins.hasattr}\n",
      "    24402    0.004    0.000    0.004    0.000 {built-in method builtins.iter}\n",
      "     4033    0.000    0.000    0.000    0.000 {built-in method builtins.len}\n",
      "26402/2000    0.004    0.000    0.157    0.000 {built-in method builtins.next}\n",
      "        1    0.000    0.000    0.000    0.000 {method 'disable' of '_lsprof.Profiler' objects}\n",
      "    14198    0.002    0.000    0.002    0.000 {method 'get' of 'dict' objects}\n",
      "    24402    0.003    0.000    0.003    0.000 {method 'items' of 'dict' objects}\n",
      "     2033    0.001    0.000    0.001    0.000 {method 'join' of 'str' objects}\n",
      "    26435    0.003    0.000    0.003    0.000 {method 'random' of '_random.Random' objects}\n",
      "     2000    0.007    0.000    0.007    0.000 {method 'uniform' of 'numpy.random.mtrand.RandomState' objects}\n",
      "\n",
      "\n"
     ]
    },
    {
     "data": {
      "text/plain": [
       "<pstats.Stats at 0x7f31d4f56908>"
      ]
     },
     "execution_count": 35,
     "metadata": {},
     "output_type": "execute_result"
    }
   ],
   "source": [
    "import pstats\n",
    "p = pstats.Stats('generatestats')\n",
    "p.strip_dirs().sort_stats(-1).print_stats()"
   ]
  },
  {
   "cell_type": "code",
   "execution_count": null,
   "metadata": {},
   "outputs": [],
   "source": []
  }
 ],
 "metadata": {
  "kernelspec": {
   "display_name": "Python 3",
   "language": "python",
   "name": "python3"
  },
  "language_info": {
   "codemirror_mode": {
    "name": "ipython",
    "version": 3
   },
   "file_extension": ".py",
   "mimetype": "text/x-python",
   "name": "python",
   "nbconvert_exporter": "python",
   "pygments_lexer": "ipython3",
   "version": "3.6.8"
  }
 },
 "nbformat": 4,
 "nbformat_minor": 4
}
