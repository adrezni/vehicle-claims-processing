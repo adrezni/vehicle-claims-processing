{
 "cells": [
  {
   "cell_type": "markdown",
   "metadata": {},
   "source": [
    "Data Generation\n",
    "\n",
    "Data was generated in 2 steps:\n",
    "\n",
    "1.Initial Data was captured internally via Google Form which asked users for car issues they currently have or had in the past\n",
    "Classified that data into: brakes, starter, other\n",
    "\n",
    "2.Took this 'training set' and used Markovify to generate more data for our tutorial"
   ]
  },
  {
   "cell_type": "code",
   "execution_count": 1,
   "metadata": {},
   "outputs": [
    {
     "name": "stdout",
     "output_type": "stream",
     "text": [
      "Collecting markovify\n",
      "  Downloading markovify-0.9.0.tar.gz (27 kB)\n",
      "Collecting nltk\n",
      "  Downloading nltk-3.5.zip (1.4 MB)\n",
      "\u001b[K     |████████████████████████████████| 1.4 MB 41.2 MB/s eta 0:00:01\n",
      "\u001b[?25hRequirement already satisfied: numpy in /opt/app-root/lib/python3.8/site-packages (from -r requirements.txt (line 3)) (1.20.1)\n",
      "Requirement already satisfied: pandas in /opt/app-root/lib/python3.8/site-packages (from -r requirements.txt (line 4)) (1.2.3)\n",
      "Collecting regex\n",
      "  Downloading regex-2021.3.17-cp38-cp38-manylinux2014_x86_64.whl (737 kB)\n",
      "\u001b[K     |████████████████████████████████| 737 kB 94.3 MB/s eta 0:00:01\n",
      "\u001b[?25hRequirement already satisfied: seaborn in /opt/app-root/lib/python3.8/site-packages (from -r requirements.txt (line 6)) (0.11.1)\n",
      "Requirement already satisfied: wrapt in /opt/app-root/lib/python3.8/site-packages (from -r requirements.txt (line 7)) (1.12.1)\n",
      "Collecting spacy\n",
      "  Downloading spacy-3.0.5-cp38-cp38-manylinux2014_x86_64.whl (12.9 MB)\n",
      "\u001b[K     |████████████████████████████████| 12.9 MB 100.4 MB/s eta 0:00:01\n",
      "\u001b[?25hCollecting unidecode\n",
      "  Downloading Unidecode-1.2.0-py2.py3-none-any.whl (241 kB)\n",
      "\u001b[K     |████████████████████████████████| 241 kB 128.7 MB/s eta 0:00:01\n",
      "\u001b[?25hRequirement already satisfied: click in /opt/app-root/lib/python3.8/site-packages (from nltk->-r requirements.txt (line 2)) (7.1.2)\n",
      "Requirement already satisfied: joblib in /opt/app-root/lib/python3.8/site-packages (from nltk->-r requirements.txt (line 2)) (1.0.1)\n",
      "Collecting tqdm\n",
      "  Downloading tqdm-4.59.0-py2.py3-none-any.whl (74 kB)\n",
      "\u001b[K     |████████████████████████████████| 74 kB 97.4 MB/s  eta 0:00:01\n",
      "\u001b[?25hRequirement already satisfied: pytz>=2017.3 in /opt/app-root/lib/python3.8/site-packages (from pandas->-r requirements.txt (line 4)) (2021.1)\n",
      "Requirement already satisfied: python-dateutil>=2.7.3 in /opt/app-root/lib/python3.8/site-packages (from pandas->-r requirements.txt (line 4)) (2.8.1)\n",
      "Requirement already satisfied: six>=1.5 in /opt/app-root/lib/python3.8/site-packages (from python-dateutil>=2.7.3->pandas->-r requirements.txt (line 4)) (1.15.0)\n",
      "Requirement already satisfied: scipy>=1.0 in /opt/app-root/lib/python3.8/site-packages (from seaborn->-r requirements.txt (line 6)) (1.6.1)\n",
      "Requirement already satisfied: matplotlib>=2.2 in /opt/app-root/lib/python3.8/site-packages (from seaborn->-r requirements.txt (line 6)) (3.3.4)\n",
      "Requirement already satisfied: cycler>=0.10 in /opt/app-root/lib/python3.8/site-packages (from matplotlib>=2.2->seaborn->-r requirements.txt (line 6)) (0.10.0)\n",
      "Requirement already satisfied: kiwisolver>=1.0.1 in /opt/app-root/lib/python3.8/site-packages (from matplotlib>=2.2->seaborn->-r requirements.txt (line 6)) (1.3.1)\n",
      "Requirement already satisfied: pyparsing!=2.0.4,!=2.1.2,!=2.1.6,>=2.0.3 in /opt/app-root/lib/python3.8/site-packages (from matplotlib>=2.2->seaborn->-r requirements.txt (line 6)) (2.4.7)\n",
      "Requirement already satisfied: pillow>=6.2.0 in /opt/app-root/lib/python3.8/site-packages (from matplotlib>=2.2->seaborn->-r requirements.txt (line 6)) (8.1.2)\n",
      "Collecting pathy>=0.3.5\n",
      "  Downloading pathy-0.4.0-py3-none-any.whl (36 kB)\n",
      "Requirement already satisfied: setuptools in /opt/app-root/lib/python3.8/site-packages (from spacy->-r requirements.txt (line 8)) (54.2.0)\n",
      "Collecting srsly<3.0.0,>=2.4.0\n",
      "  Downloading srsly-2.4.0-cp38-cp38-manylinux2014_x86_64.whl (458 kB)\n",
      "\u001b[K     |████████████████████████████████| 458 kB 125.7 MB/s eta 0:00:01\n",
      "\u001b[?25hRequirement already satisfied: packaging>=20.0 in /opt/app-root/lib/python3.8/site-packages (from spacy->-r requirements.txt (line 8)) (20.9)\n",
      "Collecting wasabi<1.1.0,>=0.8.1\n",
      "  Downloading wasabi-0.8.2-py3-none-any.whl (23 kB)\n",
      "Collecting spacy-legacy<3.1.0,>=3.0.0\n",
      "  Downloading spacy_legacy-3.0.1-py2.py3-none-any.whl (7.0 kB)\n",
      "Collecting thinc<8.1.0,>=8.0.2\n",
      "  Downloading thinc-8.0.2-cp38-cp38-manylinux2014_x86_64.whl (1.1 MB)\n",
      "\u001b[K     |████████████████████████████████| 1.1 MB 119.5 MB/s eta 0:00:01\n",
      "\u001b[?25hCollecting preshed<3.1.0,>=3.0.2\n",
      "  Downloading preshed-3.0.5-cp38-cp38-manylinux2014_x86_64.whl (130 kB)\n",
      "\u001b[K     |████████████████████████████████| 130 kB 130.2 MB/s eta 0:00:01\n",
      "\u001b[?25hCollecting cymem<2.1.0,>=2.0.2\n",
      "  Downloading cymem-2.0.5-cp38-cp38-manylinux2014_x86_64.whl (35 kB)\n",
      "Collecting catalogue<2.1.0,>=2.0.1\n",
      "  Downloading catalogue-2.0.1-py3-none-any.whl (9.6 kB)\n",
      "Collecting typer<0.4.0,>=0.3.0\n",
      "  Downloading typer-0.3.2-py3-none-any.whl (21 kB)\n",
      "Requirement already satisfied: jinja2 in /opt/app-root/lib/python3.8/site-packages (from spacy->-r requirements.txt (line 8)) (2.11.3)\n",
      "Collecting murmurhash<1.1.0,>=0.28.0\n",
      "  Downloading murmurhash-1.0.5-cp38-cp38-manylinux2014_x86_64.whl (20 kB)\n",
      "Requirement already satisfied: requests<3.0.0,>=2.13.0 in /opt/app-root/lib/python3.8/site-packages (from spacy->-r requirements.txt (line 8)) (2.25.1)\n",
      "Collecting blis<0.8.0,>=0.4.0\n",
      "  Downloading blis-0.7.4-cp38-cp38-manylinux2014_x86_64.whl (9.8 MB)\n",
      "\u001b[K     |████████████████████████████████| 9.8 MB 134.6 MB/s eta 0:00:01\n",
      "\u001b[?25hCollecting pydantic<1.8.0,>=1.7.1\n",
      "  Downloading pydantic-1.7.3-cp38-cp38-manylinux2014_x86_64.whl (12.2 MB)\n",
      "\u001b[K     |████████████████████████████████| 12.2 MB 110.9 MB/s eta 0:00:01\n",
      "\u001b[?25hCollecting smart-open<4.0.0,>=2.2.0\n",
      "  Downloading smart_open-3.0.0.tar.gz (113 kB)\n",
      "\u001b[K     |████████████████████████████████| 113 kB 129.9 MB/s eta 0:00:01\n",
      "\u001b[?25hRequirement already satisfied: idna<3,>=2.5 in /opt/app-root/lib/python3.8/site-packages (from requests<3.0.0,>=2.13.0->spacy->-r requirements.txt (line 8)) (2.10)\n",
      "Requirement already satisfied: chardet<5,>=3.0.2 in /opt/app-root/lib/python3.8/site-packages (from requests<3.0.0,>=2.13.0->spacy->-r requirements.txt (line 8)) (4.0.0)\n",
      "Requirement already satisfied: urllib3<1.27,>=1.21.1 in /opt/app-root/lib/python3.8/site-packages (from requests<3.0.0,>=2.13.0->spacy->-r requirements.txt (line 8)) (1.26.4)\n",
      "Requirement already satisfied: certifi>=2017.4.17 in /opt/app-root/lib/python3.8/site-packages (from requests<3.0.0,>=2.13.0->spacy->-r requirements.txt (line 8)) (2020.12.5)\n",
      "Requirement already satisfied: MarkupSafe>=0.23 in /opt/app-root/lib/python3.8/site-packages (from jinja2->spacy->-r requirements.txt (line 8)) (1.1.1)\n",
      "Building wheels for collected packages: markovify, nltk, smart-open\n",
      "  Building wheel for markovify (setup.py) ... \u001b[?25ldone\n",
      "\u001b[?25h  Created wheel for markovify: filename=markovify-0.9.0-py3-none-any.whl size=18476 sha256=effc60e4e5c257148806da999949099e4f2bfea0ea4848624691e8a224d68842\n",
      "  Stored in directory: /tmp/pip-ephem-wheel-cache-egc3_bq8/wheels/cf/19/41/0f8707b2305726fadbd92649dcdb28d98a04e159eb24dd72f0\n",
      "  Building wheel for nltk (setup.py) ... \u001b[?25ldone\n",
      "\u001b[?25h  Created wheel for nltk: filename=nltk-3.5-py3-none-any.whl size=1434676 sha256=38e9b4558d2873adfe5103fee091d2dba4102ede989c77f75f74a2c0945672f9\n",
      "  Stored in directory: /tmp/pip-ephem-wheel-cache-egc3_bq8/wheels/ff/d5/7b/f1fb4e1e1603b2f01c2424dd60fbcc50c12ef918bafc44b155\n",
      "  Building wheel for smart-open (setup.py) ... \u001b[?25ldone\n",
      "\u001b[?25h  Created wheel for smart-open: filename=smart_open-3.0.0-py3-none-any.whl size=107097 sha256=5dd94c96ad69dc30122ba1767671633e800bb7468c7e623bbcddc7605f7d8075\n",
      "  Stored in directory: /tmp/pip-ephem-wheel-cache-egc3_bq8/wheels/11/73/9a/f91ac1f1816436b16423617c5be5db048697ff152a9c4346f2\n",
      "Successfully built markovify nltk smart-open\n",
      "Installing collected packages: murmurhash, cymem, catalogue, wasabi, typer, srsly, smart-open, pydantic, preshed, blis, unidecode, tqdm, thinc, spacy-legacy, regex, pathy, spacy, nltk, markovify\n",
      "Successfully installed blis-0.7.4 catalogue-2.0.1 cymem-2.0.5 markovify-0.9.0 murmurhash-1.0.5 nltk-3.5 pathy-0.4.0 preshed-3.0.5 pydantic-1.7.3 regex-2021.3.17 smart-open-3.0.0 spacy-3.0.5 spacy-legacy-3.0.1 srsly-2.4.0 thinc-8.0.2 tqdm-4.59.0 typer-0.3.2 unidecode-1.2.0 wasabi-0.8.2\n"
     ]
    }
   ],
   "source": [
    "!pip install -r requirements.txt"
   ]
  },
  {
   "cell_type": "code",
   "execution_count": 4,
   "metadata": {},
   "outputs": [
    {
     "data": {
      "text/html": [
       "<div>\n",
       "<style scoped>\n",
       "    .dataframe tbody tr th:only-of-type {\n",
       "        vertical-align: middle;\n",
       "    }\n",
       "\n",
       "    .dataframe tbody tr th {\n",
       "        vertical-align: top;\n",
       "    }\n",
       "\n",
       "    .dataframe thead th {\n",
       "        text-align: right;\n",
       "    }\n",
       "</style>\n",
       "<table border=\"1\" class=\"dataframe\">\n",
       "  <thead>\n",
       "    <tr style=\"text-align: right;\">\n",
       "      <th></th>\n",
       "      <th>response</th>\n",
       "      <th>issue</th>\n",
       "      <th>symptom</th>\n",
       "    </tr>\n",
       "  </thead>\n",
       "  <tbody>\n",
       "    <tr>\n",
       "      <th>0</th>\n",
       "      <td>my brakes make a noise whenever I try to stop</td>\n",
       "      <td>Brakes</td>\n",
       "      <td>Car makes grinding noise</td>\n",
       "    </tr>\n",
       "    <tr>\n",
       "      <th>1</th>\n",
       "      <td>super frustrating every time I start my car it...</td>\n",
       "      <td>Starter</td>\n",
       "      <td>Car starts then stops</td>\n",
       "    </tr>\n",
       "    <tr>\n",
       "      <th>2</th>\n",
       "      <td>I can't open the damn door to my car</td>\n",
       "      <td>Other</td>\n",
       "      <td></td>\n",
       "    </tr>\n",
       "    <tr>\n",
       "      <th>3</th>\n",
       "      <td>I turn the key and nothing happens</td>\n",
       "      <td>Starter</td>\n",
       "      <td>Car doesn't start</td>\n",
       "    </tr>\n",
       "    <tr>\n",
       "      <th>4</th>\n",
       "      <td>Car doesn't always start when it's low on blin...</td>\n",
       "      <td>Starter</td>\n",
       "      <td>Car doesn't start</td>\n",
       "    </tr>\n",
       "    <tr>\n",
       "      <th>...</th>\n",
       "      <td>...</td>\n",
       "      <td>...</td>\n",
       "      <td>...</td>\n",
       "    </tr>\n",
       "    <tr>\n",
       "      <th>104</th>\n",
       "      <td>my breaks are faulty.</td>\n",
       "      <td>Brakes</td>\n",
       "      <td>Car brakes, but then brakes disengage</td>\n",
       "    </tr>\n",
       "    <tr>\n",
       "      <th>105</th>\n",
       "      <td>my lights do not work</td>\n",
       "      <td>Other</td>\n",
       "      <td></td>\n",
       "    </tr>\n",
       "    <tr>\n",
       "      <th>106</th>\n",
       "      <td>I try to start the engine only to find that th...</td>\n",
       "      <td>Starter</td>\n",
       "      <td>Car doesn't start</td>\n",
       "    </tr>\n",
       "    <tr>\n",
       "      <th>107</th>\n",
       "      <td>The driver side window auto function does not ...</td>\n",
       "      <td>Other</td>\n",
       "      <td></td>\n",
       "    </tr>\n",
       "    <tr>\n",
       "      <th>108</th>\n",
       "      <td>Sometimes when I press the brake, the car does...</td>\n",
       "      <td>Brakes</td>\n",
       "      <td>Car doesn't stop in timely manner</td>\n",
       "    </tr>\n",
       "  </tbody>\n",
       "</table>\n",
       "<p>109 rows × 3 columns</p>\n",
       "</div>"
      ],
      "text/plain": [
       "                                              response    issue  \\\n",
       "0        my brakes make a noise whenever I try to stop   Brakes   \n",
       "1    super frustrating every time I start my car it...  Starter   \n",
       "2                 I can't open the damn door to my car    Other   \n",
       "3                   I turn the key and nothing happens  Starter   \n",
       "4    Car doesn't always start when it's low on blin...  Starter   \n",
       "..                                                 ...      ...   \n",
       "104                              my breaks are faulty.   Brakes   \n",
       "105                              my lights do not work    Other   \n",
       "106  I try to start the engine only to find that th...  Starter   \n",
       "107  The driver side window auto function does not ...    Other   \n",
       "108  Sometimes when I press the brake, the car does...   Brakes   \n",
       "\n",
       "                                   symptom  \n",
       "0                 Car makes grinding noise  \n",
       "1                    Car starts then stops  \n",
       "2                                           \n",
       "3                        Car doesn't start  \n",
       "4                        Car doesn't start  \n",
       "..                                     ...  \n",
       "104  Car brakes, but then brakes disengage  \n",
       "105                                         \n",
       "106                      Car doesn't start  \n",
       "107                                         \n",
       "108      Car doesn't stop in timely manner  \n",
       "\n",
       "[109 rows x 3 columns]"
      ]
     },
     "execution_count": 4,
     "metadata": {},
     "output_type": "execute_result"
    }
   ],
   "source": [
    "import pandas as pd\n",
    "\n",
    "df = pd.read_csv('response.csv') \n",
    "df = df.fillna('')\n",
    "df['response']=df.iloc[:,3]+df.iloc[:,5]+df.iloc[:,6]\n",
    "df['issue'] = df.iloc[:,1]\n",
    "df['symptom'] = df.iloc[:,2] + df.iloc[:,4]\n",
    "subset = df.iloc[:,-3:]\n",
    "subset"
   ]
  },
  {
   "cell_type": "code",
   "execution_count": 5,
   "metadata": {},
   "outputs": [],
   "source": [
    "import markovify\n",
    "import codecs"
   ]
  },
  {
   "cell_type": "code",
   "execution_count": 6,
   "metadata": {},
   "outputs": [],
   "source": [
    "#markovify is a simple, extensible Markov chain generator\n",
    "#Its primary use is for building Markov models of large corpora of text and generating random sentences from that.\n",
    "\n",
    "\n",
    "#Function builds the model according to what issue (e.g. brakes, starter, other) is given\n",
    "def train_markov_type(data, issue):\n",
    "    return markovify.Text(data[data[\"issue\"] == issue].response, retain_original=False, state_size=2)\n",
    "\n",
    "#Function takes one of the 'issue' models and creates a randomly-generated sentence of length up to 200 characters.  Note only creates '1' sentence\n",
    "def make_sentence(model, length=100):\n",
    "    return model.make_short_sentence(length, max_overlap_ratio = .7, max_overlap_total=15)\n",
    "\n",
    "other_model = train_markov_type(subset, \"Other\")\n",
    "brakes_model = train_markov_type(subset, \"Brakes\")\n",
    "starter_model = train_markov_type(subset, \"Starter\")"
   ]
  },
  {
   "cell_type": "code",
   "execution_count": 7,
   "metadata": {},
   "outputs": [
    {
     "data": {
      "text/plain": [
       "'I was working on the left door is scratched.'"
      ]
     },
     "execution_count": 7,
     "metadata": {},
     "output_type": "execute_result"
    }
   ],
   "source": [
    "make_sentence(other_model)  #creates a sentence that should be an example of 'other' issue(category)"
   ]
  },
  {
   "cell_type": "code",
   "execution_count": 8,
   "metadata": {},
   "outputs": [
    {
     "data": {
      "text/plain": [
       "'It was really cold out and I could not get the emergency brake to disengage.'"
      ]
     },
     "execution_count": 8,
     "metadata": {},
     "output_type": "execute_result"
    }
   ],
   "source": [
    "make_sentence(brakes_model)  #creates a sentence that should be an example of 'brakes' issue(category)"
   ]
  },
  {
   "cell_type": "code",
   "execution_count": 9,
   "metadata": {},
   "outputs": [
    {
     "data": {
      "text/plain": [
       "\"Car doesn't always start when it's low on blinker fluid\""
      ]
     },
     "execution_count": 9,
     "metadata": {},
     "output_type": "execute_result"
    }
   ],
   "source": [
    "make_sentence(starter_model)   #creates a sentence that should be an example of 'starter' issue(category)"
   ]
  },
  {
   "cell_type": "markdown",
   "metadata": {},
   "source": [
    "We can combine these models with relative weights"
   ]
  },
  {
   "cell_type": "code",
   "execution_count": 10,
   "metadata": {},
   "outputs": [],
   "source": [
    "#create a compound model in which the sentences that come out will be 2x as many 'other' than 'brakes' or 'starters'\n",
    "\n",
    "compound_model = markovify.combine([other_model, brakes_model, starter_model], [14, 7, 7])  "
   ]
  },
  {
   "cell_type": "code",
   "execution_count": 11,
   "metadata": {},
   "outputs": [
    {
     "name": "stdout",
     "output_type": "stream",
     "text": [
      "The car won't shift out of park.\n",
      "The car pulls to the car to turn over.\n",
      "I try to stop as quickly as it used to\n",
      "The car is very unsafe.\n",
      "Plus it seems like the car to turn everything off, everything stays on.\n",
      "When it rains, the car is behaving very weird.\n",
      "It makes clunking noises when I go over a bump.\n",
      "The air conditioner only blows cold sometimes.\n",
      "Car makes a grinding sound for a very long time to stop.\n",
      "I try to set it at anything other than MAX COOL, it defaults to full blast cooling.\n",
      "When I put the car in reverse, the hatchback latch opens so that the backup camera can engage.\n",
      "Car makes a grinding noise as I drive.\n",
      "My car drifts when driving it and my tires seem to stop as quickly as it used to\n",
      "This must be a sensor issue on this tire, but I'm not sure if it is fine.\n",
      "Starter makes clicking noise, won't start again.\n",
      "It's an intense upper body workout to stay in one lane on the brakes.\n",
      "When I hit brakes.\n",
      "When coming to a complete stop.\n",
      "I have replaced the battery since the lights would come one and the air coming out of park.\n",
      "My tire keeps going flat.\n",
      "my brakes make a terrible sound when breaking.\n",
      "There is a lag when I push the break pedal without lurching.\n",
      "my car does not start.\n",
      "Exhaust has a growing crack in it.\n",
      "Alternator is faulty\n",
      "It is more squealing or screeching sounds than grinding.\n",
      "my car if the door won't open, and I'm all out of the car.\n",
      "This is the third one, and I can't get up to 88 MPH\n"
     ]
    }
   ],
   "source": [
    "#make 20 sentences out of the compound model - copy the text into a spreadsheet and check the count of the issues  (e.g. how many brake issue are there?)\n",
    "\n",
    "for i in range(28):\n",
    "    print(make_sentence(compound_model))"
   ]
  },
  {
   "cell_type": "code",
   "execution_count": 12,
   "metadata": {},
   "outputs": [],
   "source": [
    "import numpy\n",
    "\n",
    "def generate_cases(models, weights=None):\n",
    "    if weights is None:\n",
    "        weights = [1] * len(models)\n",
    "    \n",
    "    choices = []\n",
    "    \n",
    "    total_weight = float(sum(weights))\n",
    "    \n",
    "    for i in range(len(weights)):\n",
    "        choices.append((float(sum(weights[0:i+1])) / total_weight, models[i]))\n",
    "    \n",
    "    def choose_model():\n",
    "        r = numpy.random.uniform()\n",
    "        for (p, m) in choices:\n",
    "            if r <= p:\n",
    "                return m\n",
    "        return choices[-1][1]\n",
    "\n",
    "\n",
    "    def choose_from(c):\n",
    "        idx = math.floor(numpy.random.uniform() * len(c))\n",
    "        return c[idx]\n",
    "    \n",
    "    \n",
    "    while True:\n",
    "        yield (make_sentence(choose_model()))\n",
    "            "
   ]
  },
  {
   "cell_type": "code",
   "execution_count": 13,
   "metadata": {},
   "outputs": [],
   "source": [
    "#compound_model = markovify.combine([other_model, brakes_model, starter_model], [14, 7, 7])  \n",
    "\n",
    "t = generate_cases([other_model, brakes_model, starter_model], [3,4,4])  #actual sentences\n",
    "\n"
   ]
  },
  {
   "cell_type": "code",
   "execution_count": 14,
   "metadata": {
    "scrolled": true
   },
   "outputs": [
    {
     "data": {
      "text/plain": [
       "[\"There isn't an immediate response.\",\n",
       " 'The HVAC system is broken in the car.',\n",
       " 'The seat belt itself on the freeway.',\n",
       " 'I have to press the ignition three times before the car starts on the the fourth time.',\n",
       " 'The battery is getting old so my range is a light that came on that looks to be working.',\n",
       " \"It won't start and doesn't respond when trying to jump start it.\",\n",
       " 'super frustrating every time I try to start the ignition?',\n",
       " 'When I try to start the ignition?',\n",
       " 'The windshield has a growing crack in it.',\n",
       " 'Please help ASAP!',\n",
       " 'Then I have to stretch my leg to do it.',\n",
       " 'Blind Spot Monitoring system will randomly be disabled.',\n",
       " \"I'm hearing a noise and feeling a vibration when I accelerate above 60 mph.\",\n",
       " 'Car makes a squeeky noise when I hit brakes.',\n",
       " 'The other 3 tires report normally.',\n",
       " 'Brake pedal engagement varies, sometimes hard sometimes soft',\n",
       " \"I can't drive that way, always these bullshitty new technologies...\",\n",
       " 'Please help ASAP!',\n",
       " 'windshield wipers',\n",
       " \"When I try to start the car, it spits and sputters for a few seconds and then won't start again.\",\n",
       " \"There isn't an immediate response.\",\n",
       " \"This must be a sensor issue on this tire, but I'm not sure.\",\n",
       " 'My car makes a weird whirring sound every time I try to start it.',\n",
       " 'I turn the key and hear funny sounds but nothing happens.',\n",
       " \"It's rather a periodic deep sound when breaking.\",\n",
       " 'Then I have to press the brake, the car made horrible grinding noises.',\n",
       " 'I can hear the starter with a hammer.',\n",
       " 'I can hear the starter with a hammer.',\n",
       " \"It won't go, but it kind of won't stop either.\",\n",
       " 'It sputters for a few seconds and then nothing happens.',\n",
       " 'The windshield has a lot of black smoke and acrid smell.',\n",
       " 'You must act immediately!',\n",
       " 'When coming to a stop at a stop light, I press on the brake pedal.',\n",
       " \"Car makes a lot noise and doesn't fully stop when we hit the break.\",\n",
       " \"Where's the place, where I need to insert my key to start the engine doesn’t power up\",\n",
       " 'Have to cycle the ignition button at least twice before my car it just stops again, what is wrong!',\n",
       " 'I press down on the brake and the car and a weird noise when stopping.',\n",
       " 'brake pads are not wearing down evenly',\n",
       " 'I turn the key and nothing happens',\n",
       " \"It won't start the ignition?\",\n",
       " 'I hear a grinding noise coming from the front of the car.',\n",
       " \"sometimes, it won't go up at all!\",\n",
       " 'The driver side window auto function does not roll back up.',\n",
       " 'It seems like I have to stretch my leg to do it.',\n",
       " \"My air conditioning doesn't seem to be wearing down at different rates.\",\n",
       " \"I can't drive that way, always these bullshitty new technologies...\",\n",
       " 'You must act immediately!',\n",
       " 'The warning indicator light is out.',\n",
       " \"It's not actually a grinding noise, more like a piercing shriek of anguish\",\n",
       " 'Sometimes the car to turn over.',\n",
       " 'my brakes make a terrible sound when breaking.',\n",
       " 'It sputters for a very long time before finally engaging and actually turning on.',\n",
       " \"My air conditioning doesn't seem to be working.\",\n",
       " 'Plus it seems it takes a long time to stop.',\n",
       " 'My cars breaks make a terrible sound when breaking.',\n",
       " 'It was really cold out and I could not get the emergency brake to disengage.',\n",
       " 'brake pads are not wearing down evenly',\n",
       " 'It sputters for a very long time to start, and if I push the key and nothing happens',\n",
       " 'I turn the key and nothing happens',\n",
       " 'Car does not turn over',\n",
       " \"The rotors are warped so it's difficult to push the break pedal without lurching.\",\n",
       " 'While driving I hear lot of noises coming from the brakes disengage.',\n",
       " 'Just that odd clicking noise....',\n",
       " \"It's rather a periodic deep sound when stopping.\",\n",
       " 'When I try to start it.',\n",
       " 'It was really cold out and I could not get the emergency brake to disengage.',\n",
       " 'Car makes a squeeky noise when stopping.',\n",
       " 'my breaks are faulty.',\n",
       " 'Sometimes when I push it really far, but I have to stretch my leg to do it.',\n",
       " 'The pedal feels squishy.',\n",
       " 'I have some noise when I turn the wheel.',\n",
       " \"The brake squeak and any time the slightest pressure is applied to the car doesn't seem to stop\",\n",
       " 'Not so much a grinding noise.',\n",
       " 'Maybe the brakes a bit of rumbling to the brake and the car made horrible grinding noises.',\n",
       " 'I keep my foot firmly pressing down on the brake it works better.',\n",
       " \"It's not actually a grinding noise.\",\n",
       " 'Please help ASAP!',\n",
       " 'When I tried to drive, the car and a weird noise when stopping.',\n",
       " 'Fuel economy has gotten very bad.',\n",
       " \"Car doesn't always start when it's low on blinker fluid\",\n",
       " 'Car does not turn over.',\n",
       " 'The car make some screeching or grinding noises when stopping.',\n",
       " 'The paint on the fuel line, and apparently it came loose while driving.',\n",
       " 'When I put the car evaluated.',\n",
       " 'I have a problem with my blinker fluid.',\n",
       " \"It's not actually a grinding noise, more like a piercing shriek of anguish\",\n",
       " 'If I pump the brake pedal.',\n",
       " 'My car makes a weird whirring sound every time I start my car but it definitely was not starting.',\n",
       " 'It seems like I have to brake again.',\n",
       " 'When I tried to drive, the car and a weird noise when stopping.',\n",
       " \"There isn't an immediate response.\",\n",
       " \"It stops if I keep driving past my driveway because the car doesn't seem to stop\",\n",
       " 'I can hear the starter with a hammer.',\n",
       " \"When I'm taking a left turn, the steering wheel shakes uncontrollably when I push the gas peddle.\",\n",
       " 'It makes a weird whirring sound every time I try to start it.',\n",
       " \"There's slack in my steering wheel.\",\n",
       " 'I can hear the starter firing but the car starts on the the fourth time.',\n",
       " \"The car won't start!\",\n",
       " 'Car creates whistle sound each time I start it',\n",
       " \"Car makes a lot noise and doesn't fully stop when we hit the break.\"]"
      ]
     },
     "execution_count": 14,
     "metadata": {},
     "output_type": "execute_result"
    }
   ],
   "source": [
    "[next(t) for i in range(100)]  #create 100 sentences"
   ]
  },
  {
   "cell_type": "markdown",
   "metadata": {},
   "source": [
    "Checking for similarity (slow)"
   ]
  },
  {
   "cell_type": "code",
   "execution_count": null,
   "metadata": {},
   "outputs": [],
   "source": [
    "#https://stackoverflow.com/questions/54334304/spacy-cant-find-model-en-core-web-sm-on-windows-10-and-python-3-5-3-anacon\n",
    "#in your terminal window, execute the following code, before loading 'en_core_web_sm':\n",
    "\n",
    "#     cd vehicle-claims-processing/\n",
    "#     python -m spacy download en_core_web_sm\n"
   ]
  },
  {
   "cell_type": "code",
   "execution_count": 15,
   "metadata": {},
   "outputs": [
    {
     "name": "stderr",
     "output_type": "stream",
     "text": [
      "<ipython-input-15-5caafb0a8e95>:19: UserWarning: [W007] The model you're using has no word vectors loaded, so the result of the Doc.similarity method will be based on the tagger, parser and NER, which may not give useful similarity judgements. This may happen if you're using one of the small models, e.g. `en_core_web_sm`, which don't ship with word vectors and only use context-sensitive tensors. You can always add your own word vectors, or use one of the larger models instead if available.\n",
      "  if m < doc.similarity(doc1):\n",
      "<ipython-input-15-5caafb0a8e95>:20: UserWarning: [W007] The model you're using has no word vectors loaded, so the result of the Doc.similarity method will be based on the tagger, parser and NER, which may not give useful similarity judgements. This may happen if you're using one of the small models, e.g. `en_core_web_sm`, which don't ship with word vectors and only use context-sensitive tensors. You can always add your own word vectors, or use one of the larger models instead if available.\n",
      "  m = doc.similarity(doc1)  #m is taking the highest similarity of all the comparisons made  (a[] is a bunch of numbers between 1 and -1)\n",
      "<ipython-input-15-5caafb0a8e95>:19: UserWarning: [W008] Evaluating Doc.similarity based on empty vectors.\n",
      "  if m < doc.similarity(doc1):\n"
     ]
    },
    {
     "name": "stdout",
     "output_type": "stream",
     "text": [
      "Mean similarity: 0.8010611893461694\n",
      "[1.0, 0.785191887892403, 1.0, 0.857301763395154, 0.8423582439475643, 0.8107326633893506, 0.8352848402160005, 1.0, 0.7622691471637019, 0.7880386225136826, 0.8158309320939094, 0.7175535983800594, 0.8352848402160005, 0.6548734555908985, 1.0, 0.7077066671526921, 0.7554633600341065, 0.5644226629695164, 0.8423582439475643, 1.0, 0.9860250307730094, 0.9475685120749819, 0.6512396218348969, 1.0, 0.702527511155302, 0.7081004645894231, 0.9239336059173048, 1.0, 0.5571128736040991, 0.5644226629695164, 1.0, 0.8451555708947686, 0.7131887376648282, 0.7237772695574226, 0.6972655969588063, 0.7584334238264047, 0.650893331778595, 0.9516410356427715, 0.5644226629695164, 1.0, 0.6097510492679106, 1.0, 1.0, 0.7239944117895213, 0.5750886215355827, 0.9367355606895272, 1.0, 1.0, 0.6076775201447694, 0.8002350705989173, 1.0, 0.8002350705989173, 1.0, 0.788449641822065, 0.7350854971955229, 0.8635715910918482, 0.8235915877023573, 0.8113250881208195, 0.7825631570988464, 0.8126959290990089, 0.6464200504804117, 0.6514835088851754, 0.8206557446158871, 0.7880386225136826, 0.8419749711125252, 0.9367355606895272, 0.8056823369705565, 0.5677476852512697, 0.8055291344859825, 1.0, 0.4845971121994884, 0.6562470833847126, 1.0, 0.6757561202875948, 1.0, 1.0, 0.8043378292358959, 1.0, 0.6729749711716347, 0.7656177497086495, 0.7995592775848994, 0.8582089136207721, 0.5707095176683428, 0.9686582954330587, 0.7518384234581135, 0.7857290863795626, 0.5757656850495764, 0.638484595237507, 0.5644226629695164, 0.6266585013270587, 0.8879086569563618, 0.8628877537966684, 0.4845971121994884, 0.5571128736040991, 1.0, 0.6369394738941266, 0.8570383236054298, 0.5644226629695164, 1.0, 1.0]\n"
     ]
    },
    {
     "data": {
      "text/plain": [
       "<seaborn.axisgrid.FacetGrid at 0x7fade742fee0>"
      ]
     },
     "execution_count": 15,
     "metadata": {},
     "output_type": "execute_result"
    },
    {
     "data": {
      "image/png": "[encoded data removed]",
      "text/plain": [
       "<Figure size 360x360 with 1 Axes>"
      ]
     },
     "metadata": {
      "needs_background": "light"
     },
     "output_type": "display_data"
    }
   ],
   "source": [
    "import spacy\n",
    "\n",
    "#spacy is a free industrial-strenth NLP in python (https://spacy.io/)\n",
    "#en_core_web_sm is an english pipeline optimized for cpu.  components: tok2vec, tagger, prser, senter, ner, attribure_rulter, lemmantizer\n",
    "\n",
    "nlp = spacy.load('en_core_web_sm')  #the nlp is going to tokenize the lists dt_b, dt_a\n",
    "#nlp = spacy.load('en')\n",
    "\n",
    "dt_b = subset[\"response\"]  #109 responses (from our google form) in our response.csv\n",
    "dt_a = [next(t) for i in range(100)]  #created sentences from 3 models that were combined.  Remember the 3 models were (created) based on the the reponse.csv issues (categories)\n",
    "\n",
    "import numpy as np\n",
    "a = []\n",
    "for sentence in dt_a:\n",
    "    doc = nlp(sentence)\n",
    "    m = 0\n",
    "    for sentence1 in dt_b:\n",
    "        doc1 = nlp(sentence1)\n",
    "        if m < doc.similarity(doc1):\n",
    "            m = doc.similarity(doc1)  #m is taking the highest similarity of all the comparisons made  (a[] is a bunch of numbers between 1 and -1)\n",
    "    a.append(m)\n",
    "        \n",
    "print(\"Mean similarity: \" + str(np.array(a).mean()))\n",
    "print(a)\n",
    "\n",
    "import seaborn as sns\n",
    "sns.displot(a)\n",
    "\n",
    "#plotting generated sentences vs google form sentences.  For each google form sentence, what was the most similiar in the list of generated sentences.\n",
    "#have a fairly normal distributation which demonstrates that our nlp generation isn't bad :)"
   ]
  },
  {
   "cell_type": "code",
   "execution_count": 34,
   "metadata": {},
   "outputs": [],
   "source": [
    "import cProfile\n",
    "\n",
    "def timing(c):\n",
    "    for _ in range(c):\n",
    "        next(t)\n",
    "\n",
    "cProfile.run('timing(2000)', 'generatestats')"
   ]
  },
  {
   "cell_type": "code",
   "execution_count": 35,
   "metadata": {},
   "outputs": [
    {
     "name": "stdout",
     "output_type": "stream",
     "text": [
      "Sun Mar 21 22:33:22 2021    generatestats\n",
      "\n",
      "         294240 function calls (269838 primitive calls) in 0.157 seconds\n",
      "\n",
      "   Ordered by: standard name\n",
      "\n",
      "   ncalls  tottime  percall  cumtime  percall filename:lineno(function)\n",
      "     2000    0.002    0.000    0.009    0.000 <ipython-input-10-5f1382f3447f>:13(choose_model)\n",
      "     2000    0.001    0.000    0.156    0.000 <ipython-input-10-5f1382f3447f>:2(generate_cases)\n",
      "     2000    0.002    0.000    0.145    0.000 <ipython-input-24-d930d16f82f3>:6(make_sentence)\n",
      "        1    0.001    0.001    0.157    0.157 <ipython-input-34-801ca619797e>:3(timing)\n",
      "        1    0.000    0.000    0.157    0.157 <string>:1(<module>)\n",
      "    61849    0.017    0.000    0.025    0.000 chain.py:10(accumulate)\n",
      "    26435    0.019    0.000    0.122    0.000 chain.py:112(gen)\n",
      "     2033    0.006    0.000    0.128    0.000 chain.py:125(walk)\n",
      "    26435    0.065    0.000    0.103    0.000 chain.py:96(move)\n",
      "     2033    0.001    0.000    0.002    0.000 text.py:120(word_join)\n",
      "     2033    0.006    0.000    0.138    0.000 text.py:175(make_sentence)\n",
      "     2000    0.005    0.000    0.144    0.000 text.py:221(make_short_sentence)\n",
      "    26435    0.007    0.000    0.007    0.000 {built-in method _bisect.bisect}\n",
      "    13045    0.002    0.000    0.002    0.000 {built-in method _operator.add}\n",
      "        1    0.000    0.000    0.157    0.157 {built-in method builtins.exec}\n",
      "     2033    0.001    0.000    0.001    0.000 {built-in method builtins.hasattr}\n",
      "    24402    0.004    0.000    0.004    0.000 {built-in method builtins.iter}\n",
      "     4033    0.000    0.000    0.000    0.000 {built-in method builtins.len}\n",
      "26402/2000    0.004    0.000    0.157    0.000 {built-in method builtins.next}\n",
      "        1    0.000    0.000    0.000    0.000 {method 'disable' of '_lsprof.Profiler' objects}\n",
      "    14198    0.002    0.000    0.002    0.000 {method 'get' of 'dict' objects}\n",
      "    24402    0.003    0.000    0.003    0.000 {method 'items' of 'dict' objects}\n",
      "     2033    0.001    0.000    0.001    0.000 {method 'join' of 'str' objects}\n",
      "    26435    0.003    0.000    0.003    0.000 {method 'random' of '_random.Random' objects}\n",
      "     2000    0.007    0.000    0.007    0.000 {method 'uniform' of 'numpy.random.mtrand.RandomState' objects}\n",
      "\n",
      "\n"
     ]
    },
    {
     "data": {
      "text/plain": [
       "<pstats.Stats at 0x7f31d4f56908>"
      ]
     },
     "execution_count": 35,
     "metadata": {},
     "output_type": "execute_result"
    }
   ],
   "source": [
    "import pstats\n",
    "p = pstats.Stats('generatestats')\n",
    "p.strip_dirs().sort_stats(-1).print_stats()"
   ]
  },
  {
   "cell_type": "code",
   "execution_count": null,
   "metadata": {},
   "outputs": [],
   "source": []
  }
 ],
 "metadata": {
  "kernelspec": {
   "display_name": "Python 3",
   "language": "python",
   "name": "python3"
  },
  "language_info": {
   "codemirror_mode": {
    "name": "ipython",
    "version": 3
   },
   "file_extension": ".py",
   "mimetype": "text/x-python",
   "name": "python",
   "nbconvert_exporter": "python",
   "pygments_lexer": "ipython3",
   "version": "3.8.3"
  }
 },
 "nbformat": 4,
 "nbformat_minor": 4
}
