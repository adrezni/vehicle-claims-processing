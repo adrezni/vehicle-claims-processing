{
 "cells": [
  {
   "cell_type": "code",
   "execution_count": 2,
   "id": "raising-likelihood",
   "metadata": {},
   "outputs": [],
   "source": [
    "import spacy"
   ]
  },
  {
   "cell_type": "code",
   "execution_count": 3,
   "id": "close-ridge",
   "metadata": {},
   "outputs": [],
   "source": [
    "#load english tokenizer, tagger, parser and NER\n",
    "nlp=spacy.load(\"en_core_web_sm\")\n",
    "\n",
    "#process whole documents\n",
    "text = (\"When mechanics check out cars they will first analyze starters\"\n",
    "        \"they will take the car for test drive\"\n",
    "        \"a mechanic will stop to test the brakes\"\n",
    "        \"They will turn off the engine and re-start the car to see if the starter works\"\n",
    "        \"sometimes the car will not start\"\n",
    "        \"they then will check the battery\"\n",
    "        \"During stopping tests, if the car does not stop well, a mechanic will check the brakes\")\n",
    "\n",
    "doc=nlp(text)\n"
   ]
  },
  {
   "cell_type": "code",
   "execution_count": 4,
   "id": "motivated-bracket",
   "metadata": {},
   "outputs": [
    {
     "name": "stdout",
     "output_type": "stream",
     "text": [
      "noun phrases:  ['mechanics', 'cars', 'they', 'startersthey', 'the car', 'test drivea mechanic', 'the brakesThey', 'the engine', 'the car', 'the starter', 'the car', 'the batteryDuring', 'tests', 'the car', 'a mechanic', 'the brakes']\n",
      "=========================================================\n",
      "verbs:  ['check', 'analyze', 'take', 'stop', 'test', 'turn', 're', '-', 'start', 'see', 'workssometime', 'startthey', 'check', 'stop', 'stop', 'check']\n",
      "first ORDINAL\n"
     ]
    }
   ],
   "source": [
    "#analyze syntax\n",
    "print(\"noun phrases: \", [chunk.text for chunk in doc.noun_chunks])\n",
    "print(\"=========================================================\")\n",
    "print(\"verbs: \", [token.lemma_ for token in doc if token.pos_ == \"VERB\"])\n",
    "\n",
    "#find named entities, phrases and concepts\n",
    "for entity in doc.ents:\n",
    "    print(entity.text, entity.label_)"
   ]
  },
  {
   "cell_type": "code",
   "execution_count": null,
   "id": "complex-customs",
   "metadata": {},
   "outputs": [],
   "source": [
    "#Going to examine claim (text) data and create models to classify it.  Enter new claims and have the model classify the claim\n",
    "#Determine if we can order the right number of brake pads and alternators based on the claims made\n",
    "\n",
    "#====================================================================================================\n",
    "\n",
    "#generate data:  take input from forms, classify the data into 3 subsets (brakes, starter, other)\n",
    "\n",
    "#generate more data using markovfy in order to have enough data to work with\n",
    "\n",
    "#enter a claim mannualy, will the model classify the claim properly?  Will it update the correct part needed (brake pads, brake drum + pads)?\n",
    "#brake drum\n",
    "#brake pads\n",
    "\n",
    "#can we order the right number of brake pads and alternators based on the claims made? - see the model output as to how many parts \n",
    "#we need to order"
   ]
  },
  {
   "cell_type": "code",
   "execution_count": null,
   "id": "informative-drove",
   "metadata": {},
   "outputs": [],
   "source": [
    "# I have a set of sentences as my dataset, and I want to be able to type a new sentence, \n",
    "# and find the sentence that the new one is the most similar to in the dataset. This would help me\n",
    "# order the right number of brake pads and brake shoes for a claim\n",
    "\n"
   ]
  }
 ],
 "metadata": {
  "kernelspec": {
   "display_name": "Python 3",
   "language": "python",
   "name": "python3"
  },
  "language_info": {
   "codemirror_mode": {
    "name": "ipython",
    "version": 3
   },
   "file_extension": ".py",
   "mimetype": "text/x-python",
   "name": "python",
   "nbconvert_exporter": "python",
   "pygments_lexer": "ipython3",
   "version": "3.8.3"
  }
 },
 "nbformat": 4,
 "nbformat_minor": 5
}
