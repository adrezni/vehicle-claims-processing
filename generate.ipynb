{
 "cells": [
  {
   "cell_type": "code",
   "execution_count": 3,
   "metadata": {},
   "outputs": [
    {
     "name": "stdout",
     "output_type": "stream",
     "text": [
      "Collecting markovify\n",
      "  Downloading markovify-0.9.0.tar.gz (27 kB)\n",
      "Collecting nltk\n",
      "  Downloading nltk-3.5.zip (1.4 MB)\n",
      "\u001b[K     |████████████████████████████████| 1.4 MB 19.3 MB/s eta 0:00:01\n",
      "\u001b[?25hRequirement already satisfied: numpy in /opt/app-root/lib/python3.6/site-packages (from -r requirements.txt (line 3)) (1.18.5)\n",
      "Requirement already satisfied: pandas in /opt/app-root/lib/python3.6/site-packages (from -r requirements.txt (line 4)) (0.25.3)\n",
      "Collecting regex\n",
      "  Downloading regex-2021.3.17-cp36-cp36m-manylinux2014_x86_64.whl (723 kB)\n",
      "\u001b[K     |████████████████████████████████| 723 kB 98.0 MB/s eta 0:00:01\n",
      "\u001b[?25hRequirement already satisfied: seaborn in /opt/app-root/lib/python3.6/site-packages (from -r requirements.txt (line 6)) (0.11.0)\n",
      "Requirement already satisfied: wrapt in /opt/app-root/lib/python3.6/site-packages (from -r requirements.txt (line 7)) (1.12.1)\n",
      "Collecting spacy\n",
      "  Downloading spacy-3.0.5-cp36-cp36m-manylinux2014_x86_64.whl (12.8 MB)\n",
      "\u001b[K     |████████████████████████████████| 12.8 MB 18.3 MB/s eta 0:00:01\n",
      "\u001b[?25hCollecting unidecode\n",
      "  Downloading Unidecode-1.2.0-py2.py3-none-any.whl (241 kB)\n",
      "\u001b[K     |████████████████████████████████| 241 kB 113.6 MB/s eta 0:00:01\n",
      "\u001b[?25hRequirement already satisfied: click in /opt/app-root/lib/python3.6/site-packages (from nltk->-r requirements.txt (line 2)) (7.1.2)\n",
      "Requirement already satisfied: joblib in /opt/app-root/lib/python3.6/site-packages (from nltk->-r requirements.txt (line 2)) (0.17.0)\n",
      "Collecting tqdm\n",
      "  Downloading tqdm-4.59.0-py2.py3-none-any.whl (74 kB)\n",
      "\u001b[K     |████████████████████████████████| 74 kB 81.0 MB/s  eta 0:00:01\n",
      "\u001b[?25hRequirement already satisfied: python-dateutil>=2.6.1 in /opt/app-root/lib/python3.6/site-packages (from pandas->-r requirements.txt (line 4)) (2.8.1)\n",
      "Requirement already satisfied: pytz>=2017.2 in /opt/app-root/lib/python3.6/site-packages (from pandas->-r requirements.txt (line 4)) (2020.1)\n",
      "Requirement already satisfied: six>=1.5 in /opt/app-root/lib/python3.6/site-packages (from python-dateutil>=2.6.1->pandas->-r requirements.txt (line 4)) (1.15.0)\n",
      "Requirement already satisfied: matplotlib>=2.2 in /opt/app-root/lib/python3.6/site-packages (from seaborn->-r requirements.txt (line 6)) (3.1.3)\n",
      "Requirement already satisfied: scipy>=1.0 in /opt/app-root/lib/python3.6/site-packages (from seaborn->-r requirements.txt (line 6)) (1.5.3)\n",
      "Requirement already satisfied: pyparsing!=2.0.4,!=2.1.2,!=2.1.6,>=2.0.1 in /opt/app-root/lib/python3.6/site-packages (from matplotlib>=2.2->seaborn->-r requirements.txt (line 6)) (2.4.7)\n",
      "Requirement already satisfied: cycler>=0.10 in /opt/app-root/lib/python3.6/site-packages (from matplotlib>=2.2->seaborn->-r requirements.txt (line 6)) (0.10.0)\n",
      "Requirement already satisfied: kiwisolver>=1.0.1 in /opt/app-root/lib/python3.6/site-packages (from matplotlib>=2.2->seaborn->-r requirements.txt (line 6)) (1.3.0)\n",
      "Collecting cymem<2.1.0,>=2.0.2\n",
      "  Downloading cymem-2.0.5-cp36-cp36m-manylinux2014_x86_64.whl (35 kB)\n",
      "Collecting murmurhash<1.1.0,>=0.28.0\n",
      "  Downloading murmurhash-1.0.5-cp36-cp36m-manylinux2014_x86_64.whl (20 kB)\n",
      "Requirement already satisfied: packaging>=20.0 in /opt/app-root/lib/python3.6/site-packages (from spacy->-r requirements.txt (line 8)) (20.4)\n",
      "Collecting typer<0.4.0,>=0.3.0\n",
      "  Downloading typer-0.3.2-py3-none-any.whl (21 kB)\n",
      "Collecting catalogue<2.1.0,>=2.0.1\n",
      "  Downloading catalogue-2.0.1-py3-none-any.whl (9.6 kB)\n",
      "Requirement already satisfied: jinja2 in /opt/app-root/lib/python3.6/site-packages (from spacy->-r requirements.txt (line 8)) (2.11.2)\n",
      "Requirement already satisfied: setuptools in /opt/app-root/lib/python3.6/site-packages (from spacy->-r requirements.txt (line 8)) (53.0.0)\n",
      "Collecting wasabi<1.1.0,>=0.8.1\n",
      "  Downloading wasabi-0.8.2-py3-none-any.whl (23 kB)\n",
      "Requirement already satisfied: requests<3.0.0,>=2.13.0 in /opt/app-root/lib/python3.6/site-packages (from spacy->-r requirements.txt (line 8)) (2.24.0)\n",
      "Collecting srsly<3.0.0,>=2.4.0\n",
      "  Downloading srsly-2.4.0-cp36-cp36m-manylinux2014_x86_64.whl (456 kB)\n",
      "\u001b[K     |████████████████████████████████| 456 kB 103.0 MB/s eta 0:00:01\n",
      "\u001b[?25hRequirement already satisfied: importlib-metadata>=0.20 in /opt/app-root/lib/python3.6/site-packages (from spacy->-r requirements.txt (line 8)) (2.0.0)\n",
      "Collecting spacy-legacy<3.1.0,>=3.0.0\n",
      "  Downloading spacy_legacy-3.0.1-py2.py3-none-any.whl (7.0 kB)\n",
      "Collecting pathy>=0.3.5\n",
      "  Downloading pathy-0.4.0-py3-none-any.whl (36 kB)\n",
      "Collecting pydantic<1.8.0,>=1.7.1\n",
      "  Downloading pydantic-1.7.3-cp36-cp36m-manylinux2014_x86_64.whl (9.2 MB)\n",
      "\u001b[K     |████████████████████████████████| 9.2 MB 27.0 MB/s eta 0:00:01\n",
      "\u001b[?25hCollecting preshed<3.1.0,>=3.0.2\n",
      "  Downloading preshed-3.0.5-cp36-cp36m-manylinux2014_x86_64.whl (126 kB)\n",
      "\u001b[K     |████████████████████████████████| 126 kB 116.7 MB/s eta 0:00:01\n",
      "\u001b[?25hRequirement already satisfied: typing-extensions<4.0.0.0,>=3.7.4 in /opt/app-root/lib/python3.6/site-packages (from spacy->-r requirements.txt (line 8)) (3.7.4.3)\n",
      "Collecting blis<0.8.0,>=0.4.0\n",
      "  Downloading blis-0.7.4-cp36-cp36m-manylinux2014_x86_64.whl (9.8 MB)\n",
      "\u001b[K     |████████████████████████████████| 9.8 MB 102.1 MB/s eta 0:00:01\n",
      "\u001b[?25hCollecting thinc<8.1.0,>=8.0.2\n",
      "  Downloading thinc-8.0.2-cp36-cp36m-manylinux2014_x86_64.whl (1.1 MB)\n",
      "\u001b[K     |████████████████████████████████| 1.1 MB 95.1 MB/s eta 0:00:01\n",
      "\u001b[?25hRequirement already satisfied: zipp>=0.5 in /opt/app-root/lib/python3.6/site-packages (from importlib-metadata>=0.20->spacy->-r requirements.txt (line 8)) (3.4.0)\n",
      "Requirement already satisfied: dataclasses<1.0,>=0.6 in /opt/app-root/lib/python3.6/site-packages (from pathy>=0.3.5->spacy->-r requirements.txt (line 8)) (0.8)\n",
      "Collecting smart-open<4.0.0,>=2.2.0\n",
      "  Downloading smart_open-3.0.0.tar.gz (113 kB)\n",
      "\u001b[K     |████████████████████████████████| 113 kB 114.5 MB/s eta 0:00:01\n",
      "\u001b[?25hRequirement already satisfied: idna<3,>=2.5 in /opt/app-root/lib/python3.6/site-packages (from requests<3.0.0,>=2.13.0->spacy->-r requirements.txt (line 8)) (2.10)\n",
      "Requirement already satisfied: certifi>=2017.4.17 in /opt/app-root/lib/python3.6/site-packages (from requests<3.0.0,>=2.13.0->spacy->-r requirements.txt (line 8)) (2020.6.20)\n",
      "Requirement already satisfied: chardet<4,>=3.0.2 in /opt/app-root/lib/python3.6/site-packages (from requests<3.0.0,>=2.13.0->spacy->-r requirements.txt (line 8)) (3.0.4)\n",
      "Requirement already satisfied: urllib3!=1.25.0,!=1.25.1,<1.26,>=1.21.1 in /opt/app-root/lib/python3.6/site-packages (from requests<3.0.0,>=2.13.0->spacy->-r requirements.txt (line 8)) (1.25.11)\n",
      "Requirement already satisfied: contextvars<3,>=2.4 in /opt/app-root/lib/python3.6/site-packages (from thinc<8.1.0,>=8.0.2->spacy->-r requirements.txt (line 8)) (2.4)\n",
      "Requirement already satisfied: immutables>=0.9 in /opt/app-root/lib/python3.6/site-packages (from contextvars<3,>=2.4->thinc<8.1.0,>=8.0.2->spacy->-r requirements.txt (line 8)) (0.14)\n",
      "Requirement already satisfied: MarkupSafe>=0.23 in /opt/app-root/lib/python3.6/site-packages (from jinja2->spacy->-r requirements.txt (line 8)) (1.1.1)\n",
      "Building wheels for collected packages: markovify, nltk, smart-open\n",
      "  Building wheel for markovify (setup.py) ... \u001b[?25ldone\n",
      "\u001b[?25h  Created wheel for markovify: filename=markovify-0.9.0-py3-none-any.whl size=18474 sha256=fc4a2de91b8c283913f101ca726291045193476ea062f0dca00e62784373504f\n",
      "  Stored in directory: /tmp/pip-ephem-wheel-cache-wmgl7xsa/wheels/32/20/e1/530730d7ef90be154a32f98989aac827474e5f0b65ea5b3468\n",
      "  Building wheel for nltk (setup.py) ... \u001b[?25ldone\n",
      "\u001b[?25h  Created wheel for nltk: filename=nltk-3.5-py3-none-any.whl size=1434675 sha256=42ef01fe9907a0d9938ad37f266b338def746fbfa3788e1629804c4eed96fd7e\n",
      "  Stored in directory: /tmp/pip-ephem-wheel-cache-wmgl7xsa/wheels/de/5e/42/64abaeca668161c3e2cecc24f864a8fc421e3d07a104fc8a51\n",
      "  Building wheel for smart-open (setup.py) ... \u001b[?25ldone\n",
      "\u001b[?25h  Created wheel for smart-open: filename=smart_open-3.0.0-py3-none-any.whl size=107095 sha256=79bedb6cd5025de5be7a615f3b846e709d7ae486ca81da0e3d0976c2b063ecbe\n",
      "  Stored in directory: /tmp/pip-ephem-wheel-cache-wmgl7xsa/wheels/88/2a/d4/f2e9023989d4d4b3574f268657cb6cd23994665a038803f547\n",
      "Successfully built markovify nltk smart-open\n",
      "Installing collected packages: murmurhash, cymem, catalogue, wasabi, typer, srsly, smart-open, pydantic, preshed, blis, unidecode, tqdm, thinc, spacy-legacy, regex, pathy, spacy, nltk, markovify\n",
      "Successfully installed blis-0.7.4 catalogue-2.0.1 cymem-2.0.5 markovify-0.9.0 murmurhash-1.0.5 nltk-3.5 pathy-0.4.0 preshed-3.0.5 pydantic-1.7.3 regex-2021.3.17 smart-open-3.0.0 spacy-3.0.5 spacy-legacy-3.0.1 srsly-2.4.0 thinc-8.0.2 tqdm-4.59.0 typer-0.3.2 unidecode-1.2.0 wasabi-0.8.2\n"
     ]
    }
   ],
   "source": [
    "!pip install -r requirements.txt"
   ]
  },
  {
   "cell_type": "code",
   "execution_count": 4,
   "metadata": {},
   "outputs": [
    {
     "data": {
      "text/html": [
       "<div>\n",
       "<style scoped>\n",
       "    .dataframe tbody tr th:only-of-type {\n",
       "        vertical-align: middle;\n",
       "    }\n",
       "\n",
       "    .dataframe tbody tr th {\n",
       "        vertical-align: top;\n",
       "    }\n",
       "\n",
       "    .dataframe thead th {\n",
       "        text-align: right;\n",
       "    }\n",
       "</style>\n",
       "<table border=\"1\" class=\"dataframe\">\n",
       "  <thead>\n",
       "    <tr style=\"text-align: right;\">\n",
       "      <th></th>\n",
       "      <th>response</th>\n",
       "      <th>issue</th>\n",
       "      <th>symptom</th>\n",
       "    </tr>\n",
       "  </thead>\n",
       "  <tbody>\n",
       "    <tr>\n",
       "      <th>0</th>\n",
       "      <td>my brakes make a noise whenever I try to stop</td>\n",
       "      <td>Brakes</td>\n",
       "      <td>Car makes grinding noise</td>\n",
       "    </tr>\n",
       "    <tr>\n",
       "      <th>1</th>\n",
       "      <td>super frustrating every time I start my car it...</td>\n",
       "      <td>Starter</td>\n",
       "      <td>Car starts then stops</td>\n",
       "    </tr>\n",
       "    <tr>\n",
       "      <th>2</th>\n",
       "      <td>I can't open the damn door to my car</td>\n",
       "      <td>Other</td>\n",
       "      <td></td>\n",
       "    </tr>\n",
       "    <tr>\n",
       "      <th>3</th>\n",
       "      <td>I turn the key and nothing happens</td>\n",
       "      <td>Starter</td>\n",
       "      <td>Car doesn't start</td>\n",
       "    </tr>\n",
       "    <tr>\n",
       "      <th>4</th>\n",
       "      <td>Car doesn't always start when it's low on blin...</td>\n",
       "      <td>Starter</td>\n",
       "      <td>Car doesn't start</td>\n",
       "    </tr>\n",
       "    <tr>\n",
       "      <th>...</th>\n",
       "      <td>...</td>\n",
       "      <td>...</td>\n",
       "      <td>...</td>\n",
       "    </tr>\n",
       "    <tr>\n",
       "      <th>104</th>\n",
       "      <td>my breaks are faulty.</td>\n",
       "      <td>Brakes</td>\n",
       "      <td>Car brakes, but then brakes disengage</td>\n",
       "    </tr>\n",
       "    <tr>\n",
       "      <th>105</th>\n",
       "      <td>my lights do not work</td>\n",
       "      <td>Other</td>\n",
       "      <td></td>\n",
       "    </tr>\n",
       "    <tr>\n",
       "      <th>106</th>\n",
       "      <td>I try to start the engine only to find that th...</td>\n",
       "      <td>Starter</td>\n",
       "      <td>Car doesn't start</td>\n",
       "    </tr>\n",
       "    <tr>\n",
       "      <th>107</th>\n",
       "      <td>The driver side window auto function does not ...</td>\n",
       "      <td>Other</td>\n",
       "      <td></td>\n",
       "    </tr>\n",
       "    <tr>\n",
       "      <th>108</th>\n",
       "      <td>Sometimes when I press the brake, the car does...</td>\n",
       "      <td>Brakes</td>\n",
       "      <td>Car doesn't stop in timely manner</td>\n",
       "    </tr>\n",
       "  </tbody>\n",
       "</table>\n",
       "<p>109 rows × 3 columns</p>\n",
       "</div>"
      ],
      "text/plain": [
       "                                              response    issue  \\\n",
       "0        my brakes make a noise whenever I try to stop   Brakes   \n",
       "1    super frustrating every time I start my car it...  Starter   \n",
       "2                 I can't open the damn door to my car    Other   \n",
       "3                   I turn the key and nothing happens  Starter   \n",
       "4    Car doesn't always start when it's low on blin...  Starter   \n",
       "..                                                 ...      ...   \n",
       "104                              my breaks are faulty.   Brakes   \n",
       "105                              my lights do not work    Other   \n",
       "106  I try to start the engine only to find that th...  Starter   \n",
       "107  The driver side window auto function does not ...    Other   \n",
       "108  Sometimes when I press the brake, the car does...   Brakes   \n",
       "\n",
       "                                   symptom  \n",
       "0                 Car makes grinding noise  \n",
       "1                    Car starts then stops  \n",
       "2                                           \n",
       "3                        Car doesn't start  \n",
       "4                        Car doesn't start  \n",
       "..                                     ...  \n",
       "104  Car brakes, but then brakes disengage  \n",
       "105                                         \n",
       "106                      Car doesn't start  \n",
       "107                                         \n",
       "108      Car doesn't stop in timely manner  \n",
       "\n",
       "[109 rows x 3 columns]"
      ]
     },
     "execution_count": 4,
     "metadata": {},
     "output_type": "execute_result"
    }
   ],
   "source": [
    "import pandas as pd\n",
    "\n",
    "df = pd.read_csv('response.csv') \n",
    "df = df.fillna('')\n",
    "df['response']=df.iloc[:,3]+df.iloc[:,5]+df.iloc[:,6]\n",
    "df['issue'] = df.iloc[:,1]\n",
    "df['symptom'] = df.iloc[:,2] + df.iloc[:,4]\n",
    "subset = df.iloc[:,-3:]\n",
    "subset"
   ]
  },
  {
   "cell_type": "code",
   "execution_count": 5,
   "metadata": {},
   "outputs": [],
   "source": [
    "import markovify\n",
    "import codecs"
   ]
  },
  {
   "cell_type": "code",
   "execution_count": 6,
   "metadata": {},
   "outputs": [],
   "source": [
    "def train_markov_type(data, issue):\n",
    "    return markovify.Text(data[data[\"issue\"] == issue].response, retain_original=False, state_size=2)\n",
    "\n",
    "def make_sentence(model, length=200):\n",
    "    return model.make_short_sentence(length, max_overlap_ratio = .7, max_overlap_total=15)\n",
    "\n",
    "other_model = train_markov_type(subset, \"Other\")\n",
    "brakes_model = train_markov_type(subset, \"Brakes\")\n",
    "starter_model = train_markov_type(subset, \"Starter\")"
   ]
  },
  {
   "cell_type": "code",
   "execution_count": 7,
   "metadata": {},
   "outputs": [
    {
     "data": {
      "text/plain": [
       "'There is a light that came on that looks to be something related to the left.'"
      ]
     },
     "execution_count": 7,
     "metadata": {},
     "output_type": "execute_result"
    }
   ],
   "source": [
    "make_sentence(other_model)"
   ]
  },
  {
   "cell_type": "code",
   "execution_count": 9,
   "metadata": {},
   "outputs": [
    {
     "data": {
      "text/plain": [
       "'Car makes a squeeky noise when I hit brakes.'"
      ]
     },
     "execution_count": 9,
     "metadata": {},
     "output_type": "execute_result"
    }
   ],
   "source": [
    "make_sentence(brakes_model)"
   ]
  },
  {
   "cell_type": "code",
   "execution_count": 8,
   "metadata": {},
   "outputs": [
    {
     "data": {
      "text/plain": [
       "'Car dies when I step on the the fourth time.'"
      ]
     },
     "execution_count": 8,
     "metadata": {},
     "output_type": "execute_result"
    }
   ],
   "source": [
    "make_sentence(starter_model)"
   ]
  },
  {
   "cell_type": "markdown",
   "metadata": {},
   "source": [
    "We can combine these models with relative weights"
   ]
  },
  {
   "cell_type": "code",
   "execution_count": 9,
   "metadata": {},
   "outputs": [],
   "source": [
    "compound_model = markovify.combine([other_model, brakes_model, starter_model], [14, 7, 7])"
   ]
  },
  {
   "cell_type": "code",
   "execution_count": 10,
   "metadata": {},
   "outputs": [
    {
     "name": "stdout",
     "output_type": "stream",
     "text": [
      "I can't open the damn door to my previous display which is very unsafe.\n",
      "My back seat seatbelt won't lock.\n",
      "The car pulls to the brake pedal\n",
      "This is the third one, and I can't open the damn door to my car starts.\n",
      "Blind Spot Monitoring system will randomly be disabled.\n",
      "My battery keeps dying.\n",
      "My window won't roll up.\n",
      "My car is now a pile of ashes.\n",
      "I feel like the car evaluated.\n",
      "the flux capacitor is misfiring and I can't open the damn door to my previous display which is very unsafe.\n",
      "It seems like I have some noise when i drive it above 60 mph\n",
      "I don't know what more you want from me, I get into the car, it spits and sputters for a few seconds and then won't start the engine unless you hit the start button to turn over.\n",
      "I tried starting my car if the door won't open, and I'm all out of park.\n",
      "windshield wipers\n",
      "I'm having an issue with fuel injection sensor or pressure.\n",
      "Front right corner is dented from a collision.\n",
      "The car won't turn off either.\n",
      "That's all good.\n",
      "It is very slow to get moving and there's a horrible grinding noise as I drive.\n",
      "The oil change has been performed.\n"
     ]
    }
   ],
   "source": [
    "for i in range(20):\n",
    "    print(make_sentence(compound_model))"
   ]
  },
  {
   "cell_type": "code",
   "execution_count": 11,
   "metadata": {},
   "outputs": [],
   "source": [
    "import numpy\n",
    "def generate_cases(models, weights=None):\n",
    "    if weights is None:\n",
    "        weights = [1] * len(models)\n",
    "    \n",
    "    choices = []\n",
    "    \n",
    "    total_weight = float(sum(weights))\n",
    "    \n",
    "    for i in range(len(weights)):\n",
    "        choices.append((float(sum(weights[0:i+1])) / total_weight, models[i]))\n",
    "    \n",
    "    def choose_model():\n",
    "        r = numpy.random.uniform()\n",
    "        for (p, m) in choices:\n",
    "            if r <= p:\n",
    "                return m\n",
    "        return choices[-1][1]\n",
    "\n",
    "\n",
    "    def choose_from(c):\n",
    "        idx = math.floor(numpy.random.uniform() * len(c))\n",
    "        return c[idx]\n",
    "    \n",
    "    \n",
    "    while True:\n",
    "        yield (make_sentence(choose_model()))\n",
    "            "
   ]
  },
  {
   "cell_type": "code",
   "execution_count": 12,
   "metadata": {},
   "outputs": [],
   "source": [
    "t = generate_cases([other_model, brakes_model, starter_model], [3,4,4])"
   ]
  },
  {
   "cell_type": "code",
   "execution_count": 13,
   "metadata": {
    "scrolled": true
   },
   "outputs": [
    {
     "data": {
      "text/plain": [
       "['It seems like I have to stretch my leg to do it.',\n",
       " 'Sometimes the car would not start.',\n",
       " 'The car pulls to the left.',\n",
       " 'The paint on the fuel line, and apparently it came loose while driving.',\n",
       " 'The other 3 tires report normally.',\n",
       " \"It's not actually a grinding noise, more like a piercing shriek of anguish\",\n",
       " 'Fuel economy has gotten very bad.',\n",
       " 'My cars breaks make a noise whenever I try to stop',\n",
       " 'Then I have to brake again.',\n",
       " 'When I turn the key and hear funny sounds but nothing happens.',\n",
       " 'Car makes a squeeky noise when I push hard on the brake pedal.',\n",
       " 'Plus it seems it takes a long time to come to a complete stop.',\n",
       " 'My car is behaving very weird.',\n",
       " 'With that, highway driving is very unpleasant.',\n",
       " 'The pedal feels squishy.',\n",
       " 'To much technology, and that is ieven getting worse from model to newer model.',\n",
       " 'The car pulls to the left.',\n",
       " 'Car makes a squeeky noise when I press the brakes disengage.',\n",
       " 'Sometimes when I brake, after a few seconds, the brakes disengage.',\n",
       " 'I have to press the ignition button at least twice before my car it just stops again, what is wrong!',\n",
       " \"Car dies when I stop at a light or stop sign and then won't start again.\",\n",
       " 'If I pump the brake it works better.',\n",
       " 'The car make some screeching or grinding noises when stopping.',\n",
       " 'My cars breaks make a terrible sound when stopping.',\n",
       " 'Squealing sound',\n",
       " \"Car doesn't always start when it's low on blinker fluid\",\n",
       " 'My car is leaning on left',\n",
       " 'It stops if I push it really far, but I have to stretch my leg to do it.',\n",
       " 'When it rains, the car is leaning on left',\n",
       " 'The paint on the left door is scratched.',\n",
       " 'There a loud knocking sound coming from somewhere in the front.',\n",
       " 'It makes a grinding noise too.',\n",
       " 'I press on the brake and the car refuses to stop as quickly as it used to',\n",
       " \"This must be a sensor issue on this tire, but I'm not sure.\",\n",
       " \"I'm not sure if it is the battery three times over the past year, so I think maybe either I'm buying defective batteries or something about the car would not start.\",\n",
       " 'Cannot get the car starts on the the fourth time.',\n",
       " \"AC doesn't work well.\",\n",
       " \"It won't start the engine unless you hit the starter firing but the engine doesn’t power up\",\n",
       " \"This must be a sensor issue on this tire, but I'm not sure.\",\n",
       " \"Where's the place, where I need to insert my key to start it.\",\n",
       " 'Front right corner is dented from a collision.',\n",
       " \"The steering wheel shudders and I don't know what more you want from me, I get into the car, turn the key, nothing happens.\",\n",
       " \"Car doesn't always start when it's low on blinker fluid\",\n",
       " 'I feel a bit harder than I normally would.',\n",
       " 'Customer states breaks make a terrible sound when breaking.',\n",
       " 'https://www.youtube.com/watch?v=bEME9licodY',\n",
       " \"I'm hearing a noise and feeling a vibration when I go over a bump.\",\n",
       " 'I have the button pushed in and the batteries just keep dying after about a week.',\n",
       " 'Dashboard computer reboots when traveling above 80mph',\n",
       " 'When I try to start it.',\n",
       " 'There is a lag when I open my rear trunk',\n",
       " 'Sometimes when I press down on the brakes.',\n",
       " 'Sometimes the car to turn over.',\n",
       " \"My air conditioning doesn't seem to be something related to the air bag or seat belt.\",\n",
       " \"My car keeps reporting that my driver's side front tire has no tire pressure, but when I accelerate above 60 mph.\",\n",
       " 'Car dies when I step on the brake and pushed the button, the lights would come one and the car doesnt start.',\n",
       " 'my car does not stop',\n",
       " 'It is very dangerous',\n",
       " \"Brakes might be getting old because car doesn't respond immediately.\",\n",
       " \"My back seat seatbelt won't lock.\",\n",
       " \"There is a light that came on that looks to be working ok, but that sound wasn't there when I go over a bump.\",\n",
       " 'Aaarrrggghhh!!!!',\n",
       " 'The car pulls to the air coming out of gas.',\n",
       " 'When I turn the key and hear funny sounds but nothing happens.',\n",
       " 'When I turn the key and hear funny sounds but nothing happens.',\n",
       " \"Car makes a lot noise and doesn't fully stop when we hit the break.\",\n",
       " \"Where's the place, where I need to insert my key to start it.\",\n",
       " 'Plus it seems it takes a long time to come to a stop at a stop at a stop light, I press on the brake it works better.',\n",
       " \"It's not actually a grinding noise.\",\n",
       " \"the flux capacitor is misfiring and I can't get up to 88 MPH\",\n",
       " 'my breaks are faulty.',\n",
       " \"It makes a grinding sound for a few seconds and then won't start again.\",\n",
       " 'I have a keyless start system and when I stop at a light or stop sign and then nothing happens.',\n",
       " 'I feel a bit of rumbling to the car made horrible grinding noises.',\n",
       " 'While driving I hear lot of noises coming from the brakes a bit harder than I normally would.',\n",
       " 'I have replaced the battery is dead, but I have a keyless start system and when I step on the the fourth time.',\n",
       " 'When I turn the key in the ignition, I just get a clicking sound but would not start.',\n",
       " 'It stops if I keep my foot firmly pressing down on the brake pedal all the way to the car does not stop',\n",
       " \"AC doesn't work well.\",\n",
       " 'Customer states breaks make a noise whenever I try to stop and sometimes very bumpy.',\n",
       " 'My car makes a sputtering noise and does not turn over',\n",
       " 'I tried starting my car it just stops again, what is wrong!',\n",
       " 'brake pads are not wearing down evenly',\n",
       " \"I can't drive that way, always these bullshitty new technologies...\",\n",
       " \"It's not actually a grinding noise.\",\n",
       " 'Car creates whistle sound each time I try to start the ignition?',\n",
       " '68F',\n",
       " 'I keep my foot firmly pressing down on the brake pedal.',\n",
       " 'my breaks are faulty.',\n",
       " \"It's rather a periodic deep sound when breaking.\",\n",
       " \"It's rather a periodic deep sound when breaking.\",\n",
       " 'I turn the key and hear funny sounds but nothing happens.',\n",
       " \"I can't get up to 88 MPH\",\n",
       " \"Car doesn't always start when it's low on blinker fluid\",\n",
       " 'I came out from work at the end of the day and the car doesnt start.',\n",
       " 'I came out from work at the end of the day and the car would not start.',\n",
       " 'Please help ASAP!',\n",
       " 'Leak of a clear, cloudy, oil like substance in the car.',\n",
       " 'my car does slow, but it takes more force to stop',\n",
       " \"When coming to a stop at a stop at a stop at a stop light, I press down on the brake and the car doesn't seem to stop as quickly as it used to\"]"
      ]
     },
     "execution_count": 13,
     "metadata": {},
     "output_type": "execute_result"
    }
   ],
   "source": [
    "[next(t) for i in range(100)]"
   ]
  },
  {
   "cell_type": "markdown",
   "metadata": {},
   "source": [
    "Checking for similarity (slow)"
   ]
  },
  {
   "cell_type": "code",
   "execution_count": null,
   "metadata": {},
   "outputs": [],
   "source": [
    "#https://stackoverflow.com/questions/54334304/spacy-cant-find-model-en-core-web-sm-on-windows-10-and-python-3-5-3-anacon\n",
    "#in your terminal window, execute the following code, before loading 'en_core_web_sm':\n",
    "#     cd vehicle-claims-processing/\n",
    "#     python -m spacy download en_core_web_sm\n"
   ]
  },
  {
   "cell_type": "code",
   "execution_count": 15,
   "metadata": {},
   "outputs": [
    {
     "name": "stderr",
     "output_type": "stream",
     "text": [
      "/opt/app-root/lib/python3.6/site-packages/ipykernel_launcher.py:16: UserWarning: [W007] The model you're using has no word vectors loaded, so the result of the Doc.similarity method will be based on the tagger, parser and NER, which may not give useful similarity judgements. This may happen if you're using one of the small models, e.g. `en_core_web_sm`, which don't ship with word vectors and only use context-sensitive tensors. You can always add your own word vectors, or use one of the larger models instead if available.\n",
      "  app.launch_new_instance()\n",
      "/opt/app-root/lib/python3.6/site-packages/ipykernel_launcher.py:17: UserWarning: [W007] The model you're using has no word vectors loaded, so the result of the Doc.similarity method will be based on the tagger, parser and NER, which may not give useful similarity judgements. This may happen if you're using one of the small models, e.g. `en_core_web_sm`, which don't ship with word vectors and only use context-sensitive tensors. You can always add your own word vectors, or use one of the larger models instead if available.\n",
      "/opt/app-root/lib/python3.6/site-packages/ipykernel_launcher.py:16: UserWarning: [W008] Evaluating Doc.similarity based on empty vectors.\n",
      "  app.launch_new_instance()\n"
     ]
    },
    {
     "name": "stdout",
     "output_type": "stream",
     "text": [
      "Mean similarity: 0.8247100674653405\n"
     ]
    },
    {
     "data": {
      "text/plain": [
       "<seaborn.axisgrid.FacetGrid at 0x7fcc4517fdd8>"
      ]
     },
     "execution_count": 15,
     "metadata": {},
     "output_type": "execute_result"
    },
    {
     "data": {
      "image/png": "[encoded data removed]",
      "text/plain": [
       "<Figure size 360x360 with 1 Axes>"
      ]
     },
     "metadata": {
      "needs_background": "light"
     },
     "output_type": "display_data"
    }
   ],
   "source": [
    "import spacy\n",
    "\n",
    "nlp = spacy.load('en_core_web_sm')\n",
    "#nlp = spacy.load('en')\n",
    "\n",
    "dt_b = subset[\"response\"]\n",
    "dt_a = [next(t) for i in range(100)]\n",
    "\n",
    "import numpy as np\n",
    "a = []\n",
    "for sentence in dt_a:\n",
    "    doc = nlp(sentence)\n",
    "    m = 0\n",
    "    for sentence1 in dt_b:\n",
    "        doc1 = nlp(sentence1)\n",
    "        if m < doc.similarity(doc1):\n",
    "            m = doc.similarity(doc1)\n",
    "    a.append(m)\n",
    "        \n",
    "print(\"Mean similarity: \" + str(np.array(a).mean()))\n",
    "\n",
    "import seaborn as sns\n",
    "sns.displot(a)"
   ]
  },
  {
   "cell_type": "code",
   "execution_count": 22,
   "metadata": {},
   "outputs": [],
   "source": [
    "import cProfile\n",
    "\n",
    "def timing(c):\n",
    "    for _ in range(c):\n",
    "        next(t)\n",
    "\n",
    "cProfile.run('timing(2000)', 'generatestats')"
   ]
  },
  {
   "cell_type": "code",
   "execution_count": 23,
   "metadata": {},
   "outputs": [
    {
     "name": "stdout",
     "output_type": "stream",
     "text": [
      "Thu Mar 18 16:13:34 2021    generatestats\n",
      "\n",
      "         294793 function calls (270390 primitive calls) in 0.136 seconds\n",
      "\n",
      "   Ordered by: standard name\n",
      "\n",
      "   ncalls  tottime  percall  cumtime  percall filename:lineno(function)\n",
      "     2000    0.001    0.000    0.008    0.000 <ipython-input-13-5f1382f3447f>:13(choose_model)\n",
      "     2000    0.001    0.000    0.135    0.000 <ipython-input-13-5f1382f3447f>:2(generate_cases)\n",
      "        1    0.001    0.001    0.136    0.136 <ipython-input-22-801ca619797e>:3(timing)\n",
      "     2000    0.002    0.000    0.126    0.000 <ipython-input-7-3e3ab942a540>:4(make_sentence)\n",
      "        1    0.000    0.000    0.136    0.136 <string>:1(<module>)\n",
      "    62107    0.016    0.000    0.023    0.000 chain.py:10(accumulate)\n",
      "    26438    0.017    0.000    0.106    0.000 chain.py:112(gen)\n",
      "     2035    0.005    0.000    0.111    0.000 chain.py:125(walk)\n",
      "    26438    0.055    0.000    0.089    0.000 chain.py:96(move)\n",
      "     2035    0.001    0.000    0.002    0.000 text.py:120(word_join)\n",
      "     2035    0.005    0.000    0.120    0.000 text.py:175(make_sentence)\n",
      "     2000    0.004    0.000    0.124    0.000 text.py:221(make_short_sentence)\n",
      "    26438    0.006    0.000    0.006    0.000 {built-in method _bisect.bisect}\n",
      "    13301    0.002    0.000    0.002    0.000 {built-in method _operator.add}\n",
      "        1    0.000    0.000    0.136    0.136 {built-in method builtins.exec}\n",
      "     2035    0.001    0.000    0.001    0.000 {built-in method builtins.hasattr}\n",
      "    24403    0.003    0.000    0.003    0.000 {built-in method builtins.iter}\n",
      "     4035    0.000    0.000    0.000    0.000 {built-in method builtins.len}\n",
      "26403/2000    0.003    0.000    0.135    0.000 {built-in method builtins.next}\n",
      "        1    0.000    0.000    0.000    0.000 {method 'disable' of '_lsprof.Profiler' objects}\n",
      "    14210    0.002    0.000    0.002    0.000 {method 'get' of 'dict' objects}\n",
      "    24403    0.003    0.000    0.003    0.000 {method 'items' of 'dict' objects}\n",
      "     2035    0.001    0.000    0.001    0.000 {method 'join' of 'str' objects}\n",
      "    26438    0.003    0.000    0.003    0.000 {method 'random' of '_random.Random' objects}\n",
      "     2000    0.006    0.000    0.006    0.000 {method 'uniform' of 'numpy.random.mtrand.RandomState' objects}\n",
      "\n",
      "\n"
     ]
    },
    {
     "data": {
      "text/plain": [
       "<pstats.Stats at 0x7ff50f5daef0>"
      ]
     },
     "execution_count": 23,
     "metadata": {},
     "output_type": "execute_result"
    }
   ],
   "source": [
    "import pstats\n",
    "p = pstats.Stats('generatestats')\n",
    "p.strip_dirs().sort_stats(-1).print_stats()"
   ]
  },
  {
   "cell_type": "code",
   "execution_count": null,
   "metadata": {},
   "outputs": [],
   "source": []
  }
 ],
 "metadata": {
  "kernelspec": {
   "display_name": "Python 3",
   "language": "python",
   "name": "python3"
  },
  "language_info": {
   "codemirror_mode": {
    "name": "ipython",
    "version": 3
   },
   "file_extension": ".py",
   "mimetype": "text/x-python",
   "name": "python",
   "nbconvert_exporter": "python",
   "pygments_lexer": "ipython3",
   "version": "3.6.8"
  }
 },
 "nbformat": 4,
 "nbformat_minor": 4
}
