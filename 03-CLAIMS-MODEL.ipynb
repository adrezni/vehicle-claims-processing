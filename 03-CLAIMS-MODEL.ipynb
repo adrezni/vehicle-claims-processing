{
 "cells": [
  {
   "cell_type": "markdown",
   "id": "quality-freight",
   "metadata": {},
   "source": [
    "Create claims model from generated classified data"
   ]
  },
  {
   "cell_type": "code",
   "execution_count": 4,
   "id": "classical-physics",
   "metadata": {},
   "outputs": [
    {
     "name": "stdout",
     "output_type": "stream",
     "text": [
      "Requirement already satisfied: markovify in /opt/app-root/lib/python3.8/site-packages (from -r requirements.txt (line 1)) (0.9.0)\n",
      "Requirement already satisfied: matplotlib in /opt/app-root/lib/python3.8/site-packages (from -r requirements.txt (line 2)) (3.3.4)\n",
      "Requirement already satisfied: numpy in /opt/app-root/lib/python3.8/site-packages (from -r requirements.txt (line 3)) (1.19.5)\n",
      "Requirement already satisfied: pandas in /opt/app-root/lib/python3.8/site-packages (from -r requirements.txt (line 4)) (1.2.3)\n",
      "Requirement already satisfied: pytest in /opt/app-root/lib/python3.8/site-packages (from -r requirements.txt (line 5)) (6.2.3)\n",
      "Requirement already satisfied: regex in /opt/app-root/lib/python3.8/site-packages (from -r requirements.txt (line 6)) (2021.4.4)\n",
      "Requirement already satisfied: scipy in /opt/app-root/lib/python3.8/site-packages (from -r requirements.txt (line 7)) (1.6.1)\n",
      "Requirement already satisfied: seaborn in /opt/app-root/lib/python3.8/site-packages (from -r requirements.txt (line 8)) (0.11.1)\n",
      "Requirement already satisfied: spacy in /opt/app-root/lib/python3.8/site-packages (from -r requirements.txt (line 9)) (3.0.5)\n",
      "Requirement already satisfied: tensorflow in /opt/app-root/lib/python3.8/site-packages (from -r requirements.txt (line 10)) (2.4.1)\n",
      "Requirement already satisfied: tensorflow_hub in /opt/app-root/lib/python3.8/site-packages (from -r requirements.txt (line 11)) (0.11.0)\n",
      "Requirement already satisfied: wrapt in /opt/app-root/lib/python3.8/site-packages (from -r requirements.txt (line 12)) (1.12.1)\n",
      "Requirement already satisfied: unidecode in /opt/app-root/lib/python3.8/site-packages (from markovify->-r requirements.txt (line 1)) (1.2.0)\n",
      "Requirement already satisfied: cycler>=0.10 in /opt/app-root/lib/python3.8/site-packages (from matplotlib->-r requirements.txt (line 2)) (0.10.0)\n",
      "Requirement already satisfied: kiwisolver>=1.0.1 in /opt/app-root/lib/python3.8/site-packages (from matplotlib->-r requirements.txt (line 2)) (1.3.1)\n",
      "Requirement already satisfied: pillow>=6.2.0 in /opt/app-root/lib/python3.8/site-packages (from matplotlib->-r requirements.txt (line 2)) (8.1.2)\n",
      "Requirement already satisfied: python-dateutil>=2.1 in /opt/app-root/lib/python3.8/site-packages (from matplotlib->-r requirements.txt (line 2)) (2.8.1)\n",
      "Requirement already satisfied: pyparsing!=2.0.4,!=2.1.2,!=2.1.6,>=2.0.3 in /opt/app-root/lib/python3.8/site-packages (from matplotlib->-r requirements.txt (line 2)) (2.4.7)\n",
      "Requirement already satisfied: six in /opt/app-root/lib/python3.8/site-packages (from cycler>=0.10->matplotlib->-r requirements.txt (line 2)) (1.15.0)\n",
      "Requirement already satisfied: pytz>=2017.3 in /opt/app-root/lib/python3.8/site-packages (from pandas->-r requirements.txt (line 4)) (2021.1)\n",
      "Requirement already satisfied: pluggy<1.0.0a1,>=0.12 in /opt/app-root/lib/python3.8/site-packages (from pytest->-r requirements.txt (line 5)) (0.13.1)\n",
      "Requirement already satisfied: iniconfig in /opt/app-root/lib/python3.8/site-packages (from pytest->-r requirements.txt (line 5)) (1.1.1)\n",
      "Requirement already satisfied: toml in /opt/app-root/lib/python3.8/site-packages (from pytest->-r requirements.txt (line 5)) (0.10.2)\n",
      "Requirement already satisfied: py>=1.8.2 in /opt/app-root/lib/python3.8/site-packages (from pytest->-r requirements.txt (line 5)) (1.10.0)\n",
      "Requirement already satisfied: packaging in /opt/app-root/lib/python3.8/site-packages (from pytest->-r requirements.txt (line 5)) (20.9)\n",
      "Requirement already satisfied: attrs>=19.2.0 in /opt/app-root/lib/python3.8/site-packages (from pytest->-r requirements.txt (line 5)) (20.3.0)\n",
      "Requirement already satisfied: catalogue<2.1.0,>=2.0.1 in /opt/app-root/lib/python3.8/site-packages (from spacy->-r requirements.txt (line 9)) (2.0.1)\n",
      "Requirement already satisfied: pathy>=0.3.5 in /opt/app-root/lib/python3.8/site-packages (from spacy->-r requirements.txt (line 9)) (0.4.0)\n",
      "Requirement already satisfied: tqdm<5.0.0,>=4.38.0 in /opt/app-root/lib/python3.8/site-packages (from spacy->-r requirements.txt (line 9)) (4.60.0)\n",
      "Requirement already satisfied: preshed<3.1.0,>=3.0.2 in /opt/app-root/lib/python3.8/site-packages (from spacy->-r requirements.txt (line 9)) (3.0.5)\n",
      "Requirement already satisfied: spacy-legacy<3.1.0,>=3.0.0 in /opt/app-root/lib/python3.8/site-packages (from spacy->-r requirements.txt (line 9)) (3.0.2)\n",
      "Requirement already satisfied: requests<3.0.0,>=2.13.0 in /opt/app-root/lib/python3.8/site-packages (from spacy->-r requirements.txt (line 9)) (2.25.1)\n",
      "Requirement already satisfied: typer<0.4.0,>=0.3.0 in /opt/app-root/lib/python3.8/site-packages (from spacy->-r requirements.txt (line 9)) (0.3.2)\n",
      "Requirement already satisfied: setuptools in /opt/app-root/lib/python3.8/site-packages (from spacy->-r requirements.txt (line 9)) (54.2.0)\n",
      "Requirement already satisfied: thinc<8.1.0,>=8.0.2 in /opt/app-root/lib/python3.8/site-packages (from spacy->-r requirements.txt (line 9)) (8.0.2)\n",
      "Requirement already satisfied: murmurhash<1.1.0,>=0.28.0 in /opt/app-root/lib/python3.8/site-packages (from spacy->-r requirements.txt (line 9)) (1.0.5)\n",
      "Requirement already satisfied: jinja2 in /opt/app-root/lib/python3.8/site-packages (from spacy->-r requirements.txt (line 9)) (2.11.3)\n",
      "Requirement already satisfied: cymem<2.1.0,>=2.0.2 in /opt/app-root/lib/python3.8/site-packages (from spacy->-r requirements.txt (line 9)) (2.0.5)\n",
      "Requirement already satisfied: srsly<3.0.0,>=2.4.0 in /opt/app-root/lib/python3.8/site-packages (from spacy->-r requirements.txt (line 9)) (2.4.0)\n",
      "Requirement already satisfied: pydantic<1.8.0,>=1.7.1 in /opt/app-root/lib/python3.8/site-packages (from spacy->-r requirements.txt (line 9)) (1.7.3)\n",
      "Requirement already satisfied: wasabi<1.1.0,>=0.8.1 in /opt/app-root/lib/python3.8/site-packages (from spacy->-r requirements.txt (line 9)) (0.8.2)\n",
      "Requirement already satisfied: blis<0.8.0,>=0.4.0 in /opt/app-root/lib/python3.8/site-packages (from spacy->-r requirements.txt (line 9)) (0.7.4)\n",
      "Requirement already satisfied: smart-open<4.0.0,>=2.2.0 in /opt/app-root/lib/python3.8/site-packages (from pathy>=0.3.5->spacy->-r requirements.txt (line 9)) (3.0.0)\n",
      "Requirement already satisfied: idna<3,>=2.5 in /opt/app-root/lib/python3.8/site-packages (from requests<3.0.0,>=2.13.0->spacy->-r requirements.txt (line 9)) (2.10)\n",
      "Requirement already satisfied: urllib3<1.27,>=1.21.1 in /opt/app-root/lib/python3.8/site-packages (from requests<3.0.0,>=2.13.0->spacy->-r requirements.txt (line 9)) (1.26.4)\n",
      "Requirement already satisfied: chardet<5,>=3.0.2 in /opt/app-root/lib/python3.8/site-packages (from requests<3.0.0,>=2.13.0->spacy->-r requirements.txt (line 9)) (4.0.0)\n",
      "Requirement already satisfied: certifi>=2017.4.17 in /opt/app-root/lib/python3.8/site-packages (from requests<3.0.0,>=2.13.0->spacy->-r requirements.txt (line 9)) (2020.12.5)\n",
      "Requirement already satisfied: click<7.2.0,>=7.1.1 in /opt/app-root/lib/python3.8/site-packages (from typer<0.4.0,>=0.3.0->spacy->-r requirements.txt (line 9)) (7.1.2)\n",
      "Requirement already satisfied: absl-py~=0.10 in /opt/app-root/lib/python3.8/site-packages (from tensorflow->-r requirements.txt (line 10)) (0.12.0)\n",
      "Requirement already satisfied: gast==0.3.3 in /opt/app-root/lib/python3.8/site-packages (from tensorflow->-r requirements.txt (line 10)) (0.3.3)\n",
      "Requirement already satisfied: keras-preprocessing~=1.1.2 in /opt/app-root/lib/python3.8/site-packages (from tensorflow->-r requirements.txt (line 10)) (1.1.2)\n",
      "Requirement already satisfied: protobuf>=3.9.2 in /opt/app-root/lib/python3.8/site-packages (from tensorflow->-r requirements.txt (line 10)) (3.15.6)\n",
      "Requirement already satisfied: wheel~=0.35 in /opt/app-root/lib/python3.8/site-packages (from tensorflow->-r requirements.txt (line 10)) (0.36.2)\n",
      "Requirement already satisfied: termcolor~=1.1.0 in /opt/app-root/lib/python3.8/site-packages (from tensorflow->-r requirements.txt (line 10)) (1.1.0)\n",
      "Requirement already satisfied: astunparse~=1.6.3 in /opt/app-root/lib/python3.8/site-packages (from tensorflow->-r requirements.txt (line 10)) (1.6.3)\n",
      "Requirement already satisfied: google-pasta~=0.2 in /opt/app-root/lib/python3.8/site-packages (from tensorflow->-r requirements.txt (line 10)) (0.2.0)\n",
      "Requirement already satisfied: flatbuffers~=1.12.0 in /opt/app-root/lib/python3.8/site-packages (from tensorflow->-r requirements.txt (line 10)) (1.12)\n",
      "Requirement already satisfied: tensorboard~=2.4 in /opt/app-root/lib/python3.8/site-packages (from tensorflow->-r requirements.txt (line 10)) (2.4.1)\n",
      "Requirement already satisfied: opt-einsum~=3.3.0 in /opt/app-root/lib/python3.8/site-packages (from tensorflow->-r requirements.txt (line 10)) (3.3.0)\n",
      "Requirement already satisfied: typing-extensions~=3.7.4 in /opt/app-root/lib/python3.8/site-packages (from tensorflow->-r requirements.txt (line 10)) (3.7.4.3)\n",
      "Requirement already satisfied: tensorflow-estimator<2.5.0,>=2.4.0 in /opt/app-root/lib/python3.8/site-packages (from tensorflow->-r requirements.txt (line 10)) (2.4.0)\n",
      "Requirement already satisfied: grpcio~=1.32.0 in /opt/app-root/lib/python3.8/site-packages (from tensorflow->-r requirements.txt (line 10)) (1.32.0)\n",
      "Requirement already satisfied: h5py~=2.10.0 in /opt/app-root/lib/python3.8/site-packages (from tensorflow->-r requirements.txt (line 10)) (2.10.0)\n",
      "Requirement already satisfied: markdown>=2.6.8 in /opt/app-root/lib/python3.8/site-packages (from tensorboard~=2.4->tensorflow->-r requirements.txt (line 10)) (3.3.4)\n",
      "Requirement already satisfied: google-auth<2,>=1.6.3 in /opt/app-root/lib/python3.8/site-packages (from tensorboard~=2.4->tensorflow->-r requirements.txt (line 10)) (1.27.1)\n",
      "Requirement already satisfied: werkzeug>=0.11.15 in /opt/app-root/lib/python3.8/site-packages (from tensorboard~=2.4->tensorflow->-r requirements.txt (line 10)) (1.0.1)\n",
      "Requirement already satisfied: tensorboard-plugin-wit>=1.6.0 in /opt/app-root/lib/python3.8/site-packages (from tensorboard~=2.4->tensorflow->-r requirements.txt (line 10)) (1.8.0)\n",
      "Requirement already satisfied: google-auth-oauthlib<0.5,>=0.4.1 in /opt/app-root/lib/python3.8/site-packages (from tensorboard~=2.4->tensorflow->-r requirements.txt (line 10)) (0.4.4)\n",
      "Requirement already satisfied: cachetools<5.0,>=2.0.0 in /opt/app-root/lib/python3.8/site-packages (from google-auth<2,>=1.6.3->tensorboard~=2.4->tensorflow->-r requirements.txt (line 10)) (4.2.1)\n",
      "Requirement already satisfied: rsa<5,>=3.1.4 in /opt/app-root/lib/python3.8/site-packages (from google-auth<2,>=1.6.3->tensorboard~=2.4->tensorflow->-r requirements.txt (line 10)) (4.7.2)\n",
      "Requirement already satisfied: pyasn1-modules>=0.2.1 in /opt/app-root/lib/python3.8/site-packages (from google-auth<2,>=1.6.3->tensorboard~=2.4->tensorflow->-r requirements.txt (line 10)) (0.2.8)\n",
      "Requirement already satisfied: requests-oauthlib>=0.7.0 in /opt/app-root/lib/python3.8/site-packages (from google-auth-oauthlib<0.5,>=0.4.1->tensorboard~=2.4->tensorflow->-r requirements.txt (line 10)) (1.3.0)\n",
      "Requirement already satisfied: pyasn1<0.5.0,>=0.4.6 in /opt/app-root/lib/python3.8/site-packages (from pyasn1-modules>=0.2.1->google-auth<2,>=1.6.3->tensorboard~=2.4->tensorflow->-r requirements.txt (line 10)) (0.4.8)\n",
      "Requirement already satisfied: oauthlib>=3.0.0 in /opt/app-root/lib/python3.8/site-packages (from requests-oauthlib>=0.7.0->google-auth-oauthlib<0.5,>=0.4.1->tensorboard~=2.4->tensorflow->-r requirements.txt (line 10)) (3.1.0)\n",
      "Requirement already satisfied: MarkupSafe>=0.23 in /opt/app-root/lib/python3.8/site-packages (from jinja2->spacy->-r requirements.txt (line 9)) (1.1.1)\n"
     ]
    }
   ],
   "source": [
    "!pip install -r requirements.txt"
   ]
  },
  {
   "cell_type": "code",
   "execution_count": 12,
   "id": "clear-highway",
   "metadata": {},
   "outputs": [
    {
     "name": "stdout",
     "output_type": "stream",
     "text": [
      "2.4.1\n"
     ]
    },
    {
     "name": "stderr",
     "output_type": "stream",
     "text": [
      "[nltk_data] Downloading package stopwords to /opt/app-\n",
      "[nltk_data]     root/src/nltk_data...\n",
      "[nltk_data]   Package stopwords is already up-to-date!\n"
     ]
    }
   ],
   "source": [
    "import csv\n",
    "import pandas as pd\n",
    "import numpy as np\n",
    "import nltk\n",
    "import tensorflow as tf\n",
    "\n",
    "from tensorflow.keras.preprocessing.text import Tokenizer\n",
    "from tensorflow.keras.preprocessing.sequence import pad_sequences\n",
    "#from nltk.corpus import stopwords\n",
    "nltk.download('stopwords')\n",
    "STOPWORDS = set(stopwords.words('english'))\n",
    "\n",
    "print(tf.__version__)\n"
   ]
  },
  {
   "cell_type": "code",
   "execution_count": 13,
   "id": "paperback-linux",
   "metadata": {},
   "outputs": [
    {
     "data": {
      "text/html": [
       "<div>\n",
       "<style scoped>\n",
       "    .dataframe tbody tr th:only-of-type {\n",
       "        vertical-align: middle;\n",
       "    }\n",
       "\n",
       "    .dataframe tbody tr th {\n",
       "        vertical-align: top;\n",
       "    }\n",
       "\n",
       "    .dataframe thead th {\n",
       "        text-align: right;\n",
       "    }\n",
       "</style>\n",
       "<table border=\"1\" class=\"dataframe\">\n",
       "  <thead>\n",
       "    <tr style=\"text-align: right;\">\n",
       "      <th></th>\n",
       "      <th>classified</th>\n",
       "      <th>sentence</th>\n",
       "    </tr>\n",
       "  </thead>\n",
       "  <tbody>\n",
       "    <tr>\n",
       "      <th>0</th>\n",
       "      <td>Brakes</td>\n",
       "      <td>my brakes make a squeaking noise whenever I tr...</td>\n",
       "    </tr>\n",
       "    <tr>\n",
       "      <th>1</th>\n",
       "      <td>Starter</td>\n",
       "      <td>car does not start</td>\n",
       "    </tr>\n",
       "    <tr>\n",
       "      <th>2</th>\n",
       "      <td>Other</td>\n",
       "      <td>windshield wipers don’t work</td>\n",
       "    </tr>\n",
       "    <tr>\n",
       "      <th>3</th>\n",
       "      <td>Brakes</td>\n",
       "      <td>I keep driving past my driveway because the ca...</td>\n",
       "    </tr>\n",
       "    <tr>\n",
       "      <th>4</th>\n",
       "      <td>Brakes</td>\n",
       "      <td>my brakes make a deep grinding metal sound</td>\n",
       "    </tr>\n",
       "  </tbody>\n",
       "</table>\n",
       "</div>"
      ],
      "text/plain": [
       "  classified                                           sentence\n",
       "0     Brakes  my brakes make a squeaking noise whenever I tr...\n",
       "1    Starter                                 car does not start\n",
       "2      Other                       windshield wipers don’t work\n",
       "3     Brakes  I keep driving past my driveway because the ca...\n",
       "4     Brakes         my brakes make a deep grinding metal sound"
      ]
     },
     "execution_count": 13,
     "metadata": {},
     "output_type": "execute_result"
    }
   ],
   "source": [
    "#the simplest way to train a Tensorflow model, using a smaller dataset, is to load it into memory as a dataframe\n",
    "#loading our 'classified' data into a dataframe\n",
    "\n",
    "training_data = pd.read_csv(\"classified-data.csv\", names=['classified', 'sentence'])\n",
    "\n",
    "training_data.head()"
   ]
  },
  {
   "cell_type": "code",
   "execution_count": 14,
   "id": "answering-telling",
   "metadata": {},
   "outputs": [],
   "source": [
    "#claims_features = training_data.copy()\n",
    "#claims_labels = training_data.pop('classified')\n",
    "\n",
    "#Hyperparameters\n",
    "vocab_size = 5000\n",
    "embedding_dim = 64\n",
    "max_length = 200\n",
    "trunc_type = 'post'\n",
    "padding_type = 'post'\n",
    "oov_tok = '<OOV>'\n",
    "training_portion = .8\n"
   ]
  },
  {
   "cell_type": "code",
   "execution_count": 15,
   "id": "united-aging",
   "metadata": {},
   "outputs": [
    {
     "name": "stdout",
     "output_type": "stream",
     "text": [
      "28\n",
      "28\n"
     ]
    }
   ],
   "source": [
    "articles = []\n",
    "labels = []\n",
    "\n",
    "with open(\"classified-data.csv\", 'r') as csvfile:\n",
    "    reader = csv.reader(csvfile, delimiter=',')\n",
    "    next(reader)\n",
    "    for row in reader:\n",
    "        labels.append(row[1])\n",
    "        article = row[0]\n",
    "        for word in STOPWORDS:\n",
    "            token = ' ' + word + ' '\n",
    "            article = article.replace(token, ' ')\n",
    "            article = article.replace(' ', ' ')\n",
    "        articles.append(article)\n",
    "print(len(labels))\n",
    "print(len(articles))"
   ]
  },
  {
   "cell_type": "code",
   "execution_count": 16,
   "id": "competitive-smell",
   "metadata": {},
   "outputs": [
    {
     "name": "stdout",
     "output_type": "stream",
     "text": [
      "22\n",
      "22\n",
      "22\n",
      "6\n",
      "6\n"
     ]
    }
   ],
   "source": [
    "\n",
    "train_size = int(len(articles) * training_portion)\n",
    "\n",
    "train_articles = articles[0: train_size]\n",
    "train_labels = labels[0: train_size]\n",
    "\n",
    "validation_articles = articles[train_size:]\n",
    "validation_labels = labels[train_size:]\n",
    "\n",
    "print(train_size)\n",
    "print(len(train_articles))\n",
    "print(len(train_labels))\n",
    "print(len(validation_articles))\n",
    "print(len(validation_labels))"
   ]
  },
  {
   "cell_type": "code",
   "execution_count": 17,
   "id": "straight-artwork",
   "metadata": {},
   "outputs": [
    {
     "data": {
      "text/plain": [
       "{'<OOV>': 1, 'other': 2, 'brakes': 3, 'starter': 4}"
      ]
     },
     "execution_count": 17,
     "metadata": {},
     "output_type": "execute_result"
    }
   ],
   "source": [
    "\n",
    "tokenizer = Tokenizer(num_words = vocab_size, oov_token=oov_tok)\n",
    "tokenizer.fit_on_texts(train_articles)\n",
    "word_index = tokenizer.word_index\n",
    "dict(list(word_index.items())[0:10])"
   ]
  },
  {
   "cell_type": "code",
   "execution_count": 18,
   "id": "dominican-mercury",
   "metadata": {},
   "outputs": [
    {
     "name": "stdout",
     "output_type": "stream",
     "text": [
      "[4]\n"
     ]
    }
   ],
   "source": [
    "train_sequences = tokenizer.texts_to_sequences(train_articles)\n",
    "print(train_sequences[10])"
   ]
  },
  {
   "cell_type": "code",
   "execution_count": 19,
   "id": "moral-newspaper",
   "metadata": {},
   "outputs": [
    {
     "name": "stdout",
     "output_type": "stream",
     "text": [
      "1\n",
      "200\n",
      "1\n",
      "200\n",
      "1\n",
      "200\n"
     ]
    }
   ],
   "source": [
    "train_padded = pad_sequences(train_sequences, maxlen=max_length, padding=padding_type, truncating=trunc_type)\n",
    "print(len(train_sequences[0]))\n",
    "print(len(train_padded[0]))\n",
    "\n",
    "print(len(train_sequences[1]))\n",
    "print(len(train_padded[1]))\n",
    "\n",
    "print(len(train_sequences[10]))\n",
    "print(len(train_padded[10]))"
   ]
  },
  {
   "cell_type": "code",
   "execution_count": 20,
   "id": "civic-strengthening",
   "metadata": {},
   "outputs": [
    {
     "name": "stdout",
     "output_type": "stream",
     "text": [
      "6\n",
      "(6, 200)\n"
     ]
    }
   ],
   "source": [
    "validation_sequences = tokenizer.texts_to_sequences(validation_articles)\n",
    "validation_padded = pad_sequences(validation_sequences, maxlen=max_length, padding=padding_type, truncating=trunc_type)\n",
    "\n",
    "print(len(validation_sequences))\n",
    "print(validation_padded.shape)"
   ]
  },
  {
   "cell_type": "code",
   "execution_count": 21,
   "id": "technological-writer",
   "metadata": {},
   "outputs": [
    {
     "name": "stdout",
     "output_type": "stream",
     "text": [
      "[4, 9, 5, 15]\n",
      "[46, 47, 48, 19]\n",
      "[6, 28, 29, 49, 8, 50, 51, 1, 4, 52, 3, 11]\n",
      "(22,)\n",
      "[137, 9, 5, 138, 18]\n",
      "[7, 6, 26, 1, 41, 6, 139, 2, 140, 21, 22, 1, 4, 9, 5, 15]\n",
      "[141, 142, 44, 20, 2, 143, 21, 7, 144]\n",
      "(6,)\n"
     ]
    },
    {
     "name": "stderr",
     "output_type": "stream",
     "text": [
      "<ipython-input-21-d6a83b98cedd>:4: VisibleDeprecationWarning: Creating an ndarray from ragged nested sequences (which is a list-or-tuple of lists-or-tuples-or ndarrays with different lengths or shapes) is deprecated. If you meant to do this, you must specify 'dtype=object' when creating the ndarray\n",
      "  training_label_seq = np.array(label_tokenizer.texts_to_sequences(train_labels))\n",
      "<ipython-input-21-d6a83b98cedd>:5: VisibleDeprecationWarning: Creating an ndarray from ragged nested sequences (which is a list-or-tuple of lists-or-tuples-or ndarrays with different lengths or shapes) is deprecated. If you meant to do this, you must specify 'dtype=object' when creating the ndarray\n",
      "  validation_label_seq = np.array(label_tokenizer.texts_to_sequences(validation_labels))\n"
     ]
    }
   ],
   "source": [
    "label_tokenizer = Tokenizer()\n",
    "label_tokenizer.fit_on_texts(labels)\n",
    "\n",
    "training_label_seq = np.array(label_tokenizer.texts_to_sequences(train_labels))\n",
    "validation_label_seq = np.array(label_tokenizer.texts_to_sequences(validation_labels))\n",
    "print(training_label_seq[0])\n",
    "print(training_label_seq[1])\n",
    "print(training_label_seq[2])\n",
    "print(training_label_seq.shape)\n",
    "\n",
    "print(validation_label_seq[0])\n",
    "print(validation_label_seq[1])\n",
    "print(validation_label_seq[2])\n",
    "print(validation_label_seq.shape)"
   ]
  },
  {
   "cell_type": "code",
   "execution_count": 22,
   "id": "conditional-tiger",
   "metadata": {},
   "outputs": [
    {
     "name": "stdout",
     "output_type": "stream",
     "text": [
      "starter ? ? ? ? ? ? ? ? ? ? ? ? ? ? ? ? ? ? ? ? ? ? ? ? ? ? ? ? ? ? ? ? ? ? ? ? ? ? ? ? ? ? ? ? ? ? ? ? ? ? ? ? ? ? ? ? ? ? ? ? ? ? ? ? ? ? ? ? ? ? ? ? ? ? ? ? ? ? ? ? ? ? ? ? ? ? ? ? ? ? ? ? ? ? ? ? ? ? ? ? ? ? ? ? ? ? ? ? ? ? ? ? ? ? ? ? ? ? ? ? ? ? ? ? ? ? ? ? ? ? ? ? ? ? ? ? ? ? ? ? ? ? ? ? ? ? ? ? ? ? ? ? ? ? ? ? ? ? ? ? ? ? ? ? ? ? ? ? ? ? ? ? ? ? ? ? ? ? ? ? ? ? ? ? ? ? ? ? ? ? ? ? ? ? ? ? ? ? ?\n",
      "---\n",
      "Starter\n"
     ]
    }
   ],
   "source": [
    "reverse_word_index = dict([(value, key) for (key, value) in word_index.items()])\n",
    "\n",
    "def decode_article(text):\n",
    "    return ' '.join([reverse_word_index.get(i, '?') for i in text])\n",
    "print(decode_article(train_padded[10]))\n",
    "print('---')\n",
    "print(train_articles[10])"
   ]
  },
  {
   "cell_type": "code",
   "execution_count": 23,
   "id": "floppy-district",
   "metadata": {},
   "outputs": [
    {
     "name": "stdout",
     "output_type": "stream",
     "text": [
      "Model: \"sequential\"\n",
      "_________________________________________________________________\n",
      "Layer (type)                 Output Shape              Param #   \n",
      "=================================================================\n",
      "embedding (Embedding)        (None, None, 64)          320000    \n",
      "_________________________________________________________________\n",
      "bidirectional (Bidirectional (None, 128)               66048     \n",
      "_________________________________________________________________\n",
      "dense (Dense)                (None, 64)                8256      \n",
      "_________________________________________________________________\n",
      "dense_1 (Dense)              (None, 6)                 390       \n",
      "=================================================================\n",
      "Total params: 394,694\n",
      "Trainable params: 394,694\n",
      "Non-trainable params: 0\n",
      "_________________________________________________________________\n"
     ]
    }
   ],
   "source": [
    "model = tf.keras.Sequential([\n",
    "    # Add an Embedding layer expecting input vocab of size 5000, and output embedding dimension of size 64 we set at the top\n",
    "    tf.keras.layers.Embedding(vocab_size, embedding_dim),\n",
    "    tf.keras.layers.Bidirectional(tf.keras.layers.LSTM(embedding_dim)),\n",
    "#    tf.keras.layers.Bidirectional(tf.keras.layers.LSTM(32)),\n",
    "    # use ReLU in place of tanh function since they are very good alternatives of each other.\n",
    "    tf.keras.layers.Dense(embedding_dim, activation='relu'),\n",
    "    # Add a Dense layer with 6 units and softmax activation.\n",
    "    # When we have multiple outputs, softmax convert outputs layers into a probability distribution.\n",
    "    tf.keras.layers.Dense(6, activation='softmax')\n",
    "])\n",
    "model.summary()"
   ]
  },
  {
   "cell_type": "code",
   "execution_count": 25,
   "id": "returning-passport",
   "metadata": {},
   "outputs": [
    {
     "name": "stdout",
     "output_type": "stream",
     "text": [
      "{'Starter', 'Other', 'Brakes'}\n"
     ]
    }
   ],
   "source": [
    "print(set(articles))"
   ]
  },
  {
   "cell_type": "code",
   "execution_count": null,
   "id": "experienced-edmonton",
   "metadata": {},
   "outputs": [],
   "source": []
  }
 ],
 "metadata": {
  "kernelspec": {
   "display_name": "Python 3",
   "language": "python",
   "name": "python3"
  },
  "language_info": {
   "codemirror_mode": {
    "name": "ipython",
    "version": 3
   },
   "file_extension": ".py",
   "mimetype": "text/x-python",
   "name": "python",
   "nbconvert_exporter": "python",
   "pygments_lexer": "ipython3",
   "version": "3.8.3"
  }
 },
 "nbformat": 4,
 "nbformat_minor": 5
}
