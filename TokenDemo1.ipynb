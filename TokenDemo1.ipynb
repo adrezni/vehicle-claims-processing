{
 "cells": [
  {
   "cell_type": "code",
   "execution_count": 1,
   "metadata": {},
   "outputs": [
    {
     "name": "stdout",
     "output_type": "stream",
     "text": [
      "Word counts:  \n",
      "OrderedDict([('well', 1), ('done', 1), ('good', 1), ('work', 2), ('great', 1), ('effort', 1), ('nice', 1), ('excellent', 1)])\n",
      "Document count:  \n",
      "5\n",
      "Word index:  \n",
      "{'work': 1, 'well': 2, 'done': 3, 'good': 4, 'great': 5, 'effort': 6, 'nice': 7, 'excellent': 8}\n",
      "Word docs:  \n",
      "defaultdict(<class 'int'>, {'done': 1, 'well': 1, 'good': 1, 'work': 2, 'great': 1, 'effort': 1, 'nice': 1, 'excellent': 1})\n",
      "Encoded docs matrix:  \n",
      "[[0. 0. 1. 1. 0. 0. 0. 0. 0.]\n",
      " [0. 1. 0. 0. 1. 0. 0. 0. 0.]\n",
      " [0. 0. 0. 0. 0. 1. 1. 0. 0.]\n",
      " [0. 1. 0. 0. 0. 0. 0. 1. 0.]\n",
      " [0. 0. 0. 0. 0. 0. 0. 0. 1.]]\n"
     ]
    }
   ],
   "source": [
    "from keras.preprocessing.text import Tokenizer\n",
    "from keras.preprocessing.text import hashing_trick, text_to_word_sequence\n",
    "\n",
    "# define 5 documents\n",
    "docs = ['Well done!',\n",
    "\t\t'Good work',\n",
    "\t\t'Great effort',\n",
    "\t\t'nice work',\n",
    "\t\t'Excellent!']\n",
    "# create the tokenizer\n",
    "t = Tokenizer()\n",
    "# fit the tokenizer on the documents\n",
    "t.fit_on_texts(docs)  # Basically, creates a word index and other info\n",
    "# summarize what was learned\n",
    "print(\"Word counts:  \\n{}\".format(t.word_counts))  # Dict of words and their count\n",
    "                                                    # In this example there are 8 unique words\n",
    "print(\"Document count:  \\n{}\".format(t.document_count)) # Number of docs in the fit\n",
    "print(\"Word index:  \\n{}\".format(t.word_index)) # Dict of words and their indexes. Index starts at 1\n",
    "                                                # since 0 is reserved.\n",
    "print(\"Word docs:  \\n{}\".format(t.word_docs)) # Dict of words and how many docs each appeared in\n",
    "# integer encode documents\n",
    "encoded_docs = t.texts_to_matrix(docs) # Matrix of words of each doc. Uses t.word_index for each doc.\n",
    "print(\"Encoded docs matrix:  \\n{}\".format(encoded_docs))"
   ]
  },
  {
   "cell_type": "code",
   "execution_count": null,
   "metadata": {},
   "outputs": [],
   "source": []
  }
 ],
 "metadata": {
  "kernelspec": {
   "display_name": "Python 3",
   "language": "python",
   "name": "python3"
  },
  "language_info": {
   "codemirror_mode": {
    "name": "ipython",
    "version": 3
   },
   "file_extension": ".py",
   "mimetype": "text/x-python",
   "name": "python",
   "nbconvert_exporter": "python",
   "pygments_lexer": "ipython3",
   "version": "3.6.8"
  }
 },
 "nbformat": 4,
 "nbformat_minor": 4
}
