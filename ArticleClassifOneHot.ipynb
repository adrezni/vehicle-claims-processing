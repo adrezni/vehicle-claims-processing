{
 "cells": [
  {
   "cell_type": "code",
   "execution_count": 4,
   "id": "eastern-utility",
   "metadata": {},
   "outputs": [
    {
     "name": "stdout",
     "output_type": "stream",
     "text": [
      "Requirement already satisfied: keras in /opt/app-root/lib/python3.8/site-packages (2.4.3)\n",
      "Requirement already satisfied: pyyaml in /opt/app-root/lib/python3.8/site-packages (from keras) (5.4.1)\n",
      "Requirement already satisfied: numpy>=1.9.1 in /opt/app-root/lib/python3.8/site-packages (from keras) (1.19.5)\n",
      "Requirement already satisfied: scipy>=0.14 in /opt/app-root/lib/python3.8/site-packages (from keras) (1.6.2)\n",
      "Requirement already satisfied: h5py in /opt/app-root/lib/python3.8/site-packages (from keras) (2.10.0)\n",
      "Requirement already satisfied: six in /opt/app-root/lib/python3.8/site-packages (from h5py->keras) (1.15.0)\n",
      "Collecting sklearn\n",
      "  Downloading sklearn-0.0.tar.gz (1.1 kB)\n",
      "Collecting scikit-learn\n",
      "  Downloading scikit_learn-0.24.1-cp38-cp38-manylinux2010_x86_64.whl (24.9 MB)\n",
      "\u001b[K     |████████████████████████████████| 24.9 MB 16.5 MB/s eta 0:00:01\n",
      "\u001b[?25hRequirement already satisfied: numpy>=1.13.3 in /opt/app-root/lib/python3.8/site-packages (from scikit-learn->sklearn) (1.19.5)\n",
      "Collecting threadpoolctl>=2.0.0\n",
      "  Downloading threadpoolctl-2.1.0-py3-none-any.whl (12 kB)\n",
      "Requirement already satisfied: scipy>=0.19.1 in /opt/app-root/lib/python3.8/site-packages (from scikit-learn->sklearn) (1.6.2)\n",
      "Requirement already satisfied: joblib>=0.11 in /opt/app-root/lib/python3.8/site-packages (from scikit-learn->sklearn) (1.0.1)\n",
      "Building wheels for collected packages: sklearn\n",
      "  Building wheel for sklearn (setup.py) ... \u001b[?25ldone\n",
      "\u001b[?25h  Created wheel for sklearn: filename=sklearn-0.0-py2.py3-none-any.whl size=1316 sha256=1ffc92d552eef1b72521d68b8ad70a4370d333084302af12de0e5c773a6b3030\n",
      "  Stored in directory: /tmp/pip-ephem-wheel-cache-ramoyh5z/wheels/22/0b/40/fd3f795caaa1fb4c6cb738bc1f56100be1e57da95849bfc897\n",
      "Successfully built sklearn\n",
      "Installing collected packages: threadpoolctl, scikit-learn, sklearn\n",
      "Successfully installed scikit-learn-0.24.1 sklearn-0.0 threadpoolctl-2.1.0\n"
     ]
    }
   ],
   "source": [
    "!pip install keras\n",
    "!pip install sklearn"
   ]
  },
  {
   "cell_type": "code",
   "execution_count": 5,
   "id": "welsh-contract",
   "metadata": {},
   "outputs": [],
   "source": [
    "import csv\n",
    "import tensorflow as tf\n",
    "import numpy as np\n",
    "from tensorflow.keras.preprocessing.text import Tokenizer\n",
    "from tensorflow.keras.preprocessing.sequence import pad_sequences\n",
    "from nltk.corpus import stopwords\n",
    "import matplotlib.pyplot as plt\n",
    "from keras.utils import to_categorical\n",
    "from sklearn.preprocessing import LabelEncoder"
   ]
  },
  {
   "cell_type": "code",
   "execution_count": 6,
   "id": "female-capitol",
   "metadata": {},
   "outputs": [],
   "source": [
    "STOPWORDS = set(stopwords.words('english'))\n",
    "\n",
    "vocab_size = 5000\n",
    "embedding_dim = 64\n",
    "max_length = 200\n",
    "trunc_type = 'post'\n",
    "padding_type = 'post'\n",
    "oov_tok = '<OOV>'\n",
    "training_portion = .8"
   ]
  },
  {
   "cell_type": "code",
   "execution_count": 7,
   "id": "french-strip",
   "metadata": {},
   "outputs": [
    {
     "name": "stdout",
     "output_type": "stream",
     "text": [
      "2225\n",
      "2225\n"
     ]
    }
   ],
   "source": [
    "articles = []\n",
    "labels = []\n",
    "\n",
    "with open(\"bbc-text.csv\", 'r') as csvfile:\n",
    "    reader = csv.reader(csvfile, delimiter=',')\n",
    "    next(reader)\n",
    "    for row in reader:\n",
    "        labels.append(row[0])\n",
    "        article = row[1]\n",
    "        for word in STOPWORDS:\n",
    "            token = ' ' + word + ' '\n",
    "            article = article.replace(token, ' ')\n",
    "            article = article.replace(' ', ' ')\n",
    "        articles.append(article)\n",
    "print(len(labels))\n",
    "print(len(articles))"
   ]
  },
  {
   "cell_type": "code",
   "execution_count": 8,
   "id": "incorporate-shopping",
   "metadata": {},
   "outputs": [
    {
     "name": "stdout",
     "output_type": "stream",
     "text": [
      "1780\n",
      "1780\n",
      "1780\n",
      "445\n",
      "445\n"
     ]
    },
    {
     "data": {
      "text/plain": [
       "{'<OOV>': 1,\n",
       " 'said': 2,\n",
       " 'mr': 3,\n",
       " 'would': 4,\n",
       " 'year': 5,\n",
       " 'also': 6,\n",
       " 'people': 7,\n",
       " 'new': 8,\n",
       " 'us': 9,\n",
       " 'one': 10}"
      ]
     },
     "execution_count": 8,
     "metadata": {},
     "output_type": "execute_result"
    }
   ],
   "source": [
    "train_size = int(len(articles) * training_portion)\n",
    "\n",
    "train_articles = articles[0: train_size]\n",
    "label_encoder = LabelEncoder()\n",
    "\n",
    "train_labels = labels[0: train_size]\n",
    "train_labels = label_encoder.fit_transform(np.array(train_labels))\n",
    "train_labels = to_categorical(train_labels)\n",
    "\n",
    "validation_articles = articles[train_size:]\n",
    "validation_labels = labels[train_size:]\n",
    "validation_labels = label_encoder.fit_transform(np.array(validation_labels))\n",
    "\n",
    "validation_labels = to_categorical(validation_labels)\n",
    "\n",
    "print(train_size)\n",
    "print(len(train_articles))\n",
    "print(len(train_labels))\n",
    "print(len(validation_articles))\n",
    "print(len(validation_labels))\n",
    "\n",
    "tokenizer = Tokenizer(num_words=vocab_size, oov_token=oov_tok)\n",
    "tokenizer.fit_on_texts(train_articles)\n",
    "word_index = tokenizer.word_index\n",
    "\n",
    "\n",
    "dict(list(word_index.items())[0:10])"
   ]
  },
  {
   "cell_type": "code",
   "execution_count": 14,
   "id": "dressed-application",
   "metadata": {},
   "outputs": [
    {
     "name": "stdout",
     "output_type": "stream",
     "text": [
      "[2432, 1, 225, 4994, 22, 641, 586, 225, 4994, 1, 1, 1662, 1, 1, 2432, 22, 564, 1, 1, 140, 278, 1, 140, 278, 796, 823, 662, 2308, 1, 1144, 1693, 1, 1720, 4995, 1, 1, 1, 1, 1, 4737, 1, 1, 122, 4514, 1, 2, 2875, 1505, 352, 4738, 1, 52, 341, 1, 352, 2172, 3961, 41, 22, 3793, 1, 1, 1, 1, 542, 1, 1, 1, 835, 631, 2367, 347, 4739, 1, 365, 22, 1, 787, 2368, 1, 4301, 138, 10, 1, 3664, 682, 3531, 1, 22, 1, 414, 823, 662, 1, 90, 13, 633, 1, 225, 4994, 1, 599, 1, 1693, 1021, 1, 4996, 808, 1864, 117, 1, 1, 1, 2975, 22, 1, 99, 278, 1, 1606, 4997, 542, 492, 1, 1444, 4740, 779, 1320, 1, 1861, 10, 33, 641, 319, 1, 62, 478, 564, 301, 1506, 22, 479, 1, 1, 1665, 1, 797, 1, 3067, 1, 1364, 6, 1, 2432, 564, 22, 2972, 4734, 1, 1, 1, 1, 1, 850, 39, 1825, 675, 297, 26, 979, 1, 882, 22, 361, 22, 13, 301, 1506, 1342, 374, 20, 63, 883, 1096, 4302, 247]\n",
      "426\n",
      "200\n",
      "192\n",
      "200\n",
      "186\n",
      "200\n",
      "[2432, 1, 225, 4994, 22, 641, 586, 225, 4994, 1, 1, 1662, 1, 1, 2432, 22, 564, 1, 1, 140, 278, 1, 140, 278, 796, 823, 662, 2308, 1, 1144, 1693, 1, 1720, 4995, 1, 1, 1, 1, 1, 4737, 1, 1, 122, 4514, 1, 2, 2875, 1505, 352, 4738, 1, 52, 341, 1, 352, 2172, 3961, 41, 22, 3793, 1, 1, 1, 1, 542, 1, 1, 1, 835, 631, 2367, 347, 4739, 1, 365, 22, 1, 787, 2368, 1, 4301, 138, 10, 1, 3664, 682, 3531, 1, 22, 1, 414, 823, 662, 1, 90, 13, 633, 1, 225, 4994, 1, 599, 1, 1693, 1021, 1, 4996, 808, 1864, 117, 1, 1, 1, 2975, 22, 1, 99, 278, 1, 1606, 4997, 542, 492, 1, 1444, 4740, 779, 1320, 1, 1861, 10, 33, 641, 319, 1, 62, 478, 564, 301, 1506, 22, 479, 1, 1, 1665, 1, 797, 1, 3067, 1, 1364, 6, 1, 2432, 564, 22, 2972, 4734, 1, 1, 1, 1, 1, 850, 39, 1825, 675, 297, 26, 979, 1, 882, 22, 361, 22, 13, 301, 1506, 1342, 374, 20, 63, 883, 1096, 4302, 247]\n",
      "[2432    1  225 4994   22  641  586  225 4994    1    1 1662    1    1\n",
      " 2432   22  564    1    1  140  278    1  140  278  796  823  662 2308\n",
      "    1 1144 1693    1 1720 4995    1    1    1    1    1 4737    1    1\n",
      "  122 4514    1    2 2875 1505  352 4738    1   52  341    1  352 2172\n",
      " 3961   41   22 3793    1    1    1    1  542    1    1    1  835  631\n",
      " 2367  347 4739    1  365   22    1  787 2368    1 4301  138   10    1\n",
      " 3664  682 3531    1   22    1  414  823  662    1   90   13  633    1\n",
      "  225 4994    1  599    1 1693 1021    1 4996  808 1864  117    1    1\n",
      "    1 2975   22    1   99  278    1 1606 4997  542  492    1 1444 4740\n",
      "  779 1320    1 1861   10   33  641  319    1   62  478  564  301 1506\n",
      "   22  479    1    1 1665    1  797    1 3067    1 1364    6    1 2432\n",
      "  564   22 2972 4734    1    1    1    1    1  850   39 1825  675  297\n",
      "   26  979    1  882   22  361   22   13  301 1506 1342  374   20   63\n",
      "  883 1096 4302  247    0    0    0    0    0    0    0    0    0    0\n",
      "    0    0    0    0]\n",
      "[91, 160, 1141, 1106, 49, 979, 755, 1, 89, 1304, 4288, 129, 175, 3653, 1213, 1194, 1576, 42, 7, 893, 91, 1, 334, 85, 20, 14, 130, 3262, 1214, 2422, 569, 451, 1375, 58, 3378, 3521, 1660, 8, 921, 730, 10, 844, 1, 9, 598, 1577, 1107, 395, 1940, 1106, 731, 49, 537, 1397, 2010, 1622, 134, 249, 113, 2356, 795, 4979, 980, 583, 10, 3955, 3956, 921, 2564, 129, 344, 175, 3653, 1, 1, 39, 62, 2868, 28, 9, 4722, 18, 1305, 136, 416, 7, 143, 1423, 71, 4501, 436, 4980, 91, 1107, 77, 1, 82, 2011, 53, 1, 91, 6, 1008, 609, 89, 1304, 91, 1963, 131, 137, 420, 9, 2869, 38, 152, 1233, 89, 1304, 4723, 7, 436, 4980, 3154, 6, 2493, 1, 431, 1126, 1, 1424, 570, 1260, 1902, 1, 766, 9, 537, 1397, 2010, 134, 2068, 400, 845, 1964, 1599, 34, 1716, 2870, 1, 1, 2423, 244, 9, 2626, 82, 732, 6, 1172, 1195, 152, 720, 590, 1, 124, 28, 1305, 1689, 432, 83, 933, 115, 20, 14, 18, 3155, 1, 37, 1484, 1, 23, 37, 87, 335, 2357, 37, 467, 255, 1964, 1358, 328, 1, 299, 732, 1173, 18, 2871, 1716, 1, 294, 756, 1074, 395, 2012, 387, 431, 2012, 2, 1359, 1, 1716, 2166, 67, 1, 1, 1717, 249, 1661, 3060, 1174, 395, 41, 878, 1530, 246, 2794, 345, 53, 547, 400, 2, 1, 1, 655, 1360, 203, 91, 3957, 91, 90, 42, 7, 320, 395, 77, 893, 1, 91, 1106, 400, 537, 9, 845, 2423, 11, 38, 1, 995, 513, 483, 2069, 160, 571, 1, 128, 7, 320, 77, 893, 1215, 1126, 1463, 346, 54, 2215, 1216, 741, 92, 256, 274, 1019, 71, 623, 346, 2424, 756, 1214, 2358, 1718, 1, 3782, 3522, 1, 1126, 2012, 177, 371, 1398, 77, 53, 547, 105, 1141, 3, 1, 1047, 93, 2963, 1, 2627, 1, 102, 902, 440, 452, 2, 3, 1, 2872, 451, 1425, 43, 77, 429, 31, 8, 1019, 921, 1, 2564, 30, 1, 91, 1690, 879, 89, 1304, 91, 1963, 1, 30, 8, 1623, 1, 1, 4289, 1578, 4288, 656, 1, 3783, 1008, 571, 4290, 2868, 10, 880, 656, 58, 1, 1261, 1, 1, 91, 1553, 934, 4722, 1, 576, 4105, 10, 9, 235, 2010, 91, 134, 1, 95, 656, 3263, 1, 58, 519, 673, 2628, 3783, 4981, 3379, 483, 4724, 39, 4501, 1, 91, 1747, 673, 269, 116, 239, 2629, 354, 643, 58, 4106, 757, 3654, 4722, 146, 1, 400, 7, 71, 1748, 1107, 767, 910, 118, 583, 3380, 1316, 1577, 1, 1600, 7, 893, 77, 77]\n",
      "[  91  160 1141 1106   49  979  755    1   89 1304 4288  129  175 3653\n",
      " 1213 1194 1576   42    7  893   91    1  334   85   20   14  130 3262\n",
      " 1214 2422  569  451 1375   58 3378 3521 1660    8  921  730   10  844\n",
      "    1    9  598 1577 1107  395 1940 1106  731   49  537 1397 2010 1622\n",
      "  134  249  113 2356  795 4979  980  583   10 3955 3956  921 2564  129\n",
      "  344  175 3653    1    1   39   62 2868   28    9 4722   18 1305  136\n",
      "  416    7  143 1423   71 4501  436 4980   91 1107   77    1   82 2011\n",
      "   53    1   91    6 1008  609   89 1304   91 1963  131  137  420    9\n",
      " 2869   38  152 1233   89 1304 4723    7  436 4980 3154    6 2493    1\n",
      "  431 1126    1 1424  570 1260 1902    1  766    9  537 1397 2010  134\n",
      " 2068  400  845 1964 1599   34 1716 2870    1    1 2423  244    9 2626\n",
      "   82  732    6 1172 1195  152  720  590    1  124   28 1305 1689  432\n",
      "   83  933  115   20   14   18 3155    1   37 1484    1   23   37   87\n",
      "  335 2357   37  467  255 1964 1358  328    1  299  732 1173   18 2871\n",
      " 1716    1  294  756]\n",
      "445\n",
      "(445, 200)\n",
      "{'tech', 'entertainment', 'business', 'sport', 'politics'}\n"
     ]
    }
   ],
   "source": [
    "train_sequences = tokenizer.texts_to_sequences(train_articles)\n",
    "\n",
    "print(train_sequences[10])\n",
    "\n",
    "train_padded = pad_sequences(train_sequences, maxlen=max_length, padding=padding_type, truncating=trunc_type)\n",
    "\n",
    "print(len(train_sequences[0]))\n",
    "print(len(train_padded[0]))\n",
    "\n",
    "print(len(train_sequences[1]))\n",
    "print(len(train_padded[1]))\n",
    "\n",
    "print(len(train_sequences[10]))\n",
    "print(len(train_padded[10]))\n",
    "\n",
    "print(train_sequences[10])\n",
    "\n",
    "print(train_padded[10])\n",
    "\n",
    "print(train_sequences[0])\n",
    "\n",
    "print(train_padded[0])\n",
    "\n",
    "validation_sequences = tokenizer.texts_to_sequences(validation_articles)\n",
    "validation_padded = pad_sequences(validation_sequences, maxlen=max_length, padding=padding_type, truncating=trunc_type)\n",
    "\n",
    "print(len(validation_sequences))\n",
    "print(validation_padded.shape)\n",
    "\n",
    "print(set(labels))\n",
    "\n",
    "\n",
    "\n",
    "#label_tokenizer = Tokenizer()\n",
    "#label_tokenizer.fit_on_texts(labels)\n",
    "\n",
    "#training_label_seq = np.array(label_tokenizer.texts_to_sequences(train_labels))\n",
    "#validation_label_seq = np.array(label_tokenizer.texts_to_sequences(validation_labels))\n",
    "\n",
    "#print(training_label_seq[0])\n",
    "#print(training_label_seq[1])\n",
    "#print(training_label_seq[2])\n",
    "#print(training_label_seq.shape)\n",
    "\n",
    "#print(validation_label_seq[0])\n",
    "#print(validation_label_seq[1])\n",
    "#print(validation_label_seq[2])\n",
    "#print(validation_label_seq.shape)\n",
    "\n",
    "#{'tech', 'entertainment', 'business', 'sport', 'politics'}\n"
   ]
  },
  {
   "cell_type": "code",
   "execution_count": 15,
   "id": "impaired-communist",
   "metadata": {},
   "outputs": [
    {
     "name": "stdout",
     "output_type": "stream",
     "text": [
      "berlin <OOV> anti nazi film german movie anti nazi <OOV> <OOV> drawn <OOV> <OOV> berlin film festival <OOV> <OOV> final days <OOV> final days member white rose movement <OOV> 21 arrested <OOV> brother hans <OOV> <OOV> <OOV> <OOV> <OOV> tyranny <OOV> <OOV> director marc <OOV> said feeling responsibility keep legacy <OOV> going must <OOV> keep ideas alive added film drew <OOV> <OOV> <OOV> <OOV> trial <OOV> <OOV> <OOV> east germany secret police discovery <OOV> behind film <OOV> worked closely <OOV> relatives including one <OOV> sisters ensure historical <OOV> film <OOV> members white rose <OOV> group first started <OOV> anti nazi <OOV> summer <OOV> arrested dropped <OOV> munich university calling day <OOV> <OOV> <OOV> regime film <OOV> six days <OOV> arrest intense trial saw <OOV> initially deny charges ended <OOV> appearance one three german films <OOV> top prize festival south african film version <OOV> <OOV> opera <OOV> shot <OOV> town <OOV> language also <OOV> berlin festival film entitled u <OOV> <OOV> <OOV> <OOV> <OOV> story set performed 40 strong music theatre <OOV> debut film performance film first south african feature 25 years second nominated golden bear award ? ? ? ? ? ? ? ? ? ? ? ? ? ?\n",
      "---\n",
      "berlin cheers anti-nazi film german movie anti-nazi resistance heroine drawn loud applause berlin film festival.  sophie scholl - final days portrays final days member white rose movement. scholl  21  arrested beheaded brother  hans  1943 distributing leaflets condemning  abhorrent tyranny  adolf hitler. director marc rothemund said:  feeling responsibility keep legacy scholls going.   must somehow keep ideas alive   added.  film drew transcripts gestapo interrogations scholl trial preserved archive communist east germany secret police. discovery inspiration behind film rothemund  worked closely surviving relatives  including one scholl sisters  ensure historical accuracy film. scholl members white rose resistance group first started distributing anti-nazi leaflets summer 1942. arrested dropped leaflets munich university calling  day reckoning  adolf hitler regime. film focuses six days scholl arrest intense trial saw scholl initially deny charges ended defiant appearance. one three german films vying top prize festival.  south african film version bizet tragic opera carmen shot cape town xhosa language also premiered berlin festival. film entitled u-carmen ekhayelitsha carmen khayelitsha township story set. performed 40-strong music theatre troupe debut film performance. film first south african feature 25 years second nominated golden bear award.\n"
     ]
    }
   ],
   "source": [
    "reverse_word_index = dict([(value, key) for (key, value) in word_index.items()])\n",
    "\n",
    "\n",
    "def decode_article(text):\n",
    "    return ' '.join([reverse_word_index.get(i, '?') for i in text])\n",
    "\n",
    "\n",
    "print(decode_article(train_padded[10]))\n",
    "print('---')\n",
    "print(train_articles[10])"
   ]
  },
  {
   "cell_type": "code",
   "execution_count": 16,
   "id": "gross-married",
   "metadata": {},
   "outputs": [
    {
     "name": "stdout",
     "output_type": "stream",
     "text": [
      "Model: \"sequential_1\"\n",
      "_________________________________________________________________\n",
      "Layer (type)                 Output Shape              Param #   \n",
      "=================================================================\n",
      "embedding_1 (Embedding)      (None, None, 64)          320000    \n",
      "_________________________________________________________________\n",
      "bidirectional_1 (Bidirection (None, 128)               66048     \n",
      "_________________________________________________________________\n",
      "dense_2 (Dense)              (None, 64)                8256      \n",
      "_________________________________________________________________\n",
      "dense_3 (Dense)              (None, 5)                 325       \n",
      "=================================================================\n",
      "Total params: 394,629\n",
      "Trainable params: 394,629\n",
      "Non-trainable params: 0\n",
      "_________________________________________________________________\n"
     ]
    }
   ],
   "source": [
    "model = tf.keras.Sequential([\n",
    "    # Add an Embedding layer expecting input vocab of size 5000, and output embedding dimension of size 64 we set at the top\n",
    "    tf.keras.layers.Embedding(vocab_size, embedding_dim),\n",
    "    tf.keras.layers.Bidirectional(tf.keras.layers.LSTM(embedding_dim)),\n",
    "    #    tf.keras.layers.Bidirectional(tf.keras.layers.LSTM(32)),\n",
    "    # use ReLU in place of tanh function since they are very good alternatives of each other.\n",
    "    tf.keras.layers.Dense(embedding_dim, activation='relu'),\n",
    "    # Add a Dense layer with 6 units and softmax activation.\n",
    "    # When we have multiple outputs, softmax convert outputs layers into a probability distribution.\n",
    "    tf.keras.layers.Dense(5, activation='softmax')\n",
    "])\n",
    "model.summary()\n",
    "\n",
    "model.compile(loss='categorical_crossentropy', optimizer='adam', metrics=['accuracy'])"
   ]
  },
  {
   "cell_type": "code",
   "execution_count": 17,
   "id": "linear-folks",
   "metadata": {},
   "outputs": [
    {
     "name": "stdout",
     "output_type": "stream",
     "text": [
      "Epoch 1/3\n",
      "56/56 - 8s - loss: 1.4570 - accuracy: 0.3522 - val_loss: 1.0688 - val_accuracy: 0.5596\n",
      "Epoch 2/3\n",
      "56/56 - 5s - loss: 0.6596 - accuracy: 0.8067 - val_loss: 0.3924 - val_accuracy: 0.8472\n",
      "Epoch 3/3\n",
      "56/56 - 5s - loss: 0.2842 - accuracy: 0.9028 - val_loss: 0.3672 - val_accuracy: 0.8629\n"
     ]
    }
   ],
   "source": [
    "\n",
    "num_epochs = 3\n",
    "history = model.fit(train_padded, train_labels, epochs=num_epochs,\n",
    "                    validation_data=(validation_padded, validation_labels), verbose=2)\n",
    "\n",
    "\n",
    "model.save('articleclassif.h5')"
   ]
  },
  {
   "cell_type": "code",
   "execution_count": 18,
   "id": "english-resident",
   "metadata": {},
   "outputs": [
    {
     "data": {
      "image/png": "[encoded data removed]",
      "text/plain": [
       "<Figure size 432x288 with 1 Axes>"
      ]
     },
     "metadata": {
      "needs_background": "light"
     },
     "output_type": "display_data"
    },
    {
     "data": {
      "image/png": "[encoded data removed]",
      "text/plain": [
       "<Figure size 432x288 with 1 Axes>"
      ]
     },
     "metadata": {
      "needs_background": "light"
     },
     "output_type": "display_data"
    }
   ],
   "source": [
    "def plot_graphs(history, string):\n",
    "    plt.plot(history.history[string])\n",
    "    plt.plot(history.history['val_' + string])\n",
    "    plt.xlabel(\"Epochs\")\n",
    "    plt.ylabel(string)\n",
    "    plt.legend([string, 'val_' + string])\n",
    "    plt.show()\n",
    "\n",
    "plot_graphs(history, \"accuracy\")\n",
    "plot_graphs(history, \"loss\")"
   ]
  },
  {
   "cell_type": "code",
   "execution_count": 19,
   "id": "allied-instruction",
   "metadata": {},
   "outputs": [
    {
     "name": "stdout",
     "output_type": "stream",
     "text": [
      "[[0.03917184 0.00544926 0.03968498 0.9009444  0.01474949]] sport\n"
     ]
    }
   ],
   "source": [
    "#label_mapping = label_tokenizer.index_word\n",
    "\n",
    "#txt = [\n",
    "#    \"A WeWork shareholder has taken the company to court over the near-$1.7bn (£1.3bn) leaving package approved for ousted co-founder Adam Neumann.\"]\n",
    "txt = [\"The Republicans and Democrats are together on the senate vote\"]\n",
    "seq = tokenizer.texts_to_sequences(txt)\n",
    "padded = pad_sequences(seq, maxlen=max_length)\n",
    "pred = model.predict(padded)\n",
    "\n",
    "a = np.argmax(pred)\n",
    "\n",
    "model_labels = label_encoder.classes_\n",
    "\n",
    "#print(a)\n",
    "print(pred, model_labels[np.argmax(pred)])"
   ]
  },
  {
   "cell_type": "code",
   "execution_count": null,
   "id": "sought-parade",
   "metadata": {},
   "outputs": [],
   "source": []
  }
 ],
 "metadata": {
  "kernelspec": {
   "display_name": "Python 3",
   "language": "python",
   "name": "python3"
  },
  "language_info": {
   "codemirror_mode": {
    "name": "ipython",
    "version": 3
   },
   "file_extension": ".py",
   "mimetype": "text/x-python",
   "name": "python",
   "nbconvert_exporter": "python",
   "pygments_lexer": "ipython3",
   "version": "3.8.3"
  }
 },
 "nbformat": 4,
 "nbformat_minor": 5
}
